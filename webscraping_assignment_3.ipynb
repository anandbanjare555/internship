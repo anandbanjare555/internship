{
 "cells": [
  {
   "cell_type": "markdown",
   "id": "36142a4e-2fd1-41ec-aaff-d3c2e9deb8d0",
   "metadata": {},
   "source": [
    "# 1. Write a python program which searches all the product under a particular product from www.amazon.in. The product to be searched will be taken as input from user. For e.g. If user input is ‘guitar’. Then search for guitars. "
   ]
  },
  {
   "cell_type": "code",
   "execution_count": 1,
   "id": "2fd37c4e-dd3c-4d93-81d3-3c20b55db527",
   "metadata": {
    "tags": []
   },
   "outputs": [
    {
     "name": "stdout",
     "output_type": "stream",
     "text": [
      "Requirement already satisfied: selenium in c:\\users\\anand\\anaconda3\\lib\\site-packages (4.18.1)\n",
      "Requirement already satisfied: urllib3[socks]<3,>=1.26 in c:\\users\\anand\\anaconda3\\lib\\site-packages (from selenium) (1.26.16)\n",
      "Requirement already satisfied: trio~=0.17 in c:\\users\\anand\\anaconda3\\lib\\site-packages (from selenium) (0.24.0)\n",
      "Requirement already satisfied: trio-websocket~=0.9 in c:\\users\\anand\\anaconda3\\lib\\site-packages (from selenium) (0.11.1)\n",
      "Requirement already satisfied: certifi>=2021.10.8 in c:\\users\\anand\\anaconda3\\lib\\site-packages (from selenium) (2023.7.22)\n",
      "Requirement already satisfied: typing_extensions>=4.9.0 in c:\\users\\anand\\anaconda3\\lib\\site-packages (from selenium) (4.9.0)\n",
      "Requirement already satisfied: attrs>=20.1.0 in c:\\users\\anand\\anaconda3\\lib\\site-packages (from trio~=0.17->selenium) (22.1.0)\n",
      "Requirement already satisfied: sortedcontainers in c:\\users\\anand\\anaconda3\\lib\\site-packages (from trio~=0.17->selenium) (2.4.0)\n",
      "Requirement already satisfied: idna in c:\\users\\anand\\anaconda3\\lib\\site-packages (from trio~=0.17->selenium) (3.4)\n",
      "Requirement already satisfied: outcome in c:\\users\\anand\\anaconda3\\lib\\site-packages (from trio~=0.17->selenium) (1.3.0.post0)\n",
      "Requirement already satisfied: sniffio>=1.3.0 in c:\\users\\anand\\anaconda3\\lib\\site-packages (from trio~=0.17->selenium) (1.3.0)\n",
      "Requirement already satisfied: cffi>=1.14 in c:\\users\\anand\\anaconda3\\lib\\site-packages (from trio~=0.17->selenium) (1.15.1)\n",
      "Requirement already satisfied: wsproto>=0.14 in c:\\users\\anand\\anaconda3\\lib\\site-packages (from trio-websocket~=0.9->selenium) (1.2.0)\n",
      "Requirement already satisfied: PySocks!=1.5.7,<2.0,>=1.5.6 in c:\\users\\anand\\anaconda3\\lib\\site-packages (from urllib3[socks]<3,>=1.26->selenium) (1.7.1)\n",
      "Requirement already satisfied: pycparser in c:\\users\\anand\\anaconda3\\lib\\site-packages (from cffi>=1.14->trio~=0.17->selenium) (2.21)\n",
      "Requirement already satisfied: h11<1,>=0.9.0 in c:\\users\\anand\\anaconda3\\lib\\site-packages (from wsproto>=0.14->trio-websocket~=0.9->selenium) (0.14.0)\n"
     ]
    }
   ],
   "source": [
    "!pip install selenium\n"
   ]
  },
  {
   "cell_type": "code",
   "execution_count": 2,
   "id": "46ad197a-c2aa-46dd-8857-7b0c315e4e19",
   "metadata": {
    "tags": []
   },
   "outputs": [],
   "source": [
    "import selenium\n",
    "import pandas as pd\n",
    "from selenium import webdriver\n",
    "import warnings\n",
    "warnings.filterwarnings('ignore')\n",
    "from selenium.webdriver.common.by import By\n",
    "import time"
   ]
  },
  {
   "cell_type": "code",
   "execution_count": 3,
   "id": "4630ecb2-3cd2-4452-abc0-718d9138f9a9",
   "metadata": {
    "tags": []
   },
   "outputs": [],
   "source": [
    "driver=webdriver.Chrome()"
   ]
  },
  {
   "cell_type": "code",
   "execution_count": 6,
   "id": "4576805e-fc32-4c85-9e06-acb173a1667a",
   "metadata": {
    "tags": []
   },
   "outputs": [
    {
     "name": "stdin",
     "output_type": "stream",
     "text": [
      "Enter product to search on Amazon:  guitar\n"
     ]
    }
   ],
   "source": [
    "product = input(\"Enter product to search on Amazon: \")\n",
    "driver.get(\"https://www.amazon.in\")\n",
    "search_box = driver.find_element(By.ID, \"twotabsearchtextbox\")\n",
    "search_box.send_keys(product)\n",
    "search_button = driver.find_element(By.ID, \"nav-search-submit-button\")\n",
    "search_button.click()"
   ]
  },
  {
   "cell_type": "markdown",
   "id": "fe591113-3377-4bd4-819f-440065bd5489",
   "metadata": {},
   "source": [
    "# 2. In the above question, now scrape the following details of each product listed in first 3 pages of your search results and save it in a data frame and csv. In case if any product has less than 3 pages in search results then scrape all the products available under that product name. Details to be scraped are: \"Brand Name\", \"Name of the Product\", \"Price\", \"Return/Exchange\", \"Expected Delivery\", \"Availability\" and “Product URL”. In case, if any of the details are missing for any of the product then replace it by “-“. \n"
   ]
  },
  {
   "cell_type": "code",
   "execution_count": 47,
   "id": "f8bae9a6-b12d-4e73-8951-90ba78abd4f2",
   "metadata": {
    "tags": []
   },
   "outputs": [],
   "source": [
    "from selenium import webdriver\n",
    "import time \n",
    "from selenium.common.exceptions import NoSuchElementException # importing exception\n",
    "import warnings\n",
    "warnings.filterwarnings('ignore')\n",
    "from selenium.webdriver.common.by import By\n"
   ]
  },
  {
   "cell_type": "code",
   "execution_count": 48,
   "id": "9894772c-cfc3-4061-a0d2-56f0a21e6ce9",
   "metadata": {
    "tags": []
   },
   "outputs": [],
   "source": [
    "driver=webdriver.Chrome()"
   ]
  },
  {
   "cell_type": "code",
   "execution_count": 49,
   "id": "f6bed61f-bceb-457f-9082-7719d2bf199b",
   "metadata": {
    "tags": []
   },
   "outputs": [],
   "source": [
    "driver.get(\"https://www.amazon.in\")"
   ]
  },
  {
   "cell_type": "code",
   "execution_count": 50,
   "id": "b9d7d6d2-cde5-4165-84c9-42fe2f472bd7",
   "metadata": {
    "tags": []
   },
   "outputs": [],
   "source": [
    "product_name=driver.find_element(By.XPATH,\"/html/body/div[1]/header/div/div[1]/div[2]/div/form/div[2]/div[1]/input\")\n",
    "product_name.send_keys('guitar Best seller')"
   ]
  },
  {
   "cell_type": "code",
   "execution_count": 51,
   "id": "e98dbfbc-4feb-4534-9543-d656af1d7581",
   "metadata": {
    "tags": []
   },
   "outputs": [],
   "source": [
    "search=driver.find_element(By.XPATH,\"/html/body/div[1]/header/div/div[1]/div[2]/div/form/div[3]/div/span/input\")\n",
    "search.click()\n",
    "time.sleep(3)"
   ]
  },
  {
   "cell_type": "code",
   "execution_count": 52,
   "id": "6e0fc313-befb-483a-9c06-ccaf8883f96b",
   "metadata": {
    "tags": []
   },
   "outputs": [],
   "source": [
    "# scrape all product urls\n",
    "product_urls=[]\n",
    "start=0\n",
    "end=3\n",
    "for page in range(start,end): # for loop for scrapping 3 page\n",
    "    url=driver.find_elements(By.XPATH,'//a[@class=\"a-link-normal s-underline-text s-underline-link-text s-link-style a-text-normal\"]')\n",
    "    for i in url:\n",
    "        product_urls.append(i.get_attribute('href'))\n",
    "    nxt_button=driver.find_element(By.XPATH,'//a[@class=\"s-pagination-item s-pagination-next s-pagination-button s-pagination-separator\"]') \n",
    "    nxt_button.click()\n",
    "    time.sleep(2)"
   ]
  },
  {
   "cell_type": "code",
   "execution_count": 53,
   "id": "e1be7e06-b79b-4d70-83bd-076bb2bc3b13",
   "metadata": {
    "tags": []
   },
   "outputs": [
    {
     "data": {
      "text/plain": [
       "185"
      ]
     },
     "execution_count": 53,
     "metadata": {},
     "output_type": "execute_result"
    }
   ],
   "source": [
    "len(product_urls)"
   ]
  },
  {
   "cell_type": "code",
   "execution_count": 54,
   "id": "15b05e80-8803-4b56-a726-496a77fb80c8",
   "metadata": {
    "tags": []
   },
   "outputs": [
    {
     "data": {
      "text/html": [
       "<div>\n",
       "<style scoped>\n",
       "    .dataframe tbody tr th:only-of-type {\n",
       "        vertical-align: middle;\n",
       "    }\n",
       "\n",
       "    .dataframe tbody tr th {\n",
       "        vertical-align: top;\n",
       "    }\n",
       "\n",
       "    .dataframe thead th {\n",
       "        text-align: right;\n",
       "    }\n",
       "</style>\n",
       "<table border=\"1\" class=\"dataframe\">\n",
       "  <thead>\n",
       "    <tr style=\"text-align: right;\">\n",
       "      <th></th>\n",
       "      <th>product_urls</th>\n",
       "    </tr>\n",
       "  </thead>\n",
       "  <tbody>\n",
       "    <tr>\n",
       "      <th>0</th>\n",
       "      <td>https://www.amazon.in/sspa/click?ie=UTF8&amp;spc=M...</td>\n",
       "    </tr>\n",
       "    <tr>\n",
       "      <th>1</th>\n",
       "      <td>https://www.amazon.in/sspa/click?ie=UTF8&amp;spc=M...</td>\n",
       "    </tr>\n",
       "    <tr>\n",
       "      <th>2</th>\n",
       "      <td>https://www.amazon.in/sspa/click?ie=UTF8&amp;spc=M...</td>\n",
       "    </tr>\n",
       "    <tr>\n",
       "      <th>3</th>\n",
       "      <td>https://www.amazon.in/sspa/click?ie=UTF8&amp;spc=M...</td>\n",
       "    </tr>\n",
       "    <tr>\n",
       "      <th>4</th>\n",
       "      <td>https://www.amazon.in/Juarez-Acoustic-Cutaway-...</td>\n",
       "    </tr>\n",
       "    <tr>\n",
       "      <th>...</th>\n",
       "      <td>...</td>\n",
       "    </tr>\n",
       "    <tr>\n",
       "      <th>180</th>\n",
       "      <td>https://www.amazon.in/Cort-AD880CE-Cutaway-Aco...</td>\n",
       "    </tr>\n",
       "    <tr>\n",
       "      <th>181</th>\n",
       "      <td>https://www.amazon.in/sspa/click?ie=UTF8&amp;spc=M...</td>\n",
       "    </tr>\n",
       "    <tr>\n",
       "      <th>182</th>\n",
       "      <td>https://www.amazon.in/sspa/click?ie=UTF8&amp;spc=M...</td>\n",
       "    </tr>\n",
       "    <tr>\n",
       "      <th>183</th>\n",
       "      <td>https://www.amazon.in/sspa/click?ie=UTF8&amp;spc=M...</td>\n",
       "    </tr>\n",
       "    <tr>\n",
       "      <th>184</th>\n",
       "      <td>https://www.amazon.in/sspa/click?ie=UTF8&amp;spc=M...</td>\n",
       "    </tr>\n",
       "  </tbody>\n",
       "</table>\n",
       "<p>185 rows × 1 columns</p>\n",
       "</div>"
      ],
      "text/plain": [
       "                                          product_urls\n",
       "0    https://www.amazon.in/sspa/click?ie=UTF8&spc=M...\n",
       "1    https://www.amazon.in/sspa/click?ie=UTF8&spc=M...\n",
       "2    https://www.amazon.in/sspa/click?ie=UTF8&spc=M...\n",
       "3    https://www.amazon.in/sspa/click?ie=UTF8&spc=M...\n",
       "4    https://www.amazon.in/Juarez-Acoustic-Cutaway-...\n",
       "..                                                 ...\n",
       "180  https://www.amazon.in/Cort-AD880CE-Cutaway-Aco...\n",
       "181  https://www.amazon.in/sspa/click?ie=UTF8&spc=M...\n",
       "182  https://www.amazon.in/sspa/click?ie=UTF8&spc=M...\n",
       "183  https://www.amazon.in/sspa/click?ie=UTF8&spc=M...\n",
       "184  https://www.amazon.in/sspa/click?ie=UTF8&spc=M...\n",
       "\n",
       "[185 rows x 1 columns]"
      ]
     },
     "execution_count": 54,
     "metadata": {},
     "output_type": "execute_result"
    }
   ],
   "source": [
    "import pandas as pd\n",
    "df=pd.DataFrame({'product_urls':product_urls})\n",
    "df"
   ]
  },
  {
   "cell_type": "code",
   "execution_count": 55,
   "id": "98fccd21-566e-4fa5-81d8-4d6d1d96fba5",
   "metadata": {
    "tags": []
   },
   "outputs": [],
   "source": [
    "Name_of_the_Product=[]\n",
    "Price=[]\n",
    "Return_Exchange=[]\n",
    "Expected_Delivery=[]\n",
    "Availability=[]"
   ]
  },
  {
   "cell_type": "code",
   "execution_count": 56,
   "id": "00e1479e-f1b4-4da9-b6bb-822090c5eb92",
   "metadata": {
    "tags": []
   },
   "outputs": [],
   "source": [
    "for url in product_urls:\n",
    "    driver.get(url)\n",
    "    time.sleep(2)\n",
    "    try:\n",
    "        name_of_the_Product=driver.find_element(By.XPATH,'/html/body/div[2]/div/div[5]/div[3]/div[4]/div[1]/div/h1/span')\n",
    "        Name_of_the_Product.append(name_of_the_Product.text)\n",
    "    except NoSuchElementException:\n",
    "        Name_of_the_Product.append('-')\n",
    "    try:\n",
    "        price=driver.find_element(By.XPATH,'/html/body/div[2]/div/div[5]/div[3]/div[4]/div[13]/div/div/div[4]/div[1]/span[3]')\n",
    "        Price.append(price.text)\n",
    "    except NoSuchElementException:\n",
    "        Price.append('-')\n",
    "    try:\n",
    "        return_exchange=driver.find_element(By.XPATH,'/html/body/div[2]/div/div[5]/div[3]/div[4]/div[24]/div[2]/div/div/div/div[2]/div/ol/li[3]/div/span/div[2]/span')\n",
    "        Return_Exchange.append(return_exchange.text)\n",
    "    except NoSuchElementException:\n",
    "        Return_Exchange.append('-')    \n",
    "    try:\n",
    "        expected_delivery=driver.find_element(By.XPATH,'/html/body/div[2]/div/div[5]/div[3]/div[1]/div[3]/div/div[1]/div/div/div/form/div/div/div/div/div[4]/div/div[3]/div[10]/div[1]/div/div/div/span/span[1]')\n",
    "        Expected_Delivery.append(expected_delivery.text)\n",
    "    except NoSuchElementException:\n",
    "        Expected_Delivery.append('-')\n",
    "    try:\n",
    "        availability=driver.find_element(By.XPATH,'/html/body/div[2]/div/div[5]/div[3]/div[1]/div[3]/div/div[1]/div/div/div/form/div/div/div/div/div[4]/div/div[5]/div/div[1]/span')\n",
    "        Availability.append(availability.text)\n",
    "    except NoSuchElementException:\n",
    "        Availability.append('-')\n",
    "   \n",
    "        "
   ]
  },
  {
   "cell_type": "code",
   "execution_count": 57,
   "id": "5075d5a6-f30d-4df9-9f98-33254133e10a",
   "metadata": {
    "tags": []
   },
   "outputs": [
    {
     "name": "stdout",
     "output_type": "stream",
     "text": [
      "185 185 185 185 185 185\n"
     ]
    }
   ],
   "source": [
    "print(len(Name_of_the_Product),len(Price),len(Return_Exchange),len(Expected_Delivery),len(Availability),len(product_urls))"
   ]
  },
  {
   "cell_type": "code",
   "execution_count": 59,
   "id": "cea79296-a630-4335-8f42-a686fcc39eda",
   "metadata": {
    "tags": []
   },
   "outputs": [
    {
     "data": {
      "text/html": [
       "<div>\n",
       "<style scoped>\n",
       "    .dataframe tbody tr th:only-of-type {\n",
       "        vertical-align: middle;\n",
       "    }\n",
       "\n",
       "    .dataframe tbody tr th {\n",
       "        vertical-align: top;\n",
       "    }\n",
       "\n",
       "    .dataframe thead th {\n",
       "        text-align: right;\n",
       "    }\n",
       "</style>\n",
       "<table border=\"1\" class=\"dataframe\">\n",
       "  <thead>\n",
       "    <tr style=\"text-align: right;\">\n",
       "      <th></th>\n",
       "      <th>name_of_the product</th>\n",
       "      <th>price</th>\n",
       "      <th>return_exchange</th>\n",
       "      <th>expected_delivery</th>\n",
       "      <th>availability</th>\n",
       "      <th>product_urls</th>\n",
       "    </tr>\n",
       "  </thead>\n",
       "  <tbody>\n",
       "    <tr>\n",
       "      <th>0</th>\n",
       "      <td>Kadence Frontier guitar with Online Guitar lea...</td>\n",
       "      <td>₹4,499</td>\n",
       "      <td>7 days Replacement</td>\n",
       "      <td>Monday, 26 February</td>\n",
       "      <td>In stock</td>\n",
       "      <td>https://www.amazon.in/sspa/click?ie=UTF8&amp;spc=M...</td>\n",
       "    </tr>\n",
       "    <tr>\n",
       "      <th>1</th>\n",
       "      <td>Henrix 38C 38 Inch Cutaway Acoustic Guitar Wit...</td>\n",
       "      <td>₹3,099</td>\n",
       "      <td>7 days Replacement</td>\n",
       "      <td>Monday, 26 February</td>\n",
       "      <td>In stock</td>\n",
       "      <td>https://www.amazon.in/sspa/click?ie=UTF8&amp;spc=M...</td>\n",
       "    </tr>\n",
       "    <tr>\n",
       "      <th>2</th>\n",
       "      <td>Kadence rosewood Guitar Frontier Series, Elect...</td>\n",
       "      <td>₹5,499</td>\n",
       "      <td>7 days Replacement</td>\n",
       "      <td>Sunday, 25 February</td>\n",
       "      <td>In stock</td>\n",
       "      <td>https://www.amazon.in/sspa/click?ie=UTF8&amp;spc=M...</td>\n",
       "    </tr>\n",
       "    <tr>\n",
       "      <th>3</th>\n",
       "      <td>Cort AF500C Standard Series Open Pore Cutaway ...</td>\n",
       "      <td>₹7,999</td>\n",
       "      <td>7 days Replacement</td>\n",
       "      <td>Sunday, 25 February</td>\n",
       "      <td>In stock</td>\n",
       "      <td>https://www.amazon.in/sspa/click?ie=UTF8&amp;spc=M...</td>\n",
       "    </tr>\n",
       "    <tr>\n",
       "      <th>4</th>\n",
       "      <td>Juârez Acoustic Guitar, 38 Inch Cutaway, 038C ...</td>\n",
       "      <td>₹2,199</td>\n",
       "      <td>7 days Replacement</td>\n",
       "      <td>Monday, 26 February</td>\n",
       "      <td>In stock</td>\n",
       "      <td>https://www.amazon.in/Juarez-Acoustic-Cutaway-...</td>\n",
       "    </tr>\n",
       "    <tr>\n",
       "      <th>...</th>\n",
       "      <td>...</td>\n",
       "      <td>...</td>\n",
       "      <td>...</td>\n",
       "      <td>...</td>\n",
       "      <td>...</td>\n",
       "      <td>...</td>\n",
       "    </tr>\n",
       "    <tr>\n",
       "      <th>180</th>\n",
       "      <td>Cort AD880CE Cutaway Electro Acoustic Guitar w...</td>\n",
       "      <td>₹16,999</td>\n",
       "      <td>7 days Returnable</td>\n",
       "      <td>Monday, 26 February</td>\n",
       "      <td>Only 1 left in stock.</td>\n",
       "      <td>https://www.amazon.in/Cort-AD880CE-Cutaway-Aco...</td>\n",
       "    </tr>\n",
       "    <tr>\n",
       "      <th>181</th>\n",
       "      <td>BLUEBERRY B-40, Acoustic Guitar Kit Inbuilt Tr...</td>\n",
       "      <td>₹4,590</td>\n",
       "      <td>7 days Replacement</td>\n",
       "      <td>Wednesday, 28 February</td>\n",
       "      <td>In stock</td>\n",
       "      <td>https://www.amazon.in/sspa/click?ie=UTF8&amp;spc=M...</td>\n",
       "    </tr>\n",
       "    <tr>\n",
       "      <th>182</th>\n",
       "      <td>Acoustic Guitar, 39 Inch Cutaway, 039C with Ba...</td>\n",
       "      <td>₹4,996</td>\n",
       "      <td>-</td>\n",
       "      <td>Tuesday, 27 February</td>\n",
       "      <td>Only 1 left in stock.</td>\n",
       "      <td>https://www.amazon.in/sspa/click?ie=UTF8&amp;spc=M...</td>\n",
       "    </tr>\n",
       "    <tr>\n",
       "      <th>183</th>\n",
       "      <td>BLUEBERRY B-40, Acoustic Guitar Kit Inbuilt Tr...</td>\n",
       "      <td>₹4,590</td>\n",
       "      <td>7 days Replacement</td>\n",
       "      <td>Wednesday, 28 February</td>\n",
       "      <td>In stock</td>\n",
       "      <td>https://www.amazon.in/sspa/click?ie=UTF8&amp;spc=M...</td>\n",
       "    </tr>\n",
       "    <tr>\n",
       "      <th>184</th>\n",
       "      <td>PS Signature 41Inch Pine Wood Acoustic Guitar ...</td>\n",
       "      <td>₹3,899</td>\n",
       "      <td>-</td>\n",
       "      <td>Wednesday, 28 February</td>\n",
       "      <td>Only 1 left in stock.</td>\n",
       "      <td>https://www.amazon.in/sspa/click?ie=UTF8&amp;spc=M...</td>\n",
       "    </tr>\n",
       "  </tbody>\n",
       "</table>\n",
       "<p>185 rows × 6 columns</p>\n",
       "</div>"
      ],
      "text/plain": [
       "                                   name_of_the product    price  \\\n",
       "0    Kadence Frontier guitar with Online Guitar lea...   ₹4,499   \n",
       "1    Henrix 38C 38 Inch Cutaway Acoustic Guitar Wit...   ₹3,099   \n",
       "2    Kadence rosewood Guitar Frontier Series, Elect...   ₹5,499   \n",
       "3    Cort AF500C Standard Series Open Pore Cutaway ...   ₹7,999   \n",
       "4    Juârez Acoustic Guitar, 38 Inch Cutaway, 038C ...   ₹2,199   \n",
       "..                                                 ...      ...   \n",
       "180  Cort AD880CE Cutaway Electro Acoustic Guitar w...  ₹16,999   \n",
       "181  BLUEBERRY B-40, Acoustic Guitar Kit Inbuilt Tr...   ₹4,590   \n",
       "182  Acoustic Guitar, 39 Inch Cutaway, 039C with Ba...   ₹4,996   \n",
       "183  BLUEBERRY B-40, Acoustic Guitar Kit Inbuilt Tr...   ₹4,590   \n",
       "184  PS Signature 41Inch Pine Wood Acoustic Guitar ...   ₹3,899   \n",
       "\n",
       "        return_exchange       expected_delivery           availability  \\\n",
       "0    7 days Replacement     Monday, 26 February               In stock   \n",
       "1    7 days Replacement     Monday, 26 February               In stock   \n",
       "2    7 days Replacement     Sunday, 25 February               In stock   \n",
       "3    7 days Replacement     Sunday, 25 February               In stock   \n",
       "4    7 days Replacement     Monday, 26 February               In stock   \n",
       "..                  ...                     ...                    ...   \n",
       "180   7 days Returnable     Monday, 26 February  Only 1 left in stock.   \n",
       "181  7 days Replacement  Wednesday, 28 February               In stock   \n",
       "182                   -    Tuesday, 27 February  Only 1 left in stock.   \n",
       "183  7 days Replacement  Wednesday, 28 February               In stock   \n",
       "184                   -  Wednesday, 28 February  Only 1 left in stock.   \n",
       "\n",
       "                                          product_urls  \n",
       "0    https://www.amazon.in/sspa/click?ie=UTF8&spc=M...  \n",
       "1    https://www.amazon.in/sspa/click?ie=UTF8&spc=M...  \n",
       "2    https://www.amazon.in/sspa/click?ie=UTF8&spc=M...  \n",
       "3    https://www.amazon.in/sspa/click?ie=UTF8&spc=M...  \n",
       "4    https://www.amazon.in/Juarez-Acoustic-Cutaway-...  \n",
       "..                                                 ...  \n",
       "180  https://www.amazon.in/Cort-AD880CE-Cutaway-Aco...  \n",
       "181  https://www.amazon.in/sspa/click?ie=UTF8&spc=M...  \n",
       "182  https://www.amazon.in/sspa/click?ie=UTF8&spc=M...  \n",
       "183  https://www.amazon.in/sspa/click?ie=UTF8&spc=M...  \n",
       "184  https://www.amazon.in/sspa/click?ie=UTF8&spc=M...  \n",
       "\n",
       "[185 rows x 6 columns]"
      ]
     },
     "execution_count": 59,
     "metadata": {},
     "output_type": "execute_result"
    }
   ],
   "source": [
    "import pandas as pd\n",
    "df=pd.DataFrame({'name_of_the product':Name_of_the_Product,'price':Price,'return_exchange':Return_Exchange,'expected_delivery':Expected_Delivery,'availability':Availability,'product_urls':product_urls})\n",
    "df"
   ]
  },
  {
   "cell_type": "markdown",
   "id": "6c0364eb-c621-4d4e-b6a2-aa9fc3cf0076",
   "metadata": {
    "tags": []
   },
   "source": [
    "# 3. Write a python program to access the search bar and search button on images.google.com and scrape 10 images each for keywords ‘fruits’, ‘cars’ and ‘Machine Learning’, ‘Guitar’, ‘Cakes’. "
   ]
  },
  {
   "cell_type": "code",
   "execution_count": 57,
   "id": "df22c4fd-fe2b-401b-b7e9-2843ab808c42",
   "metadata": {
    "tags": []
   },
   "outputs": [],
   "source": [
    "from selenium import webdriver\n",
    "import time \n",
    "from selenium.common.exceptions import NoSuchElementException # importing exception\n",
    "import warnings\n",
    "warnings.filterwarnings('ignore')\n",
    "from selenium.webdriver.common.by import By"
   ]
  },
  {
   "cell_type": "code",
   "execution_count": 58,
   "id": "5bb2c610-71cb-4a86-bd32-78dc7b9de31e",
   "metadata": {
    "tags": []
   },
   "outputs": [],
   "source": [
    "driver=webdriver.Chrome()"
   ]
  },
  {
   "cell_type": "code",
   "execution_count": 59,
   "id": "4ab39863-2a8d-45c1-b303-830710b18319",
   "metadata": {
    "tags": []
   },
   "outputs": [],
   "source": [
    "driver.get(\"https://www.google.in\")\n"
   ]
  },
  {
   "cell_type": "code",
   "execution_count": 60,
   "id": "1970d368-8ae0-462d-a65a-ff357a1d5102",
   "metadata": {
    "tags": []
   },
   "outputs": [],
   "source": [
    "\n",
    "images=driver.find_element(By.XPATH,\"/html/body/div[1]/div[3]/form/div[1]/div[1]/div[1]/div/div[2]/textarea\")\n",
    "images.send_keys('cakes')"
   ]
  },
  {
   "cell_type": "code",
   "execution_count": 44,
   "id": "104c6783-a146-49b0-80ca-49c37f11406c",
   "metadata": {
    "tags": []
   },
   "outputs": [],
   "source": []
  },
  {
   "cell_type": "code",
   "execution_count": 62,
   "id": "1cabe60b-56f9-4dd2-bae6-e630a9b064e1",
   "metadata": {
    "tags": []
   },
   "outputs": [],
   "source": [
    "for _ in range(20):\n",
    "    driver.execute_script(\"window.scrollBy(0,500)\")\n",
    "images=driver.find_elements(By.XPATH,'//img[@class=\"rg_i Q4LuWd\"]')   \n",
    "img_urls=[]\n",
    "for image in images:\n",
    "    source=image.get_attribute('src')\n",
    "    if source is not None:\n",
    "        if(source[0:4]=='http'):\n",
    "            img_urls.append(source)\n",
    "\n",
    "            "
   ]
  },
  {
   "cell_type": "code",
   "execution_count": 68,
   "id": "d6c5dc03-9455-4178-b313-094d79b74da0",
   "metadata": {
    "tags": []
   },
   "outputs": [
    {
     "data": {
      "text/plain": [
       "9"
      ]
     },
     "execution_count": 68,
     "metadata": {},
     "output_type": "execute_result"
    }
   ],
   "source": [
    "len(img_urls)\n"
   ]
  },
  {
   "cell_type": "code",
   "execution_count": 69,
   "id": "5f0a72f7-bd81-4a56-8e9a-78db47c744c4",
   "metadata": {
    "tags": []
   },
   "outputs": [
    {
     "data": {
      "text/html": [
       "<div>\n",
       "<style scoped>\n",
       "    .dataframe tbody tr th:only-of-type {\n",
       "        vertical-align: middle;\n",
       "    }\n",
       "\n",
       "    .dataframe tbody tr th {\n",
       "        vertical-align: top;\n",
       "    }\n",
       "\n",
       "    .dataframe thead th {\n",
       "        text-align: right;\n",
       "    }\n",
       "</style>\n",
       "<table border=\"1\" class=\"dataframe\">\n",
       "  <thead>\n",
       "    <tr style=\"text-align: right;\">\n",
       "      <th></th>\n",
       "      <th>img_urls</th>\n",
       "    </tr>\n",
       "  </thead>\n",
       "  <tbody>\n",
       "    <tr>\n",
       "      <th>0</th>\n",
       "      <td>https://encrypted-tbn0.gstatic.com/images?q=tb...</td>\n",
       "    </tr>\n",
       "    <tr>\n",
       "      <th>1</th>\n",
       "      <td>https://encrypted-tbn0.gstatic.com/images?q=tb...</td>\n",
       "    </tr>\n",
       "    <tr>\n",
       "      <th>2</th>\n",
       "      <td>https://encrypted-tbn0.gstatic.com/images?q=tb...</td>\n",
       "    </tr>\n",
       "    <tr>\n",
       "      <th>3</th>\n",
       "      <td>https://encrypted-tbn0.gstatic.com/images?q=tb...</td>\n",
       "    </tr>\n",
       "    <tr>\n",
       "      <th>4</th>\n",
       "      <td>https://encrypted-tbn0.gstatic.com/images?q=tb...</td>\n",
       "    </tr>\n",
       "    <tr>\n",
       "      <th>5</th>\n",
       "      <td>https://encrypted-tbn0.gstatic.com/images?q=tb...</td>\n",
       "    </tr>\n",
       "    <tr>\n",
       "      <th>6</th>\n",
       "      <td>https://encrypted-tbn0.gstatic.com/images?q=tb...</td>\n",
       "    </tr>\n",
       "    <tr>\n",
       "      <th>7</th>\n",
       "      <td>https://encrypted-tbn0.gstatic.com/images?q=tb...</td>\n",
       "    </tr>\n",
       "    <tr>\n",
       "      <th>8</th>\n",
       "      <td>https://encrypted-tbn0.gstatic.com/images?q=tb...</td>\n",
       "    </tr>\n",
       "  </tbody>\n",
       "</table>\n",
       "</div>"
      ],
      "text/plain": [
       "                                            img_urls\n",
       "0  https://encrypted-tbn0.gstatic.com/images?q=tb...\n",
       "1  https://encrypted-tbn0.gstatic.com/images?q=tb...\n",
       "2  https://encrypted-tbn0.gstatic.com/images?q=tb...\n",
       "3  https://encrypted-tbn0.gstatic.com/images?q=tb...\n",
       "4  https://encrypted-tbn0.gstatic.com/images?q=tb...\n",
       "5  https://encrypted-tbn0.gstatic.com/images?q=tb...\n",
       "6  https://encrypted-tbn0.gstatic.com/images?q=tb...\n",
       "7  https://encrypted-tbn0.gstatic.com/images?q=tb...\n",
       "8  https://encrypted-tbn0.gstatic.com/images?q=tb..."
      ]
     },
     "execution_count": 69,
     "metadata": {},
     "output_type": "execute_result"
    }
   ],
   "source": [
    "import pandas as pd\n",
    "df=pd.DataFrame({'img_urls':img_urls})\n",
    "df                 "
   ]
  },
  {
   "cell_type": "code",
   "execution_count": 70,
   "id": "e177330b-9750-4b89-86dd-6087aceb936d",
   "metadata": {
    "tags": []
   },
   "outputs": [
    {
     "name": "stdout",
     "output_type": "stream",
     "text": [
      "Downloading 0 of 10 images\n",
      "Downloading 1 of 10 images\n",
      "Downloading 2 of 10 images\n",
      "Downloading 3 of 10 images\n",
      "Downloading 4 of 10 images\n",
      "Downloading 5 of 10 images\n",
      "Downloading 6 of 10 images\n",
      "Downloading 7 of 10 images\n",
      "Downloading 8 of 10 images\n"
     ]
    }
   ],
   "source": [
    "for i in range(len(img_urls)):\n",
    "    if i >10:\n",
    "        breakBy.XPATH,\n",
    "    print(\"Downloading {0} of {1} images\".format(i,10))    "
   ]
  },
  {
   "cell_type": "markdown",
   "id": "0c4d6f6d-0346-4786-bc61-e725c7801401",
   "metadata": {},
   "source": [
    "# 4. Write a python program to search for a smartphone(e.g.: Oneplus Nord, pixel 4A, etc.) on www.flipkart.com and scrape following details for all the search results displayed on 1st page. Details to be scraped: “Brand Name”, “Smartphone name”, “Colour”, “RAM”, “Storage(ROM)”, “Primary Camera”, “Secondary Camera”, “Display Size”, “Battery Capacity”, “Price”, “Product URL”. Incase if any of the details is missing then replace it by “- “. Save your results in a dataframe and CSV"
   ]
  },
  {
   "cell_type": "code",
   "execution_count": 82,
   "id": "3f9bd481-19f0-49a0-a08b-ecc8960f7baa",
   "metadata": {
    "tags": []
   },
   "outputs": [],
   "source": [
    "import selenium\n",
    "import pandas as pd\n",
    "from selenium import webdriver\n",
    "import warnings\n",
    "warnings.filterwarnings('ignore')\n",
    "from selenium.webdriver.common.by import By\n",
    "import time"
   ]
  },
  {
   "cell_type": "code",
   "execution_count": 83,
   "id": "5072ce04-4d6f-4f5b-b840-2ab8eb71d664",
   "metadata": {
    "tags": []
   },
   "outputs": [],
   "source": [
    "driver=webdriver.Chrome()"
   ]
  },
  {
   "cell_type": "code",
   "execution_count": 84,
   "id": "51eb71c5-81cb-4ac8-b962-8df3a8633135",
   "metadata": {
    "tags": []
   },
   "outputs": [],
   "source": [
    "driver.get(\"https://www.flipkart.com/\")"
   ]
  },
  {
   "cell_type": "code",
   "execution_count": null,
   "id": "8c64d899-f28b-4c2f-96b9-8cd9355a28b1",
   "metadata": {},
   "outputs": [],
   "source": []
  },
  {
   "cell_type": "code",
   "execution_count": 85,
   "id": "3072edf1-e8cf-443c-87b3-6050f845ed46",
   "metadata": {
    "tags": []
   },
   "outputs": [],
   "source": [
    "product_names=driver.find_element(By.XPATH,\"/html/body/div[1]/div/div[1]/div/div/div/div/div[1]/div/div[1]/div/div[1]/div[1]/header/div[1]/div[2]/form/div/div/input\")\n",
    "product_names.send_keys('Oneplus Nord, pixel 4A')"
   ]
  },
  {
   "cell_type": "code",
   "execution_count": 86,
   "id": "cc542f44-32f6-4474-a697-32de2729558a",
   "metadata": {
    "tags": []
   },
   "outputs": [],
   "source": [
    "searchs=driver.find_element(By.XPATH,\"/html/body/div[1]/div/div[1]/div/div/div/div/div[1]/div/div[1]/div/div[1]/div[1]/header/div[1]/div[2]/form/div/div/input\")\n",
    "searchs.click()\n",
    "time.sleep(3)"
   ]
  },
  {
   "cell_type": "code",
   "execution_count": 87,
   "id": "4227b5a5-e07f-412c-8bd4-1c0a9418bb09",
   "metadata": {
    "tags": []
   },
   "outputs": [],
   "source": [
    "# scrape all product urls\n",
    "product_urlss=[]\n",
    "start=0\n",
    "end=1\n",
    "for page in range(start,end): # for loop for scrapping 3 page\n",
    "    urls=driver.find_elements(By.XPATH,'//a[@class=\"_1fQZEK\"]')\n",
    "    for i in urls:\n",
    "        product_urlss.append(i.get_attribute('href'))\n",
    "    time.sleep(2)"
   ]
  },
  {
   "cell_type": "code",
   "execution_count": 88,
   "id": "d1989e3a-27a7-4e51-bb4c-193c25ffc2d0",
   "metadata": {
    "tags": []
   },
   "outputs": [
    {
     "data": {
      "text/plain": [
       "9"
      ]
     },
     "execution_count": 88,
     "metadata": {},
     "output_type": "execute_result"
    }
   ],
   "source": [
    "len(product_urlss)"
   ]
  },
  {
   "cell_type": "code",
   "execution_count": 89,
   "id": "25423d19-a6d1-4a35-8358-abb6abe5bbb7",
   "metadata": {
    "tags": []
   },
   "outputs": [
    {
     "data": {
      "text/html": [
       "<div>\n",
       "<style scoped>\n",
       "    .dataframe tbody tr th:only-of-type {\n",
       "        vertical-align: middle;\n",
       "    }\n",
       "\n",
       "    .dataframe tbody tr th {\n",
       "        vertical-align: top;\n",
       "    }\n",
       "\n",
       "    .dataframe thead th {\n",
       "        text-align: right;\n",
       "    }\n",
       "</style>\n",
       "<table border=\"1\" class=\"dataframe\">\n",
       "  <thead>\n",
       "    <tr style=\"text-align: right;\">\n",
       "      <th></th>\n",
       "      <th>product_urlss</th>\n",
       "    </tr>\n",
       "  </thead>\n",
       "  <tbody>\n",
       "    <tr>\n",
       "      <th>0</th>\n",
       "      <td>https://www.flipkart.com/oneplus-nord-ce-2-5g-...</td>\n",
       "    </tr>\n",
       "    <tr>\n",
       "      <th>1</th>\n",
       "      <td>https://www.flipkart.com/oneplus-nord-ce-2-5g-...</td>\n",
       "    </tr>\n",
       "    <tr>\n",
       "      <th>2</th>\n",
       "      <td>https://www.flipkart.com/oneplus-nord-gray-ony...</td>\n",
       "    </tr>\n",
       "    <tr>\n",
       "      <th>3</th>\n",
       "      <td>https://www.flipkart.com/oneplus-nord-blue-mar...</td>\n",
       "    </tr>\n",
       "    <tr>\n",
       "      <th>4</th>\n",
       "      <td>https://www.flipkart.com/oneplus-nord-blue-mar...</td>\n",
       "    </tr>\n",
       "    <tr>\n",
       "      <th>5</th>\n",
       "      <td>https://www.flipkart.com/oneplus-nord-gray-ony...</td>\n",
       "    </tr>\n",
       "    <tr>\n",
       "      <th>6</th>\n",
       "      <td>https://www.flipkart.com/oneplus-nord-blue-mar...</td>\n",
       "    </tr>\n",
       "    <tr>\n",
       "      <th>7</th>\n",
       "      <td>https://www.flipkart.com/oneplus-nord-gray-ony...</td>\n",
       "    </tr>\n",
       "    <tr>\n",
       "      <th>8</th>\n",
       "      <td>https://www.flipkart.com/oneplus-nord-ce-2-5g-...</td>\n",
       "    </tr>\n",
       "  </tbody>\n",
       "</table>\n",
       "</div>"
      ],
      "text/plain": [
       "                                       product_urlss\n",
       "0  https://www.flipkart.com/oneplus-nord-ce-2-5g-...\n",
       "1  https://www.flipkart.com/oneplus-nord-ce-2-5g-...\n",
       "2  https://www.flipkart.com/oneplus-nord-gray-ony...\n",
       "3  https://www.flipkart.com/oneplus-nord-blue-mar...\n",
       "4  https://www.flipkart.com/oneplus-nord-blue-mar...\n",
       "5  https://www.flipkart.com/oneplus-nord-gray-ony...\n",
       "6  https://www.flipkart.com/oneplus-nord-blue-mar...\n",
       "7  https://www.flipkart.com/oneplus-nord-gray-ony...\n",
       "8  https://www.flipkart.com/oneplus-nord-ce-2-5g-..."
      ]
     },
     "execution_count": 89,
     "metadata": {},
     "output_type": "execute_result"
    }
   ],
   "source": [
    "import pandas as pd\n",
    "df=pd.DataFrame({'product_urlss':product_urlss})\n",
    "df"
   ]
  },
  {
   "cell_type": "code",
   "execution_count": 90,
   "id": "6759e00b-87dc-4168-a962-15bb115cff74",
   "metadata": {
    "tags": []
   },
   "outputs": [],
   "source": [
    "Brand_Names=[]\n",
    "Smartphone_name=[]\n",
    "Colour=[] \n",
    "RAM=[] \n",
    "Storage_ROM=[] \n",
    "Primary_Camera=[]\n",
    "Secondary_Camera=[] \n",
    "Display_Size=[] \n",
    "Battery_Capacity=[] \n",
    "Price=[]"
   ]
  },
  {
   "cell_type": "code",
   "execution_count": 91,
   "id": "da39d9b3-4c0b-441a-85b2-7a7855c3b2bf",
   "metadata": {
    "tags": []
   },
   "outputs": [],
   "source": [
    "for urls in product_urlss:\n",
    "    driver.get(urls)\n",
    "    time.sleep(2)\n",
    "    try:\n",
    "        brand_names=driver.find_element(By.XPATH,'/html/body/div[1]/div/div[3]/div[1]/div[2]/div[2]/div/div[1]/h1/span')\n",
    "        Brand_Names.append(brand_names.text)\n",
    "    except NoSuchElementException:\n",
    "        Brand_Names.append('-')\n",
    "    try:\n",
    "        smart_phone_name=driver.find_element(By.XPATH,'//span[@class=\"B_NuCI\"]')\n",
    "        Smartphone_name.append(smart_phone_name.text)\n",
    "    except NoSuchElementException:\n",
    "        Smartphone_name.append('-')\n",
    "    try:\n",
    "        color=driver.find_element(By.XPATH,'/html/body/div[1]/div/div[3]/div[1]/div[2]/div[7]/div/div/div[4]/div/div[2]/div[1]/div[1]/table/tbody/tr[4]/td[2]/ul/li')\n",
    "        Colour.append(color.text)\n",
    "    except NoSuchElementException:\n",
    "        Colour.append('-')    \n",
    "    try:\n",
    "        ram=driver.find_element(By.XPATH,'/html/body/div[1]/div/div[3]/div[1]/div[2]/div[6]/div[1]/div/div[2]/ul/li[1]')\n",
    "        RAM.append(ram.text)\n",
    "    except NoSuchElementException:\n",
    "        RAM.append('-')\n",
    "    try:\n",
    "        storage_rom=driver.find_element(By.XPATH,'/html/body/div[1]/div/div[3]/div[1]/div[2]/div[6]/div[1]/div/div[2]/ul/li[1]')\n",
    "        Storage_ROM.append(storage_rom.text)\n",
    "    except NoSuchElementException:\n",
    "        Storage_ROM.append('-')\n",
    "    try:\n",
    "        primary_camera=driver.find_element(By.XPATH,'/html/body/div[1]/div/div[3]/div[1]/div[2]/div[6]/div[1]/div/div[2]/ul/li[3]')\n",
    "        Primary_Camera.append(primary_camera.text)\n",
    "    except NoSuchElementException:\n",
    "        Primary_Camera.append('-')  \n",
    "    try:\n",
    "        secondary_camera=driver.find_element(By.XPATH,'/html/body/div[1]/div/div[3]/div[1]/div[2]/div[6]/div[1]/div/div[2]/ul/li[3]')\n",
    "        Secondary_Camera.append(secondary_camera.text)\n",
    "    except NoSuchElementException:\n",
    "        Secondary_Camera.append('-') \n",
    "    try:\n",
    "        display_size=driver.find_element(By.XPATH,'/html/body/div[1]/div/div[3]/div[1]/div[2]/div[6]/div[1]/div/div[2]/ul/li[2]')\n",
    "        Display_Size.append(display_size.text)\n",
    "    except NoSuchElementException:\n",
    "        Display_Size.append('-')    \n",
    "    try:\n",
    "        battery_capacity=driver.find_element(By.XPATH,'/html/body/div[1]/div/div[3]/div[1]/div[2]/div[6]/div[1]/div/div[2]/ul/li[4]')\n",
    "        Battery_Capacity.append(battery_capacity.text)\n",
    "    except NoSuchElementException:\n",
    "        Battery_Capacity.append('-')        \n",
    "    try:\n",
    "        price=driver.find_element(By.XPATH,'/html/body/div[1]/div/div[3]/div[1]/div[2]/div[2]/div/div[3]/div[1]/div/div')\n",
    "        Price.append(price.text)\n",
    "    except NoSuchElementException:\n",
    "        Price.append('-')    \n",
    "   "
   ]
  },
  {
   "cell_type": "code",
   "execution_count": 92,
   "id": "41fc56f1-d507-4aae-9451-b161ae503313",
   "metadata": {
    "tags": []
   },
   "outputs": [
    {
     "name": "stdout",
     "output_type": "stream",
     "text": [
      "9 9 9 9 9 9 9 9 9 9 9\n"
     ]
    }
   ],
   "source": [
    "print(len(Brand_Names),len(Smartphone_name),len(Colour),len(RAM),len(Storage_ROM),len(Primary_Camera),len(Secondary_Camera),len(Display_Size),len(Battery_Capacity),len(Price),len(product_urlss))"
   ]
  },
  {
   "cell_type": "code",
   "execution_count": 93,
   "id": "1ef1c4a5-d898-4988-bdb1-aa68e0de4d59",
   "metadata": {
    "tags": []
   },
   "outputs": [
    {
     "data": {
      "text/html": [
       "<div>\n",
       "<style scoped>\n",
       "    .dataframe tbody tr th:only-of-type {\n",
       "        vertical-align: middle;\n",
       "    }\n",
       "\n",
       "    .dataframe tbody tr th {\n",
       "        vertical-align: top;\n",
       "    }\n",
       "\n",
       "    .dataframe thead th {\n",
       "        text-align: right;\n",
       "    }\n",
       "</style>\n",
       "<table border=\"1\" class=\"dataframe\">\n",
       "  <thead>\n",
       "    <tr style=\"text-align: right;\">\n",
       "      <th></th>\n",
       "      <th>brand_name</th>\n",
       "      <th>smart_phone_name</th>\n",
       "      <th>colour</th>\n",
       "      <th>Ram</th>\n",
       "      <th>storage_rom</th>\n",
       "      <th>Primary_camera</th>\n",
       "      <th>Secondary_camera</th>\n",
       "      <th>display_size</th>\n",
       "      <th>battery_capacity</th>\n",
       "      <th>price</th>\n",
       "      <th>product_urls</th>\n",
       "    </tr>\n",
       "  </thead>\n",
       "  <tbody>\n",
       "    <tr>\n",
       "      <th>0</th>\n",
       "      <td>OnePlus Nord CE 2 5G (Bahama Blue, 128 GB)  (8...</td>\n",
       "      <td>OnePlus Nord CE 2 5G (Bahama Blue, 128 GB)  (8...</td>\n",
       "      <td>-</td>\n",
       "      <td>8 GB RAM | 128 GB ROM</td>\n",
       "      <td>8 GB RAM | 128 GB ROM</td>\n",
       "      <td>64MP Rear Camera</td>\n",
       "      <td>64MP Rear Camera</td>\n",
       "      <td>16.33 cm (6.43 inch) Display</td>\n",
       "      <td>4500 mAh Battery</td>\n",
       "      <td>-</td>\n",
       "      <td>https://www.flipkart.com/oneplus-nord-ce-2-5g-...</td>\n",
       "    </tr>\n",
       "    <tr>\n",
       "      <th>1</th>\n",
       "      <td>OnePlus Nord CE 2 5G (Gray Mirror, 128 GB)  (8...</td>\n",
       "      <td>OnePlus Nord CE 2 5G (Gray Mirror, 128 GB)  (8...</td>\n",
       "      <td>-</td>\n",
       "      <td>-</td>\n",
       "      <td>-</td>\n",
       "      <td>-</td>\n",
       "      <td>-</td>\n",
       "      <td>-</td>\n",
       "      <td>-</td>\n",
       "      <td>₹24,999</td>\n",
       "      <td>https://www.flipkart.com/oneplus-nord-ce-2-5g-...</td>\n",
       "    </tr>\n",
       "    <tr>\n",
       "      <th>2</th>\n",
       "      <td>OnePlus Nord (Gray Onyx, 64 GB)  (6 GB RAM)</td>\n",
       "      <td>OnePlus Nord (Gray Onyx, 64 GB)  (6 GB RAM)</td>\n",
       "      <td>Gray Onyx</td>\n",
       "      <td>6 GB RAM | 64 GB ROM</td>\n",
       "      <td>6 GB RAM | 64 GB ROM</td>\n",
       "      <td>48MP + 8MP | 32MP + 8MP Dual Front Camera</td>\n",
       "      <td>48MP + 8MP | 32MP + 8MP Dual Front Camera</td>\n",
       "      <td>16.36 cm (6.44 inch) Full HD+ Display</td>\n",
       "      <td>4115 mAh Battery</td>\n",
       "      <td>-</td>\n",
       "      <td>https://www.flipkart.com/oneplus-nord-gray-ony...</td>\n",
       "    </tr>\n",
       "    <tr>\n",
       "      <th>3</th>\n",
       "      <td>OnePlus Nord (Blue Marble, 128 GB)  (8 GB RAM)</td>\n",
       "      <td>OnePlus Nord (Blue Marble, 128 GB)  (8 GB RAM)</td>\n",
       "      <td>Blue Marble</td>\n",
       "      <td>8 GB RAM | 128 GB ROM</td>\n",
       "      <td>8 GB RAM | 128 GB ROM</td>\n",
       "      <td>48MP + 8MP | 32MP + 8MP Dual Front Camera</td>\n",
       "      <td>48MP + 8MP | 32MP + 8MP Dual Front Camera</td>\n",
       "      <td>16.36 cm (6.44 inch) Full HD+ Display</td>\n",
       "      <td>4115 mAh Battery</td>\n",
       "      <td>₹24,790</td>\n",
       "      <td>https://www.flipkart.com/oneplus-nord-blue-mar...</td>\n",
       "    </tr>\n",
       "    <tr>\n",
       "      <th>4</th>\n",
       "      <td>OnePlus Nord (Blue Marble, 64 GB)  (6 GB RAM)</td>\n",
       "      <td>OnePlus Nord (Blue Marble, 64 GB)  (6 GB RAM)</td>\n",
       "      <td>Blue Marble</td>\n",
       "      <td>6 GB RAM | 64 GB ROM</td>\n",
       "      <td>6 GB RAM | 64 GB ROM</td>\n",
       "      <td>48MP + 8MP | 32MP + 8MP Dual Front Camera</td>\n",
       "      <td>48MP + 8MP | 32MP + 8MP Dual Front Camera</td>\n",
       "      <td>16.36 cm (6.44 inch) Full HD+ Display</td>\n",
       "      <td>4115 mAh Battery</td>\n",
       "      <td>-</td>\n",
       "      <td>https://www.flipkart.com/oneplus-nord-blue-mar...</td>\n",
       "    </tr>\n",
       "    <tr>\n",
       "      <th>5</th>\n",
       "      <td>OnePlus Nord (Gray Onyx, 256 GB)  (12 GB RAM)</td>\n",
       "      <td>OnePlus Nord (Gray Onyx, 256 GB)  (12 GB RAM)</td>\n",
       "      <td>Gray Onyx</td>\n",
       "      <td>12 GB RAM | 256 GB ROM</td>\n",
       "      <td>12 GB RAM | 256 GB ROM</td>\n",
       "      <td>48MP + 8MP | 32MP + 8MP Dual Front Camera</td>\n",
       "      <td>48MP + 8MP | 32MP + 8MP Dual Front Camera</td>\n",
       "      <td>16.36 cm (6.44 inch) Full HD+ Display</td>\n",
       "      <td>4115 mAh Battery</td>\n",
       "      <td>-</td>\n",
       "      <td>https://www.flipkart.com/oneplus-nord-gray-ony...</td>\n",
       "    </tr>\n",
       "    <tr>\n",
       "      <th>6</th>\n",
       "      <td>OnePlus Nord (Blue Marble, 256 GB)  (12 GB RAM)</td>\n",
       "      <td>OnePlus Nord (Blue Marble, 256 GB)  (12 GB RAM)</td>\n",
       "      <td>Blue Marble</td>\n",
       "      <td>12 GB RAM | 256 GB ROM</td>\n",
       "      <td>12 GB RAM | 256 GB ROM</td>\n",
       "      <td>48MP + 8MP | 32MP + 8MP Dual Front Camera</td>\n",
       "      <td>48MP + 8MP | 32MP + 8MP Dual Front Camera</td>\n",
       "      <td>16.36 cm (6.44 inch) Full HD+ Display</td>\n",
       "      <td>4115 mAh Battery</td>\n",
       "      <td>-</td>\n",
       "      <td>https://www.flipkart.com/oneplus-nord-blue-mar...</td>\n",
       "    </tr>\n",
       "    <tr>\n",
       "      <th>7</th>\n",
       "      <td>OnePlus Nord (Gray Onyx, 128 GB)  (8 GB RAM)</td>\n",
       "      <td>OnePlus Nord (Gray Onyx, 128 GB)  (8 GB RAM)</td>\n",
       "      <td>Gray Onyx</td>\n",
       "      <td>8 GB RAM | 128 GB ROM</td>\n",
       "      <td>8 GB RAM | 128 GB ROM</td>\n",
       "      <td>48MP + 8MP | 32MP + 8MP Dual Front Camera</td>\n",
       "      <td>48MP + 8MP | 32MP + 8MP Dual Front Camera</td>\n",
       "      <td>16.36 cm (6.44 inch) Full HD+ Display</td>\n",
       "      <td>4115 mAh Battery</td>\n",
       "      <td>-</td>\n",
       "      <td>https://www.flipkart.com/oneplus-nord-gray-ony...</td>\n",
       "    </tr>\n",
       "    <tr>\n",
       "      <th>8</th>\n",
       "      <td>OnePlus Nord CE 2 5G (Gray Mirror, 128 GB)  (6...</td>\n",
       "      <td>OnePlus Nord CE 2 5G (Gray Mirror, 128 GB)  (6...</td>\n",
       "      <td>Gray Mirror</td>\n",
       "      <td>6 GB RAM | 128 GB ROM</td>\n",
       "      <td>6 GB RAM | 128 GB ROM</td>\n",
       "      <td>64MP Rear Camera | 16MP Front Camera</td>\n",
       "      <td>64MP Rear Camera | 16MP Front Camera</td>\n",
       "      <td>16.33 cm (6.43 inch) Display</td>\n",
       "      <td>4500 mAh Battery</td>\n",
       "      <td>₹19,999</td>\n",
       "      <td>https://www.flipkart.com/oneplus-nord-ce-2-5g-...</td>\n",
       "    </tr>\n",
       "  </tbody>\n",
       "</table>\n",
       "</div>"
      ],
      "text/plain": [
       "                                          brand_name  \\\n",
       "0  OnePlus Nord CE 2 5G (Bahama Blue, 128 GB)  (8...   \n",
       "1  OnePlus Nord CE 2 5G (Gray Mirror, 128 GB)  (8...   \n",
       "2        OnePlus Nord (Gray Onyx, 64 GB)  (6 GB RAM)   \n",
       "3     OnePlus Nord (Blue Marble, 128 GB)  (8 GB RAM)   \n",
       "4      OnePlus Nord (Blue Marble, 64 GB)  (6 GB RAM)   \n",
       "5      OnePlus Nord (Gray Onyx, 256 GB)  (12 GB RAM)   \n",
       "6    OnePlus Nord (Blue Marble, 256 GB)  (12 GB RAM)   \n",
       "7       OnePlus Nord (Gray Onyx, 128 GB)  (8 GB RAM)   \n",
       "8  OnePlus Nord CE 2 5G (Gray Mirror, 128 GB)  (6...   \n",
       "\n",
       "                                    smart_phone_name       colour  \\\n",
       "0  OnePlus Nord CE 2 5G (Bahama Blue, 128 GB)  (8...            -   \n",
       "1  OnePlus Nord CE 2 5G (Gray Mirror, 128 GB)  (8...            -   \n",
       "2        OnePlus Nord (Gray Onyx, 64 GB)  (6 GB RAM)    Gray Onyx   \n",
       "3     OnePlus Nord (Blue Marble, 128 GB)  (8 GB RAM)  Blue Marble   \n",
       "4      OnePlus Nord (Blue Marble, 64 GB)  (6 GB RAM)  Blue Marble   \n",
       "5      OnePlus Nord (Gray Onyx, 256 GB)  (12 GB RAM)    Gray Onyx   \n",
       "6    OnePlus Nord (Blue Marble, 256 GB)  (12 GB RAM)  Blue Marble   \n",
       "7       OnePlus Nord (Gray Onyx, 128 GB)  (8 GB RAM)    Gray Onyx   \n",
       "8  OnePlus Nord CE 2 5G (Gray Mirror, 128 GB)  (6...  Gray Mirror   \n",
       "\n",
       "                      Ram             storage_rom  \\\n",
       "0   8 GB RAM | 128 GB ROM   8 GB RAM | 128 GB ROM   \n",
       "1                       -                       -   \n",
       "2    6 GB RAM | 64 GB ROM    6 GB RAM | 64 GB ROM   \n",
       "3   8 GB RAM | 128 GB ROM   8 GB RAM | 128 GB ROM   \n",
       "4    6 GB RAM | 64 GB ROM    6 GB RAM | 64 GB ROM   \n",
       "5  12 GB RAM | 256 GB ROM  12 GB RAM | 256 GB ROM   \n",
       "6  12 GB RAM | 256 GB ROM  12 GB RAM | 256 GB ROM   \n",
       "7   8 GB RAM | 128 GB ROM   8 GB RAM | 128 GB ROM   \n",
       "8   6 GB RAM | 128 GB ROM   6 GB RAM | 128 GB ROM   \n",
       "\n",
       "                              Primary_camera  \\\n",
       "0                           64MP Rear Camera   \n",
       "1                                          -   \n",
       "2  48MP + 8MP | 32MP + 8MP Dual Front Camera   \n",
       "3  48MP + 8MP | 32MP + 8MP Dual Front Camera   \n",
       "4  48MP + 8MP | 32MP + 8MP Dual Front Camera   \n",
       "5  48MP + 8MP | 32MP + 8MP Dual Front Camera   \n",
       "6  48MP + 8MP | 32MP + 8MP Dual Front Camera   \n",
       "7  48MP + 8MP | 32MP + 8MP Dual Front Camera   \n",
       "8       64MP Rear Camera | 16MP Front Camera   \n",
       "\n",
       "                            Secondary_camera  \\\n",
       "0                           64MP Rear Camera   \n",
       "1                                          -   \n",
       "2  48MP + 8MP | 32MP + 8MP Dual Front Camera   \n",
       "3  48MP + 8MP | 32MP + 8MP Dual Front Camera   \n",
       "4  48MP + 8MP | 32MP + 8MP Dual Front Camera   \n",
       "5  48MP + 8MP | 32MP + 8MP Dual Front Camera   \n",
       "6  48MP + 8MP | 32MP + 8MP Dual Front Camera   \n",
       "7  48MP + 8MP | 32MP + 8MP Dual Front Camera   \n",
       "8       64MP Rear Camera | 16MP Front Camera   \n",
       "\n",
       "                            display_size  battery_capacity    price  \\\n",
       "0           16.33 cm (6.43 inch) Display  4500 mAh Battery        -   \n",
       "1                                      -                 -  ₹24,999   \n",
       "2  16.36 cm (6.44 inch) Full HD+ Display  4115 mAh Battery        -   \n",
       "3  16.36 cm (6.44 inch) Full HD+ Display  4115 mAh Battery  ₹24,790   \n",
       "4  16.36 cm (6.44 inch) Full HD+ Display  4115 mAh Battery        -   \n",
       "5  16.36 cm (6.44 inch) Full HD+ Display  4115 mAh Battery        -   \n",
       "6  16.36 cm (6.44 inch) Full HD+ Display  4115 mAh Battery        -   \n",
       "7  16.36 cm (6.44 inch) Full HD+ Display  4115 mAh Battery        -   \n",
       "8           16.33 cm (6.43 inch) Display  4500 mAh Battery  ₹19,999   \n",
       "\n",
       "                                        product_urls  \n",
       "0  https://www.flipkart.com/oneplus-nord-ce-2-5g-...  \n",
       "1  https://www.flipkart.com/oneplus-nord-ce-2-5g-...  \n",
       "2  https://www.flipkart.com/oneplus-nord-gray-ony...  \n",
       "3  https://www.flipkart.com/oneplus-nord-blue-mar...  \n",
       "4  https://www.flipkart.com/oneplus-nord-blue-mar...  \n",
       "5  https://www.flipkart.com/oneplus-nord-gray-ony...  \n",
       "6  https://www.flipkart.com/oneplus-nord-blue-mar...  \n",
       "7  https://www.flipkart.com/oneplus-nord-gray-ony...  \n",
       "8  https://www.flipkart.com/oneplus-nord-ce-2-5g-...  "
      ]
     },
     "execution_count": 93,
     "metadata": {},
     "output_type": "execute_result"
    }
   ],
   "source": [
    "import pandas as pd\n",
    "df=pd.DataFrame({'brand_name':Brand_Names,'smart_phone_name':Smartphone_name,'colour':Colour,'Ram':RAM,'storage_rom':Storage_ROM,'Primary_camera':Primary_Camera,'Secondary_camera':Secondary_Camera,'display_size':Display_Size,'battery_capacity':Battery_Capacity,'price':Price,'product_urls':product_urlss})\n",
    "df"
   ]
  },
  {
   "cell_type": "markdown",
   "id": "378315bf-83b4-440f-b96f-86438e814344",
   "metadata": {},
   "source": [
    "# 5. Write a program to scrap geospatial coordinates (latitude, longitude) of a city searched on google maps. "
   ]
  },
  {
   "cell_type": "code",
   "execution_count": 119,
   "id": "f2705cee-d50d-41e9-a724-ddb4385e086d",
   "metadata": {
    "tags": []
   },
   "outputs": [],
   "source": [
    "from selenium import webdriver\n",
    "import time \n",
    "from selenium.common.exceptions import NoSuchElementException # importing exception\n",
    "import warnings\n",
    "warnings.filterwarnings('ignore')\n",
    "from selenium.webdriver.common.by import By\n",
    "import re"
   ]
  },
  {
   "cell_type": "code",
   "execution_count": 109,
   "id": "72a729f8-0449-456c-bc62-61b37e41fbe3",
   "metadata": {
    "tags": []
   },
   "outputs": [],
   "source": [
    "driver=webdriver.Chrome()"
   ]
  },
  {
   "cell_type": "code",
   "execution_count": 120,
   "id": "cbd6428a-3dca-44dc-9065-4c58acb0ecf1",
   "metadata": {
    "tags": []
   },
   "outputs": [],
   "source": [
    "driver.get(\"https://maps.google.com/\")"
   ]
  },
  {
   "cell_type": "code",
   "execution_count": 121,
   "id": "85f7e5b8-269a-4329-8781-4b61fb01ad2c",
   "metadata": {
    "tags": []
   },
   "outputs": [],
   "source": [
    "location=driver.find_element(By.XPATH,\"/html/body/div[1]/div[3]/div[8]/div[3]/div[1]/div[1]/div/div[2]/form/input\")\n",
    "location.send_keys('hyderabad')"
   ]
  },
  {
   "cell_type": "code",
   "execution_count": 122,
   "id": "d63d5cf4-5ba2-4211-a765-451a51e1aee2",
   "metadata": {
    "tags": []
   },
   "outputs": [],
   "source": [
    "searchs=driver.find_element(By.XPATH,\"/html/body/div[1]/div[3]/div[8]/div[3]/div[1]/div[1]/div/div[2]/div[1]/button/span\")\n",
    "searchs.click()\n",
    "time.sleep(3)"
   ]
  },
  {
   "cell_type": "code",
   "execution_count": 123,
   "id": "29eb503a-bc0e-4159-9242-e60fb600f49f",
   "metadata": {
    "tags": []
   },
   "outputs": [
    {
     "name": "stdout",
     "output_type": "stream",
     "text": [
      "Latitude: 17.4127332\n",
      "Longitude: 78.0783482\n"
     ]
    }
   ],
   "source": [
    "url = \"https://www.google.com/maps/place/Hyderabad,+Telangana/@17.4127332,78.0783482,10z/data=!3m1!4b1!4m6!3m5!1s0x3bcb99daeaebd2c7:0xae93b78392bafbc2!8m2!3d17.406498!4d78.4772439!16zL20vMDljNnc?entry=ttu\"\n",
    "\n",
    "# Extract latitude and longitude values using regular expressions\n",
    "match = re.search(r'@(-?\\d+\\.\\d+),(-?\\d+\\.\\d+)', url)\n",
    "latitude = match.group(1)\n",
    "longitude = match.group(2)\n",
    "\n",
    "print(\"Latitude:\", latitude)\n",
    "print(\"Longitude:\", longitude)\n"
   ]
  },
  {
   "cell_type": "markdown",
   "id": "59a8760a-6b61-4b2b-bd02-1733cb59726b",
   "metadata": {},
   "source": [
    "# 6. Write a program to scrap all the available details of best gaming laptops from digit.in. \n"
   ]
  },
  {
   "cell_type": "code",
   "execution_count": 21,
   "id": "63649810-b9b9-478a-afa9-b3d0e92eb1cd",
   "metadata": {
    "tags": []
   },
   "outputs": [],
   "source": [
    "from selenium import webdriver\n",
    "import time \n",
    "from selenium.common.exceptions import NoSuchElementException # importing exception\n",
    "import warnings\n",
    "warnings.filterwarnings('ignore')\n",
    "from selenium.webdriver.common.by import By"
   ]
  },
  {
   "cell_type": "code",
   "execution_count": 22,
   "id": "96c4efc8-3049-4bd8-bab5-6f7ec79d4b97",
   "metadata": {
    "tags": []
   },
   "outputs": [],
   "source": [
    "driver=webdriver.Chrome()"
   ]
  },
  {
   "cell_type": "code",
   "execution_count": 23,
   "id": "f9dcde92-5ac9-4f0d-bf5c-593763662345",
   "metadata": {
    "tags": []
   },
   "outputs": [],
   "source": [
    "driver.get(\"https://www.digit.in/\")"
   ]
  },
  {
   "cell_type": "code",
   "execution_count": 26,
   "id": "94d97616-d79b-4818-8e72-4bf7e243e416",
   "metadata": {
    "tags": []
   },
   "outputs": [],
   "source": [
    "# scrape all product urls\n",
    "product_urls=[]\n",
    "start=0\n",
    "end=2\n",
    "for page in range(start,end): \n",
    "    url=driver.find_elements(By.XPATH,'//h3[@class=\"font130 mt0 mb10 mobilesblockdisplay \"]//a[1]')\n",
    "    for i in url:\n",
    "        product_urls.append(i.get_attribute('href'))\n",
    "    time.sleep(2)"
   ]
  },
  {
   "cell_type": "code",
   "execution_count": 27,
   "id": "7fbe1848-354b-4492-abba-ff8c5f69c794",
   "metadata": {
    "tags": []
   },
   "outputs": [
    {
     "data": {
      "text/plain": [
       "8"
      ]
     },
     "execution_count": 27,
     "metadata": {},
     "output_type": "execute_result"
    }
   ],
   "source": [
    "len(product_urls)"
   ]
  },
  {
   "cell_type": "code",
   "execution_count": 28,
   "id": "9c721146-801f-47e8-a44a-f3dfd7b018a0",
   "metadata": {
    "tags": []
   },
   "outputs": [
    {
     "data": {
      "text/html": [
       "<div>\n",
       "<style scoped>\n",
       "    .dataframe tbody tr th:only-of-type {\n",
       "        vertical-align: middle;\n",
       "    }\n",
       "\n",
       "    .dataframe tbody tr th {\n",
       "        vertical-align: top;\n",
       "    }\n",
       "\n",
       "    .dataframe thead th {\n",
       "        text-align: right;\n",
       "    }\n",
       "</style>\n",
       "<table border=\"1\" class=\"dataframe\">\n",
       "  <thead>\n",
       "    <tr style=\"text-align: right;\">\n",
       "      <th></th>\n",
       "      <th>product_urls</th>\n",
       "    </tr>\n",
       "  </thead>\n",
       "  <tbody>\n",
       "    <tr>\n",
       "      <th>0</th>\n",
       "      <td>https://www.digit.in/laptops/lenovo-ideapad-ga...</td>\n",
       "    </tr>\n",
       "    <tr>\n",
       "      <th>1</th>\n",
       "      <td>https://www.digit.in/laptops/dell-new-g15-5515...</td>\n",
       "    </tr>\n",
       "    <tr>\n",
       "      <th>2</th>\n",
       "      <td>https://www.digit.in/laptops/hp-pavilion-gamin...</td>\n",
       "    </tr>\n",
       "    <tr>\n",
       "      <th>3</th>\n",
       "      <td>https://www.digit.in/laptops/lenovo-ideapad-ga...</td>\n",
       "    </tr>\n",
       "    <tr>\n",
       "      <th>4</th>\n",
       "      <td>https://www.digit.in/laptops/lenovo-ideapad-ga...</td>\n",
       "    </tr>\n",
       "    <tr>\n",
       "      <th>5</th>\n",
       "      <td>https://www.digit.in/laptops/dell-new-g15-5515...</td>\n",
       "    </tr>\n",
       "    <tr>\n",
       "      <th>6</th>\n",
       "      <td>https://www.digit.in/laptops/hp-pavilion-gamin...</td>\n",
       "    </tr>\n",
       "    <tr>\n",
       "      <th>7</th>\n",
       "      <td>https://www.digit.in/laptops/lenovo-ideapad-ga...</td>\n",
       "    </tr>\n",
       "  </tbody>\n",
       "</table>\n",
       "</div>"
      ],
      "text/plain": [
       "                                        product_urls\n",
       "0  https://www.digit.in/laptops/lenovo-ideapad-ga...\n",
       "1  https://www.digit.in/laptops/dell-new-g15-5515...\n",
       "2  https://www.digit.in/laptops/hp-pavilion-gamin...\n",
       "3  https://www.digit.in/laptops/lenovo-ideapad-ga...\n",
       "4  https://www.digit.in/laptops/lenovo-ideapad-ga...\n",
       "5  https://www.digit.in/laptops/dell-new-g15-5515...\n",
       "6  https://www.digit.in/laptops/hp-pavilion-gamin...\n",
       "7  https://www.digit.in/laptops/lenovo-ideapad-ga..."
      ]
     },
     "execution_count": 28,
     "metadata": {},
     "output_type": "execute_result"
    }
   ],
   "source": [
    "import pandas as pd\n",
    "df=pd.DataFrame({'product_urls':product_urls})\n",
    "df"
   ]
  },
  {
   "cell_type": "code",
   "execution_count": 29,
   "id": "f7608fa7-a2ad-4b29-9faf-61b769173fa2",
   "metadata": {
    "tags": []
   },
   "outputs": [],
   "source": [
    "Laptop_name=[]\n",
    "Operating_system=[]\n",
    "Processor_model_name=[]\n",
    "Storage_drive_capacity=[]\n",
    "Price=[]"
   ]
  },
  {
   "cell_type": "code",
   "execution_count": 30,
   "id": "f6bbd19d-e525-482f-a487-48c9448e64cc",
   "metadata": {
    "tags": []
   },
   "outputs": [],
   "source": [
    "for url in product_urls:\n",
    "    driver.get(url)\n",
    "    time.sleep(3)\n",
    "    try:\n",
    "        laptop_names=driver.find_element(By.XPATH,'/html/body/div[2]/div[3]/div[1]/div/div/div/div/div[2]/div[1]/div[1]/h1')\n",
    "        Laptop_name.append(laptop_names.text)\n",
    "    except NoSuchElementException:\n",
    "        Laptop_name.append('-')\n",
    "    try:\n",
    "        operating_system=driver.find_element(By.XPATH,'/html/body/div[2]/div[3]/div[1]/div/div/div/div/div[2]/div[1]/div[4]/div[3]/div/div/ul/li[1]/div/p[2]/strong')\n",
    "        Operating_system.append(operating_system.text)\n",
    "    except NoSuchElementException:\n",
    "        Operating_system.append('-')\n",
    "    try:\n",
    "        processor_model_name=driver.find_element(By.XPATH,'/html/body/div[2]/div[3]/div[1]/div/div/div/div/div[2]/div[1]/div[4]/div[3]/div/div/ul/li[2]/div/p[2]/strong')\n",
    "        Processor_model_name.append(processor_model_name.text)\n",
    "    except NoSuchElementException:\n",
    "        Processor_model_name.append('-')    \n",
    "    try:\n",
    "        rom=driver.find_element(By.XPATH,'/html/body/div[2]/div[3]/div[1]/div/div/div/div/div[2]/div[1]/div[4]/div[3]/div/div/ul/li[3]/div/p[2]/strong')\n",
    "        Storage_drive_capacity.append(rom.text)\n",
    "    except NoSuchElementException:\n",
    "        Storage_drive_capacity.append('-')\n",
    "    try:\n",
    "        price=driver.find_element(By.XPATH,'//div[@class=\"cegg-price-row\"]//div[1]')\n",
    "        Price.append(price.text)\n",
    "    except NoSuchElementException:\n",
    "        Price.append('-')       "
   ]
  },
  {
   "cell_type": "code",
   "execution_count": 31,
   "id": "a1d37c13-219e-4f1d-b25e-533f83d77274",
   "metadata": {
    "tags": []
   },
   "outputs": [
    {
     "name": "stdout",
     "output_type": "stream",
     "text": [
      "8 8 8 8 8 8\n"
     ]
    }
   ],
   "source": [
    "print(len(Laptop_name),len(Operating_system),len(Processor_model_name),len(Storage_drive_capacity),len(Price),len(product_urls))"
   ]
  },
  {
   "cell_type": "code",
   "execution_count": 32,
   "id": "409deab8-d4d3-4bc3-b91d-69a7e6209757",
   "metadata": {
    "tags": []
   },
   "outputs": [
    {
     "data": {
      "text/html": [
       "<div>\n",
       "<style scoped>\n",
       "    .dataframe tbody tr th:only-of-type {\n",
       "        vertical-align: middle;\n",
       "    }\n",
       "\n",
       "    .dataframe tbody tr th {\n",
       "        vertical-align: top;\n",
       "    }\n",
       "\n",
       "    .dataframe thead th {\n",
       "        text-align: right;\n",
       "    }\n",
       "</style>\n",
       "<table border=\"1\" class=\"dataframe\">\n",
       "  <thead>\n",
       "    <tr style=\"text-align: right;\">\n",
       "      <th></th>\n",
       "      <th>laptop_name</th>\n",
       "      <th>Operating_system</th>\n",
       "      <th>processor_model</th>\n",
       "      <th>Rom</th>\n",
       "      <th>price</th>\n",
       "      <th>product_urls</th>\n",
       "    </tr>\n",
       "  </thead>\n",
       "  <tbody>\n",
       "    <tr>\n",
       "      <th>0</th>\n",
       "      <td>Lenovo IdeaPad Gaming 3 82K200X3IN Ryzen 7-580...</td>\n",
       "      <td>Windows 11 Home</td>\n",
       "      <td>5th Gen AMD Ryzen 7-5800</td>\n",
       "      <td>512 GB</td>\n",
       "      <td>Rs. 84,990</td>\n",
       "      <td>https://www.digit.in/laptops/lenovo-ideapad-ga...</td>\n",
       "    </tr>\n",
       "    <tr>\n",
       "      <th>1</th>\n",
       "      <td>Dell New G15-5515 D560805WIN9W Ryzen 5-5600H (...</td>\n",
       "      <td>Windows 10</td>\n",
       "      <td>AMD Ryzen 5-5600H</td>\n",
       "      <td>512 GB</td>\n",
       "      <td>Rs. 78,490</td>\n",
       "      <td>https://www.digit.in/laptops/dell-new-g15-5515...</td>\n",
       "    </tr>\n",
       "    <tr>\n",
       "      <th>2</th>\n",
       "      <td>HP Pavilion Gaming 15-Ec2145AX Ryzen 5-5600H (...</td>\n",
       "      <td>Windows 11 Home</td>\n",
       "      <td>AMD Ryzen 5 5600H</td>\n",
       "      <td>512 GB</td>\n",
       "      <td>out of stock</td>\n",
       "      <td>https://www.digit.in/laptops/hp-pavilion-gamin...</td>\n",
       "    </tr>\n",
       "    <tr>\n",
       "      <th>3</th>\n",
       "      <td>-</td>\n",
       "      <td>-</td>\n",
       "      <td>-</td>\n",
       "      <td>-</td>\n",
       "      <td>-</td>\n",
       "      <td>https://www.digit.in/laptops/lenovo-ideapad-ga...</td>\n",
       "    </tr>\n",
       "    <tr>\n",
       "      <th>4</th>\n",
       "      <td>Lenovo IdeaPad Gaming 3 82K200X3IN Ryzen 7-580...</td>\n",
       "      <td>Windows 11 Home</td>\n",
       "      <td>5th Gen AMD Ryzen 7-5800</td>\n",
       "      <td>512 GB</td>\n",
       "      <td>Rs. 84,990</td>\n",
       "      <td>https://www.digit.in/laptops/lenovo-ideapad-ga...</td>\n",
       "    </tr>\n",
       "    <tr>\n",
       "      <th>5</th>\n",
       "      <td>Dell New G15-5515 D560805WIN9W Ryzen 5-5600H (...</td>\n",
       "      <td>Windows 10</td>\n",
       "      <td>AMD Ryzen 5-5600H</td>\n",
       "      <td>512 GB</td>\n",
       "      <td>Rs. 78,490</td>\n",
       "      <td>https://www.digit.in/laptops/dell-new-g15-5515...</td>\n",
       "    </tr>\n",
       "    <tr>\n",
       "      <th>6</th>\n",
       "      <td>HP Pavilion Gaming 15-Ec2145AX Ryzen 5-5600H (...</td>\n",
       "      <td>Windows 11 Home</td>\n",
       "      <td>AMD Ryzen 5 5600H</td>\n",
       "      <td>512 GB</td>\n",
       "      <td>out of stock</td>\n",
       "      <td>https://www.digit.in/laptops/hp-pavilion-gamin...</td>\n",
       "    </tr>\n",
       "    <tr>\n",
       "      <th>7</th>\n",
       "      <td>-</td>\n",
       "      <td>-</td>\n",
       "      <td>-</td>\n",
       "      <td>-</td>\n",
       "      <td>-</td>\n",
       "      <td>https://www.digit.in/laptops/lenovo-ideapad-ga...</td>\n",
       "    </tr>\n",
       "  </tbody>\n",
       "</table>\n",
       "</div>"
      ],
      "text/plain": [
       "                                         laptop_name Operating_system  \\\n",
       "0  Lenovo IdeaPad Gaming 3 82K200X3IN Ryzen 7-580...  Windows 11 Home   \n",
       "1  Dell New G15-5515 D560805WIN9W Ryzen 5-5600H (...       Windows 10   \n",
       "2  HP Pavilion Gaming 15-Ec2145AX Ryzen 5-5600H (...  Windows 11 Home   \n",
       "3                                                  -                -   \n",
       "4  Lenovo IdeaPad Gaming 3 82K200X3IN Ryzen 7-580...  Windows 11 Home   \n",
       "5  Dell New G15-5515 D560805WIN9W Ryzen 5-5600H (...       Windows 10   \n",
       "6  HP Pavilion Gaming 15-Ec2145AX Ryzen 5-5600H (...  Windows 11 Home   \n",
       "7                                                  -                -   \n",
       "\n",
       "            processor_model     Rom         price  \\\n",
       "0  5th Gen AMD Ryzen 7-5800  512 GB    Rs. 84,990   \n",
       "1         AMD Ryzen 5-5600H  512 GB    Rs. 78,490   \n",
       "2         AMD Ryzen 5 5600H  512 GB  out of stock   \n",
       "3                         -       -             -   \n",
       "4  5th Gen AMD Ryzen 7-5800  512 GB    Rs. 84,990   \n",
       "5         AMD Ryzen 5-5600H  512 GB    Rs. 78,490   \n",
       "6         AMD Ryzen 5 5600H  512 GB  out of stock   \n",
       "7                         -       -             -   \n",
       "\n",
       "                                        product_urls  \n",
       "0  https://www.digit.in/laptops/lenovo-ideapad-ga...  \n",
       "1  https://www.digit.in/laptops/dell-new-g15-5515...  \n",
       "2  https://www.digit.in/laptops/hp-pavilion-gamin...  \n",
       "3  https://www.digit.in/laptops/lenovo-ideapad-ga...  \n",
       "4  https://www.digit.in/laptops/lenovo-ideapad-ga...  \n",
       "5  https://www.digit.in/laptops/dell-new-g15-5515...  \n",
       "6  https://www.digit.in/laptops/hp-pavilion-gamin...  \n",
       "7  https://www.digit.in/laptops/lenovo-ideapad-ga...  "
      ]
     },
     "execution_count": 32,
     "metadata": {},
     "output_type": "execute_result"
    }
   ],
   "source": [
    "import pandas as pd\n",
    "df=pd.DataFrame({'laptop_name':Laptop_name,'Operating_system':Operating_system,'processor_model':Processor_model_name,'Rom':Storage_drive_capacity,'price':Price,'product_urls':product_urls})\n",
    "df"
   ]
  },
  {
   "cell_type": "markdown",
   "id": "1a441f16-37d6-4f30-ae0e-e6e729a9b09c",
   "metadata": {},
   "source": [
    "# 7. Write a python program to scrape the details for all billionaires from www.forbes.com. Details to be scrapped: “Rank”, “Name”, “Net worth”, “Age”, “Citizenship”, “Source”, “Industry”. "
   ]
  },
  {
   "cell_type": "code",
   "execution_count": 60,
   "id": "e3536c11-aa3d-4fe0-bc1e-c36480fe609c",
   "metadata": {
    "tags": []
   },
   "outputs": [],
   "source": [
    "from selenium import webdriver\n",
    "import time \n",
    "from selenium.common.exceptions import NoSuchElementException # importing exception\n",
    "import warnings\n",
    "warnings.filterwarnings('ignore')\n",
    "from selenium.webdriver.common.by import By"
   ]
  },
  {
   "cell_type": "code",
   "execution_count": 61,
   "id": "17019792-117f-44be-a61c-680d6fabde0f",
   "metadata": {
    "tags": []
   },
   "outputs": [],
   "source": [
    "driver=webdriver.Chrome()"
   ]
  },
  {
   "cell_type": "code",
   "execution_count": 62,
   "id": "2b8f74ad-ad33-4290-a93c-b96503ea346a",
   "metadata": {
    "tags": []
   },
   "outputs": [],
   "source": [
    "driver.get(\"https://www.forbes.com/billionaires/\")"
   ]
  },
  {
   "cell_type": "code",
   "execution_count": 109,
   "id": "a116df5d-9c5c-42a5-825b-77f5257d68b8",
   "metadata": {
    "tags": []
   },
   "outputs": [],
   "source": [
    "Rank=[]\n",
    "Name=[] \n",
    "Net_worth=[] \n",
    "Age=[] \n",
    "Source=[] \n",
    "Industry=[]"
   ]
  },
  {
   "cell_type": "code",
   "execution_count": 116,
   "id": "59d6a843-bf7a-47a0-acf4-838ef8210352",
   "metadata": {
    "tags": []
   },
   "outputs": [],
   "source": [
    "Rank_tags=driver.find_elements(By.XPATH,'//div[@class=\"Table_rank___YBhk Table_dataCell__2QCve\"]')\n",
    "for i in Rank_tags:\n",
    "    titles=i.text\n",
    "    Rank.append(titles)\n",
    "networth=driver.find_elements(By.XPATH,'//div[@class=\"Table_netWorth___L4R5 Table_dataCell__2QCve\"]')\n",
    "for i in networth:\n",
    "    worth=i.text\n",
    "    Net_worth.append(worth)\n",
    "source_tags=driver.find_elements(By.XPATH,'//div[@class=\"Table_dataCell__2QCve\"]//span')\n",
    "for i in source_tags:\n",
    "    source=i.text\n",
    "    Source.append(source)       \n",
    "    \n",
    "   "
   ]
  },
  {
   "cell_type": "code",
   "execution_count": 112,
   "id": "b7165b51-1ccd-482e-bde2-c4494eb6d695",
   "metadata": {
    "tags": []
   },
   "outputs": [],
   "source": [
    "Name_tags=driver.find_elements(By.XPATH,'//div[@class=\"Table_dataCell__2QCve\"]')\n",
    "for i in Name_tags:\n",
    "    name=i.text\n",
    "    Name.append(name)\n",
    "age_tags=driver.find_elements(By.XPATH,'//div[@class=\"Table_dataCell__2QCve\"]')\n",
    "for i in age_tags:\n",
    "    age=i.text\n",
    "    Age.append(age)\n",
    "industry_tags=driver.find_elements(By.XPATH,'//div[@class=\"Table_dataCell__2QCve\"]')\n",
    "for i in industry_tags:\n",
    "    industry=i.text\n",
    "    Industry.append(industry)    "
   ]
  },
  {
   "cell_type": "code",
   "execution_count": 117,
   "id": "0b9c8280-d5f6-4860-84fd-281d7c12de48",
   "metadata": {
    "tags": []
   },
   "outputs": [
    {
     "name": "stdout",
     "output_type": "stream",
     "text": [
      "800 800 800 800 800 800\n"
     ]
    }
   ],
   "source": [
    "print(len(Rank),len(Name),len(Net_worth),len(Age),len(Industry),len(Source))"
   ]
  },
  {
   "cell_type": "code",
   "execution_count": 119,
   "id": "d5e14df4-cb93-4e0d-8096-290a73239e02",
   "metadata": {
    "tags": []
   },
   "outputs": [
    {
     "data": {
      "text/html": [
       "<div>\n",
       "<style scoped>\n",
       "    .dataframe tbody tr th:only-of-type {\n",
       "        vertical-align: middle;\n",
       "    }\n",
       "\n",
       "    .dataframe tbody tr th {\n",
       "        vertical-align: top;\n",
       "    }\n",
       "\n",
       "    .dataframe thead th {\n",
       "        text-align: right;\n",
       "    }\n",
       "</style>\n",
       "<table border=\"1\" class=\"dataframe\">\n",
       "  <thead>\n",
       "    <tr style=\"text-align: right;\">\n",
       "      <th></th>\n",
       "      <th>rank</th>\n",
       "      <th>name</th>\n",
       "      <th>net_worth</th>\n",
       "      <th>age</th>\n",
       "      <th>industry</th>\n",
       "      <th>source</th>\n",
       "    </tr>\n",
       "  </thead>\n",
       "  <tbody>\n",
       "    <tr>\n",
       "      <th>0</th>\n",
       "      <td>1</td>\n",
       "      <td>Bernard Arnault &amp; family</td>\n",
       "      <td>$211 B</td>\n",
       "      <td>Bernard Arnault &amp; family</td>\n",
       "      <td>Bernard Arnault &amp; family</td>\n",
       "      <td>LVMH</td>\n",
       "    </tr>\n",
       "    <tr>\n",
       "      <th>1</th>\n",
       "      <td>2</td>\n",
       "      <td>74</td>\n",
       "      <td>$180 B</td>\n",
       "      <td>74</td>\n",
       "      <td>74</td>\n",
       "      <td>Tesla, SpaceX</td>\n",
       "    </tr>\n",
       "    <tr>\n",
       "      <th>2</th>\n",
       "      <td>3</td>\n",
       "      <td>LVMH</td>\n",
       "      <td>$114 B</td>\n",
       "      <td>LVMH</td>\n",
       "      <td>LVMH</td>\n",
       "      <td>Amazon</td>\n",
       "    </tr>\n",
       "    <tr>\n",
       "      <th>3</th>\n",
       "      <td>4</td>\n",
       "      <td>Fashion &amp; Retail</td>\n",
       "      <td>$107 B</td>\n",
       "      <td>Fashion &amp; Retail</td>\n",
       "      <td>Fashion &amp; Retail</td>\n",
       "      <td>Oracle</td>\n",
       "    </tr>\n",
       "    <tr>\n",
       "      <th>4</th>\n",
       "      <td>5</td>\n",
       "      <td>Elon Musk</td>\n",
       "      <td>$106 B</td>\n",
       "      <td>Elon Musk</td>\n",
       "      <td>Elon Musk</td>\n",
       "      <td>Berkshire Hathaway</td>\n",
       "    </tr>\n",
       "    <tr>\n",
       "      <th>...</th>\n",
       "      <td>...</td>\n",
       "      <td>...</td>\n",
       "      <td>...</td>\n",
       "      <td>...</td>\n",
       "      <td>...</td>\n",
       "      <td>...</td>\n",
       "    </tr>\n",
       "    <tr>\n",
       "      <th>795</th>\n",
       "      <td>195</td>\n",
       "      <td>Food &amp; Beverage</td>\n",
       "      <td>$9.6 B</td>\n",
       "      <td>Food &amp; Beverage</td>\n",
       "      <td>Food &amp; Beverage</td>\n",
       "      <td>Solar panels</td>\n",
       "    </tr>\n",
       "    <tr>\n",
       "      <th>796</th>\n",
       "      <td>195</td>\n",
       "      <td>Valerie Mars</td>\n",
       "      <td>$9.6 B</td>\n",
       "      <td>Valerie Mars</td>\n",
       "      <td>Valerie Mars</td>\n",
       "      <td>Chemicals</td>\n",
       "    </tr>\n",
       "    <tr>\n",
       "      <th>797</th>\n",
       "      <td>195</td>\n",
       "      <td>64</td>\n",
       "      <td>$9.6 B</td>\n",
       "      <td>64</td>\n",
       "      <td>64</td>\n",
       "      <td>Candy, pet food</td>\n",
       "    </tr>\n",
       "    <tr>\n",
       "      <th>798</th>\n",
       "      <td>195</td>\n",
       "      <td>Candy, pet food</td>\n",
       "      <td>$9.6 B</td>\n",
       "      <td>Candy, pet food</td>\n",
       "      <td>Candy, pet food</td>\n",
       "      <td>Candy, pet food</td>\n",
       "    </tr>\n",
       "    <tr>\n",
       "      <th>799</th>\n",
       "      <td>195</td>\n",
       "      <td>Food &amp; Beverage</td>\n",
       "      <td>$9.6 B</td>\n",
       "      <td>Food &amp; Beverage</td>\n",
       "      <td>Food &amp; Beverage</td>\n",
       "      <td>Candy, pet food</td>\n",
       "    </tr>\n",
       "  </tbody>\n",
       "</table>\n",
       "<p>800 rows × 6 columns</p>\n",
       "</div>"
      ],
      "text/plain": [
       "    rank                      name net_worth                       age  \\\n",
       "0      1  Bernard Arnault & family    $211 B  Bernard Arnault & family   \n",
       "1      2                        74    $180 B                        74   \n",
       "2      3                      LVMH    $114 B                      LVMH   \n",
       "3      4          Fashion & Retail    $107 B          Fashion & Retail   \n",
       "4      5                 Elon Musk    $106 B                 Elon Musk   \n",
       "..   ...                       ...       ...                       ...   \n",
       "795  195           Food & Beverage    $9.6 B           Food & Beverage   \n",
       "796  195              Valerie Mars    $9.6 B              Valerie Mars   \n",
       "797  195                        64    $9.6 B                        64   \n",
       "798  195           Candy, pet food    $9.6 B           Candy, pet food   \n",
       "799  195           Food & Beverage    $9.6 B           Food & Beverage   \n",
       "\n",
       "                     industry              source  \n",
       "0    Bernard Arnault & family                LVMH  \n",
       "1                          74       Tesla, SpaceX  \n",
       "2                        LVMH              Amazon  \n",
       "3            Fashion & Retail              Oracle  \n",
       "4                   Elon Musk  Berkshire Hathaway  \n",
       "..                        ...                 ...  \n",
       "795           Food & Beverage        Solar panels  \n",
       "796              Valerie Mars           Chemicals  \n",
       "797                        64     Candy, pet food  \n",
       "798           Candy, pet food     Candy, pet food  \n",
       "799           Food & Beverage     Candy, pet food  \n",
       "\n",
       "[800 rows x 6 columns]"
      ]
     },
     "execution_count": 119,
     "metadata": {},
     "output_type": "execute_result"
    }
   ],
   "source": [
    "import pandas as pd\n",
    "df=pd.DataFrame({'rank': Rank,'name':Name,'net_worth':Net_worth,'age':Age,'industry':Industry,'source':Source})\n",
    "df"
   ]
  },
  {
   "cell_type": "markdown",
   "id": "5df48cf3-d7da-4691-985e-33abde427388",
   "metadata": {},
   "source": [
    "# 8. Write a program to extract at least 500 Comments, Comment upvote and time when comment was posted from any YouTube Video"
   ]
  },
  {
   "cell_type": "code",
   "execution_count": 120,
   "id": "0cc70727-81eb-4eae-965b-9deacc0ba628",
   "metadata": {
    "tags": []
   },
   "outputs": [],
   "source": [
    "from selenium import webdriver\n",
    "import time \n",
    "from selenium.common.exceptions import NoSuchElementException # importing exception\n",
    "import warnings\n",
    "warnings.filterwarnings('ignore')\n",
    "from selenium.webdriver.common.by import By"
   ]
  },
  {
   "cell_type": "code",
   "execution_count": 121,
   "id": "1f32a3ee-8fb6-461c-9877-56f2d0677ca9",
   "metadata": {
    "tags": []
   },
   "outputs": [],
   "source": [
    "driver=webdriver.Chrome()"
   ]
  },
  {
   "cell_type": "code",
   "execution_count": 122,
   "id": "a7568f24-0eda-495c-ac89-a86e16d205e1",
   "metadata": {
    "tags": []
   },
   "outputs": [],
   "source": [
    "driver.get(\"https://www.youtube.com/watch?v=Y9253_M38Xk\")\n"
   ]
  },
  {
   "cell_type": "code",
   "execution_count": 130,
   "id": "40c92e6d-ca9d-468e-a53c-a0e1b3bbfc7f",
   "metadata": {
    "tags": []
   },
   "outputs": [],
   "source": [
    "comment=[]\n",
    "time_comment=[]"
   ]
  },
  {
   "cell_type": "code",
   "execution_count": 131,
   "id": "892ccf43-dd42-4dc7-9b8f-7b3b49b76589",
   "metadata": {
    "tags": []
   },
   "outputs": [],
   "source": [
    "comment_tags=driver.find_elements(By.XPATH,'//div[@class=\"style-scope ytd-expander\"]')\n",
    "for i in comment_tags:\n",
    "    tags=i.text\n",
    "    comment.append(tags)\n",
    "time_tags=driver.find_elements(By.XPATH,'//a[@class=\"yt-simple-endpoint style-scope yt-formatted-string\"]')\n",
    "for i in time_tags:\n",
    "    time=i.text\n",
    "    time_comment.append(time)"
   ]
  },
  {
   "cell_type": "code",
   "execution_count": 132,
   "id": "daeb67e0-aef5-41be-b716-76f6fe154e17",
   "metadata": {
    "tags": []
   },
   "outputs": [
    {
     "name": "stdout",
     "output_type": "stream",
     "text": [
      "501 501\n"
     ]
    }
   ],
   "source": [
    "print(len(comment),len(time_comment))"
   ]
  },
  {
   "cell_type": "code",
   "execution_count": 133,
   "id": "e317148c-d793-44fd-a63d-a4e810417806",
   "metadata": {
    "tags": []
   },
   "outputs": [
    {
     "data": {
      "text/html": [
       "<div>\n",
       "<style scoped>\n",
       "    .dataframe tbody tr th:only-of-type {\n",
       "        vertical-align: middle;\n",
       "    }\n",
       "\n",
       "    .dataframe tbody tr th {\n",
       "        vertical-align: top;\n",
       "    }\n",
       "\n",
       "    .dataframe thead th {\n",
       "        text-align: right;\n",
       "    }\n",
       "</style>\n",
       "<table border=\"1\" class=\"dataframe\">\n",
       "  <thead>\n",
       "    <tr style=\"text-align: right;\">\n",
       "      <th></th>\n",
       "      <th>comment</th>\n",
       "      <th>time_comment</th>\n",
       "    </tr>\n",
       "  </thead>\n",
       "  <tbody>\n",
       "    <tr>\n",
       "      <th>0</th>\n",
       "      <td></td>\n",
       "      <td>Dhruv Rathee</td>\n",
       "    </tr>\n",
       "    <tr>\n",
       "      <th>1</th>\n",
       "      <td>KukuFM Download Link - https://kukufm.sng.link...</td>\n",
       "      <td>17 hours ago</td>\n",
       "    </tr>\n",
       "    <tr>\n",
       "      <th>2</th>\n",
       "      <td>This is one of the most informative and eye-op...</td>\n",
       "      <td>https://kukufm.sng.link/Apksi/1ocn/9n2s</td>\n",
       "    </tr>\n",
       "    <tr>\n",
       "      <th>3</th>\n",
       "      <td>Amazing video! We want more educated people li...</td>\n",
       "      <td>1 hour ago</td>\n",
       "    </tr>\n",
       "    <tr>\n",
       "      <th>4</th>\n",
       "      <td>Jo aaj ki government ka haal. Aise halato mai ...</td>\n",
       "      <td>36 minutes ago</td>\n",
       "    </tr>\n",
       "    <tr>\n",
       "      <th>...</th>\n",
       "      <td>...</td>\n",
       "      <td>...</td>\n",
       "    </tr>\n",
       "    <tr>\n",
       "      <th>496</th>\n",
       "      <td></td>\n",
       "      <td>20 minutes ago</td>\n",
       "    </tr>\n",
       "    <tr>\n",
       "      <th>497</th>\n",
       "      <td>Dhruv rathi sir &amp; Vijeta dahiya sir both are  ...</td>\n",
       "      <td>1 hour ago</td>\n",
       "    </tr>\n",
       "    <tr>\n",
       "      <th>498</th>\n",
       "      <td>The editing team is just fire</td>\n",
       "      <td>1 hour ago</td>\n",
       "    </tr>\n",
       "    <tr>\n",
       "      <th>499</th>\n",
       "      <td>Good work</td>\n",
       "      <td>19 minutes ago</td>\n",
       "    </tr>\n",
       "    <tr>\n",
       "      <th>500</th>\n",
       "      <td>I had been waiting for this video for a long t...</td>\n",
       "      <td>1 hour ago</td>\n",
       "    </tr>\n",
       "  </tbody>\n",
       "</table>\n",
       "<p>501 rows × 2 columns</p>\n",
       "</div>"
      ],
      "text/plain": [
       "                                               comment  \\\n",
       "0                                                        \n",
       "1    KukuFM Download Link - https://kukufm.sng.link...   \n",
       "2    This is one of the most informative and eye-op...   \n",
       "3    Amazing video! We want more educated people li...   \n",
       "4    Jo aaj ki government ka haal. Aise halato mai ...   \n",
       "..                                                 ...   \n",
       "496                                                      \n",
       "497  Dhruv rathi sir & Vijeta dahiya sir both are  ...   \n",
       "498                      The editing team is just fire   \n",
       "499                                          Good work   \n",
       "500  I had been waiting for this video for a long t...   \n",
       "\n",
       "                                time_comment  \n",
       "0                               Dhruv Rathee  \n",
       "1                               17 hours ago  \n",
       "2    https://kukufm.sng.link/Apksi/1ocn/9n2s  \n",
       "3                                 1 hour ago  \n",
       "4                             36 minutes ago  \n",
       "..                                       ...  \n",
       "496                           20 minutes ago  \n",
       "497                               1 hour ago  \n",
       "498                               1 hour ago  \n",
       "499                           19 minutes ago  \n",
       "500                               1 hour ago  \n",
       "\n",
       "[501 rows x 2 columns]"
      ]
     },
     "execution_count": 133,
     "metadata": {},
     "output_type": "execute_result"
    }
   ],
   "source": [
    "import pandas as pd\n",
    "df=pd.DataFrame({'comment':comment,'time_comment':time_comment})\n",
    "df"
   ]
  },
  {
   "cell_type": "markdown",
   "id": "f2a71931-b11a-4cd4-a7b3-cf6cf95d4d35",
   "metadata": {},
   "source": [
    "# 9. Write a python program to scrape a data for all available Hostels from https://www.hostelworld.com/ in “London” location. You have to scrape hostel name, distance from city centre, ratings, total reviews, overall reviews, privates from price, dorms from price, facilities and property description."
   ]
  },
  {
   "cell_type": "code",
   "execution_count": 134,
   "id": "f0fe8233-bbe5-48f3-a9a1-2c0025041b67",
   "metadata": {
    "tags": []
   },
   "outputs": [],
   "source": [
    "from selenium import webdriver\n",
    "import time \n",
    "from selenium.common.exceptions import NoSuchElementException # importing exception\n",
    "import warnings\n",
    "warnings.filterwarnings('ignore')\n",
    "from selenium.webdriver.common.by import By"
   ]
  },
  {
   "cell_type": "code",
   "execution_count": 140,
   "id": "8d6fdc93-0cdf-4517-92cf-5ce007a7c2e6",
   "metadata": {
    "tags": []
   },
   "outputs": [],
   "source": [
    "driver=webdriver.Chrome()"
   ]
  },
  {
   "cell_type": "code",
   "execution_count": 141,
   "id": "44a95b54-e80b-415f-a616-7028afeca853",
   "metadata": {
    "tags": []
   },
   "outputs": [],
   "source": [
    "driver.get(\"https://www.hostelworld.com/\")\n"
   ]
  },
  {
   "cell_type": "code",
   "execution_count": 143,
   "id": "b3ff026c-a144-4c6a-bbca-a75925316cb4",
   "metadata": {
    "tags": []
   },
   "outputs": [],
   "source": [
    "hotel_name=driver.find_element(By.XPATH,\"/html/body/div[3]/div/div/div[2]/div[2]/div[2]/div/div[2]/div/div/div[2]/div/div[1]/div/div[1]/div/div/div[2]/input\")\n",
    "hotel_name.send_keys('london')"
   ]
  },
  {
   "cell_type": "code",
   "execution_count": 158,
   "id": "8500d5ae-4c19-4a29-9432-5cfbb36d5111",
   "metadata": {
    "tags": []
   },
   "outputs": [],
   "source": [
    "# scrape all product urls\n",
    "product_urls=[]\n",
    "start=0\n",
    "end=1\n",
    "for page in range(start,end): \n",
    "    url=driver.find_elements(By.XPATH,'//div[@class=\"property-card\"]/a')\n",
    "    for i in url:\n",
    "        product_urls.append(i.get_attribute('href'))\n",
    "    time.sleep(2)"
   ]
  },
  {
   "cell_type": "code",
   "execution_count": 159,
   "id": "efada06c-e2b4-4b77-9601-50e38b6d7b4e",
   "metadata": {
    "tags": []
   },
   "outputs": [
    {
     "name": "stdout",
     "output_type": "stream",
     "text": [
      "33\n"
     ]
    }
   ],
   "source": [
    "print(len(product_urls))"
   ]
  },
  {
   "cell_type": "code",
   "execution_count": 160,
   "id": "6aacd438-b193-4cae-8b2f-dac34488603a",
   "metadata": {
    "tags": []
   },
   "outputs": [
    {
     "data": {
      "text/html": [
       "<div>\n",
       "<style scoped>\n",
       "    .dataframe tbody tr th:only-of-type {\n",
       "        vertical-align: middle;\n",
       "    }\n",
       "\n",
       "    .dataframe tbody tr th {\n",
       "        vertical-align: top;\n",
       "    }\n",
       "\n",
       "    .dataframe thead th {\n",
       "        text-align: right;\n",
       "    }\n",
       "</style>\n",
       "<table border=\"1\" class=\"dataframe\">\n",
       "  <thead>\n",
       "    <tr style=\"text-align: right;\">\n",
       "      <th></th>\n",
       "      <th>product_url</th>\n",
       "    </tr>\n",
       "  </thead>\n",
       "  <tbody>\n",
       "    <tr>\n",
       "      <th>0</th>\n",
       "      <td>https://www.hostelworld.com/pwa/hosteldetails....</td>\n",
       "    </tr>\n",
       "    <tr>\n",
       "      <th>1</th>\n",
       "      <td>https://www.hostelworld.com/pwa/hosteldetails....</td>\n",
       "    </tr>\n",
       "    <tr>\n",
       "      <th>2</th>\n",
       "      <td>https://www.hostelworld.com/pwa/hosteldetails....</td>\n",
       "    </tr>\n",
       "    <tr>\n",
       "      <th>3</th>\n",
       "      <td>https://www.hostelworld.com/pwa/hosteldetails....</td>\n",
       "    </tr>\n",
       "    <tr>\n",
       "      <th>4</th>\n",
       "      <td>https://www.hostelworld.com/pwa/hosteldetails....</td>\n",
       "    </tr>\n",
       "    <tr>\n",
       "      <th>5</th>\n",
       "      <td>https://www.hostelworld.com/pwa/hosteldetails....</td>\n",
       "    </tr>\n",
       "    <tr>\n",
       "      <th>6</th>\n",
       "      <td>https://www.hostelworld.com/pwa/hosteldetails....</td>\n",
       "    </tr>\n",
       "    <tr>\n",
       "      <th>7</th>\n",
       "      <td>https://www.hostelworld.com/pwa/hosteldetails....</td>\n",
       "    </tr>\n",
       "    <tr>\n",
       "      <th>8</th>\n",
       "      <td>https://www.hostelworld.com/pwa/hosteldetails....</td>\n",
       "    </tr>\n",
       "    <tr>\n",
       "      <th>9</th>\n",
       "      <td>https://www.hostelworld.com/pwa/hosteldetails....</td>\n",
       "    </tr>\n",
       "    <tr>\n",
       "      <th>10</th>\n",
       "      <td>https://www.hostelworld.com/pwa/hosteldetails....</td>\n",
       "    </tr>\n",
       "    <tr>\n",
       "      <th>11</th>\n",
       "      <td>https://www.hostelworld.com/pwa/hosteldetails....</td>\n",
       "    </tr>\n",
       "    <tr>\n",
       "      <th>12</th>\n",
       "      <td>https://www.hostelworld.com/pwa/hosteldetails....</td>\n",
       "    </tr>\n",
       "    <tr>\n",
       "      <th>13</th>\n",
       "      <td>https://www.hostelworld.com/pwa/hosteldetails....</td>\n",
       "    </tr>\n",
       "    <tr>\n",
       "      <th>14</th>\n",
       "      <td>https://www.hostelworld.com/pwa/hosteldetails....</td>\n",
       "    </tr>\n",
       "    <tr>\n",
       "      <th>15</th>\n",
       "      <td>https://www.hostelworld.com/pwa/hosteldetails....</td>\n",
       "    </tr>\n",
       "    <tr>\n",
       "      <th>16</th>\n",
       "      <td>https://www.hostelworld.com/pwa/hosteldetails....</td>\n",
       "    </tr>\n",
       "    <tr>\n",
       "      <th>17</th>\n",
       "      <td>https://www.hostelworld.com/pwa/hosteldetails....</td>\n",
       "    </tr>\n",
       "    <tr>\n",
       "      <th>18</th>\n",
       "      <td>https://www.hostelworld.com/pwa/hosteldetails....</td>\n",
       "    </tr>\n",
       "    <tr>\n",
       "      <th>19</th>\n",
       "      <td>https://www.hostelworld.com/pwa/hosteldetails....</td>\n",
       "    </tr>\n",
       "    <tr>\n",
       "      <th>20</th>\n",
       "      <td>https://www.hostelworld.com/pwa/hosteldetails....</td>\n",
       "    </tr>\n",
       "    <tr>\n",
       "      <th>21</th>\n",
       "      <td>https://www.hostelworld.com/pwa/hosteldetails....</td>\n",
       "    </tr>\n",
       "    <tr>\n",
       "      <th>22</th>\n",
       "      <td>https://www.hostelworld.com/pwa/hosteldetails....</td>\n",
       "    </tr>\n",
       "    <tr>\n",
       "      <th>23</th>\n",
       "      <td>https://www.hostelworld.com/pwa/hosteldetails....</td>\n",
       "    </tr>\n",
       "    <tr>\n",
       "      <th>24</th>\n",
       "      <td>https://www.hostelworld.com/pwa/hosteldetails....</td>\n",
       "    </tr>\n",
       "    <tr>\n",
       "      <th>25</th>\n",
       "      <td>https://www.hostelworld.com/pwa/hosteldetails....</td>\n",
       "    </tr>\n",
       "    <tr>\n",
       "      <th>26</th>\n",
       "      <td>https://www.hostelworld.com/pwa/hosteldetails....</td>\n",
       "    </tr>\n",
       "    <tr>\n",
       "      <th>27</th>\n",
       "      <td>https://www.hostelworld.com/pwa/hosteldetails....</td>\n",
       "    </tr>\n",
       "    <tr>\n",
       "      <th>28</th>\n",
       "      <td>https://www.hostelworld.com/pwa/hosteldetails....</td>\n",
       "    </tr>\n",
       "    <tr>\n",
       "      <th>29</th>\n",
       "      <td>https://www.hostelworld.com/pwa/hosteldetails....</td>\n",
       "    </tr>\n",
       "    <tr>\n",
       "      <th>30</th>\n",
       "      <td>https://www.hostelworld.com/pwa/hosteldetails....</td>\n",
       "    </tr>\n",
       "    <tr>\n",
       "      <th>31</th>\n",
       "      <td>https://www.hostelworld.com/pwa/hosteldetails....</td>\n",
       "    </tr>\n",
       "    <tr>\n",
       "      <th>32</th>\n",
       "      <td>https://www.hostelworld.com/pwa/hosteldetails....</td>\n",
       "    </tr>\n",
       "  </tbody>\n",
       "</table>\n",
       "</div>"
      ],
      "text/plain": [
       "                                          product_url\n",
       "0   https://www.hostelworld.com/pwa/hosteldetails....\n",
       "1   https://www.hostelworld.com/pwa/hosteldetails....\n",
       "2   https://www.hostelworld.com/pwa/hosteldetails....\n",
       "3   https://www.hostelworld.com/pwa/hosteldetails....\n",
       "4   https://www.hostelworld.com/pwa/hosteldetails....\n",
       "5   https://www.hostelworld.com/pwa/hosteldetails....\n",
       "6   https://www.hostelworld.com/pwa/hosteldetails....\n",
       "7   https://www.hostelworld.com/pwa/hosteldetails....\n",
       "8   https://www.hostelworld.com/pwa/hosteldetails....\n",
       "9   https://www.hostelworld.com/pwa/hosteldetails....\n",
       "10  https://www.hostelworld.com/pwa/hosteldetails....\n",
       "11  https://www.hostelworld.com/pwa/hosteldetails....\n",
       "12  https://www.hostelworld.com/pwa/hosteldetails....\n",
       "13  https://www.hostelworld.com/pwa/hosteldetails....\n",
       "14  https://www.hostelworld.com/pwa/hosteldetails....\n",
       "15  https://www.hostelworld.com/pwa/hosteldetails....\n",
       "16  https://www.hostelworld.com/pwa/hosteldetails....\n",
       "17  https://www.hostelworld.com/pwa/hosteldetails....\n",
       "18  https://www.hostelworld.com/pwa/hosteldetails....\n",
       "19  https://www.hostelworld.com/pwa/hosteldetails....\n",
       "20  https://www.hostelworld.com/pwa/hosteldetails....\n",
       "21  https://www.hostelworld.com/pwa/hosteldetails....\n",
       "22  https://www.hostelworld.com/pwa/hosteldetails....\n",
       "23  https://www.hostelworld.com/pwa/hosteldetails....\n",
       "24  https://www.hostelworld.com/pwa/hosteldetails....\n",
       "25  https://www.hostelworld.com/pwa/hosteldetails....\n",
       "26  https://www.hostelworld.com/pwa/hosteldetails....\n",
       "27  https://www.hostelworld.com/pwa/hosteldetails....\n",
       "28  https://www.hostelworld.com/pwa/hosteldetails....\n",
       "29  https://www.hostelworld.com/pwa/hosteldetails....\n",
       "30  https://www.hostelworld.com/pwa/hosteldetails....\n",
       "31  https://www.hostelworld.com/pwa/hosteldetails....\n",
       "32  https://www.hostelworld.com/pwa/hosteldetails...."
      ]
     },
     "execution_count": 160,
     "metadata": {},
     "output_type": "execute_result"
    }
   ],
   "source": [
    "import pandas as pd\n",
    "df=pd.DataFrame({'product_url':product_urls})\n",
    "df"
   ]
  },
  {
   "cell_type": "code",
   "execution_count": 163,
   "id": "4dc528eb-4cc8-485e-a2f6-eeec843edc42",
   "metadata": {
    "tags": []
   },
   "outputs": [],
   "source": [
    "hostel_name=[]\n",
    "distance_from_city_centre=[]\n",
    "ratings=[] \n",
    "total_reviews=[]\n",
    "privates_from_price=[] \n",
    "dorms_from_price=[]\n",
    "facilities=[]\n",
    "property_description=[]"
   ]
  },
  {
   "cell_type": "code",
   "execution_count": 164,
   "id": "a07a0247-f6df-438e-a3d9-58798ed18dbb",
   "metadata": {
    "tags": []
   },
   "outputs": [],
   "source": [
    "for url in product_urls:\n",
    "    driver.get(url)\n",
    "    time.sleep(2)\n",
    "    try:\n",
    "        names=driver.find_element(By.XPATH,'/html/body/div[3]/div/div/div[2]/section/div[4]/div/div[1]/h1/div')\n",
    "        hostel_name.append(names.text)\n",
    "    except NoSuchElementException:\n",
    "        hostel_name.append('-')\n",
    "    try:\n",
    "        distance=driver.find_element(By.XPATH,'/html/body/div[3]/div/div/div[2]/section/div[4]/div/div[1]/div/div')\n",
    "        distance_from_city_centre.append(distance.text)\n",
    "    except NoSuchElementException:\n",
    "        distance_from_city_centre.append('-')\n",
    "    try:\n",
    "        rate=driver.find_element(By.XPATH,'/html/body/div[3]/div/div/div[2]/section/div[8]/div/div[1]/div[1]/div[1]')\n",
    "        ratings.append(rate.text)\n",
    "    except NoSuchElementException:\n",
    "        ratings.append('-')    \n",
    "    try:\n",
    "        review=driver.find_element(By.XPATH,'/html/body/div[3]/div/div/div[2]/section/div[8]/div/div[1]/div[1]/div[2]/div[2]')\n",
    "        total_reviews.append(review.text)\n",
    "    except NoSuchElementException:\n",
    "        total_reviews.append('-')\n",
    "    try:\n",
    "        private=driver.find_element(By.XPATH,'/html/body/div[3]/div/div/div[2]/section/div[10]/div/div/section/div/div/div[2]/div[1]/div[2]/div[1]/div[2]/div[1]/div/div[1]/div[2]/div[1]')\n",
    "        privates_from_price.append(private.text)\n",
    "    except NoSuchElementException:\n",
    "        privates_from_price.append('-')  \n",
    "    try:\n",
    "        dorms=driver.find_element(By.XPATH,'/html/body/div[3]/div/div/div[2]/section/div[10]/div/div/section/div/div/div[2]/div[2]/div[2]/div[1]/div[2]/div[1]/div/div[1]/div[2]/div[1]')\n",
    "        dorms_from_price.append(dorms.text)\n",
    "    except NoSuchElementException:\n",
    "        dorms_from_price.append('-') \n",
    "    try:\n",
    "        faci=driver.find_element(By.XPATH,'/html/body/div[3]/div/div/div[2]/section/div[12]/div/ul/li[1]/ul')\n",
    "        facilities.append(faci.text)\n",
    "    except NoSuchElementException:\n",
    "        facilities.append('-')    \n",
    "    try:\n",
    "        description=driver.find_element(By.XPATH,'/html/body/div[3]/div/div/div[2]/section/div[8]/div/div[2]/div[3]/div/div[2]')\n",
    "        property_description.append(description.text)\n",
    "    except NoSuchElementException:\n",
    "        property_description.append('-')        \n",
    "       \n",
    "   "
   ]
  },
  {
   "cell_type": "code",
   "execution_count": 165,
   "id": "2f1a7528-1051-4e5e-9a7a-c6abf6d4d02f",
   "metadata": {
    "tags": []
   },
   "outputs": [
    {
     "name": "stdout",
     "output_type": "stream",
     "text": [
      "33 33 33 33 33 33 33 33\n"
     ]
    }
   ],
   "source": [
    "print(len(hostel_name),len(distance_from_city_centre),len(ratings),len(total_reviews),len(privates_from_price),len(dorms_from_price),len(facilities),len(property_description))"
   ]
  },
  {
   "cell_type": "code",
   "execution_count": 171,
   "id": "dbec73a1-42a9-4a0e-a1b4-6ffea088aedf",
   "metadata": {
    "tags": []
   },
   "outputs": [
    {
     "data": {
      "text/html": [
       "<div>\n",
       "<style scoped>\n",
       "    .dataframe tbody tr th:only-of-type {\n",
       "        vertical-align: middle;\n",
       "    }\n",
       "\n",
       "    .dataframe tbody tr th {\n",
       "        vertical-align: top;\n",
       "    }\n",
       "\n",
       "    .dataframe thead th {\n",
       "        text-align: right;\n",
       "    }\n",
       "</style>\n",
       "<table border=\"1\" class=\"dataframe\">\n",
       "  <thead>\n",
       "    <tr style=\"text-align: right;\">\n",
       "      <th></th>\n",
       "      <th>hostel_name</th>\n",
       "      <th>distance_from_city_sentre</th>\n",
       "      <th>rating</th>\n",
       "      <th>total_reviews</th>\n",
       "      <th>private_from_price</th>\n",
       "      <th>dorms_from_price</th>\n",
       "      <th>facilities</th>\n",
       "      <th>property_description</th>\n",
       "    </tr>\n",
       "  </thead>\n",
       "  <tbody>\n",
       "    <tr>\n",
       "      <th>0</th>\n",
       "      <td>Wombat's City Hostel London</td>\n",
       "      <td>7 Dock Street, London, England</td>\n",
       "      <td>9.1</td>\n",
       "      <td>15961 Total Reviews</td>\n",
       "      <td>Rs12232.76</td>\n",
       "      <td>Rs3598.49</td>\n",
       "      <td>Linen Included Free City Maps Free WiFi Free I...</td>\n",
       "      <td>A safe haven in the middle of the metropolis: ...</td>\n",
       "    </tr>\n",
       "    <tr>\n",
       "      <th>1</th>\n",
       "      <td>Palmers Lodge - Swiss Cottage</td>\n",
       "      <td>40 College Crescent, Swiss Cottage, London, En...</td>\n",
       "      <td>8.8</td>\n",
       "      <td>15992 Total Reviews</td>\n",
       "      <td>-</td>\n",
       "      <td>-</td>\n",
       "      <td>-</td>\n",
       "      <td>-</td>\n",
       "    </tr>\n",
       "    <tr>\n",
       "      <th>2</th>\n",
       "      <td>St Christopher's Village</td>\n",
       "      <td>165 Borough High Street, London, England</td>\n",
       "      <td>7.8</td>\n",
       "      <td>12893 Total Reviews</td>\n",
       "      <td>-</td>\n",
       "      <td>-</td>\n",
       "      <td>Linen Included Free WiFi Free Internet Access</td>\n",
       "      <td>-</td>\n",
       "    </tr>\n",
       "    <tr>\n",
       "      <th>3</th>\n",
       "      <td>Wombat's City Hostel London</td>\n",
       "      <td>7 Dock Street, London, England</td>\n",
       "      <td>9.1</td>\n",
       "      <td>15961 Total Reviews</td>\n",
       "      <td>-</td>\n",
       "      <td>-</td>\n",
       "      <td>Linen Included Free City Maps Free WiFi Free I...</td>\n",
       "      <td>A safe haven in the middle of the metropolis: ...</td>\n",
       "    </tr>\n",
       "    <tr>\n",
       "      <th>4</th>\n",
       "      <td>Palmers Lodge - Swiss Cottage</td>\n",
       "      <td>40 College Crescent, Swiss Cottage, London, En...</td>\n",
       "      <td>8.8</td>\n",
       "      <td>15992 Total Reviews</td>\n",
       "      <td>-</td>\n",
       "      <td>-</td>\n",
       "      <td>-</td>\n",
       "      <td>-</td>\n",
       "    </tr>\n",
       "    <tr>\n",
       "      <th>5</th>\n",
       "      <td>-</td>\n",
       "      <td>-</td>\n",
       "      <td>-</td>\n",
       "      <td>-</td>\n",
       "      <td>-</td>\n",
       "      <td>-</td>\n",
       "      <td>-</td>\n",
       "      <td>-</td>\n",
       "    </tr>\n",
       "    <tr>\n",
       "      <th>6</th>\n",
       "      <td>NX London Hostel</td>\n",
       "      <td>323 New Cross Road, London, England</td>\n",
       "      <td>8.9</td>\n",
       "      <td>2165 Total Reviews</td>\n",
       "      <td>-</td>\n",
       "      <td>Rs1421.56</td>\n",
       "      <td>Free Breakfast Linen Included Towels Included ...</td>\n",
       "      <td>Welcome to NX London Hostel!\\n\\nPLEASE READ IN...</td>\n",
       "    </tr>\n",
       "    <tr>\n",
       "      <th>7</th>\n",
       "      <td>Onefam Notting Hill</td>\n",
       "      <td>63 Prince's Square, London, England</td>\n",
       "      <td>9.6</td>\n",
       "      <td>2621 Total Reviews</td>\n",
       "      <td>-</td>\n",
       "      <td>-</td>\n",
       "      <td>-</td>\n",
       "      <td>The perfect place for solo travelers to connec...</td>\n",
       "    </tr>\n",
       "    <tr>\n",
       "      <th>8</th>\n",
       "      <td>Urbany Hostel London</td>\n",
       "      <td>48-49 Princes Square, Paddington, London, England</td>\n",
       "      <td>9.5</td>\n",
       "      <td>1137 Total Reviews</td>\n",
       "      <td>-</td>\n",
       "      <td>-</td>\n",
       "      <td>Linen Included Free WiFi</td>\n",
       "      <td>Welcome to Urbany Hostel London! Ideal for the...</td>\n",
       "    </tr>\n",
       "    <tr>\n",
       "      <th>9</th>\n",
       "      <td>Onefam Waterloo</td>\n",
       "      <td>73 Lambeth Walk, London, London, England</td>\n",
       "      <td>9.6</td>\n",
       "      <td>160 Total Reviews</td>\n",
       "      <td>-</td>\n",
       "      <td>-</td>\n",
       "      <td>Linen Included Free WiFi Free Internet Access</td>\n",
       "      <td>Come join us at our newest Onefam location in ...</td>\n",
       "    </tr>\n",
       "    <tr>\n",
       "      <th>10</th>\n",
       "      <td>No.8 Seven Sisters</td>\n",
       "      <td>618 Seven Sisters Rd, Seven Sisters, London, E...</td>\n",
       "      <td>7.8</td>\n",
       "      <td>4183 Total Reviews</td>\n",
       "      <td>-</td>\n",
       "      <td>-</td>\n",
       "      <td>Linen Included Free WiFi</td>\n",
       "      <td>For Great Facilities, Comfort &amp; Affordability ...</td>\n",
       "    </tr>\n",
       "    <tr>\n",
       "      <th>11</th>\n",
       "      <td>Astor Hyde Park</td>\n",
       "      <td>191 Queensgate, South Kensington, London, England</td>\n",
       "      <td>8.2</td>\n",
       "      <td>12338 Total Reviews</td>\n",
       "      <td>-</td>\n",
       "      <td>-</td>\n",
       "      <td>Linen Included Free City Maps Free WiFi Free I...</td>\n",
       "      <td>-</td>\n",
       "    </tr>\n",
       "    <tr>\n",
       "      <th>12</th>\n",
       "      <td>Safestay London Elephant &amp; Castle</td>\n",
       "      <td>144-152 Walworth Road, London, England</td>\n",
       "      <td>7.3</td>\n",
       "      <td>5288 Total Reviews</td>\n",
       "      <td>-</td>\n",
       "      <td>-</td>\n",
       "      <td>Linen Included Free WiFi</td>\n",
       "      <td>-</td>\n",
       "    </tr>\n",
       "    <tr>\n",
       "      <th>13</th>\n",
       "      <td>Astor Museum Inn</td>\n",
       "      <td>27 Montague Street, Bloomsbury, London, England</td>\n",
       "      <td>8.4</td>\n",
       "      <td>9464 Total Reviews</td>\n",
       "      <td>-</td>\n",
       "      <td>-</td>\n",
       "      <td>Linen Included Free City Maps Free WiFi</td>\n",
       "      <td>-</td>\n",
       "    </tr>\n",
       "    <tr>\n",
       "      <th>14</th>\n",
       "      <td>No.8 Willesden Hostel London</td>\n",
       "      <td>305 High Rd, Willesden, London, England</td>\n",
       "      <td>7.2</td>\n",
       "      <td>5209 Total Reviews</td>\n",
       "      <td>-</td>\n",
       "      <td>-</td>\n",
       "      <td>Linen Included Free WiFi</td>\n",
       "      <td>At No.8 we take pride in our Customer Service ...</td>\n",
       "    </tr>\n",
       "    <tr>\n",
       "      <th>15</th>\n",
       "      <td>Smart Hyde Park Inn Hostel</td>\n",
       "      <td>48 - 50 Inverness Terrace, Bayswater, London, ...</td>\n",
       "      <td>7.8</td>\n",
       "      <td>6805 Total Reviews</td>\n",
       "      <td>-</td>\n",
       "      <td>-</td>\n",
       "      <td>-</td>\n",
       "      <td>Smart Hyde Park Inn Hostel is perfectly locate...</td>\n",
       "    </tr>\n",
       "    <tr>\n",
       "      <th>16</th>\n",
       "      <td>Smart Russell Square Hostel</td>\n",
       "      <td>71 Guilford Street, London, England</td>\n",
       "      <td>7.5</td>\n",
       "      <td>10218 Total Reviews</td>\n",
       "      <td>-</td>\n",
       "      <td>-</td>\n",
       "      <td>-</td>\n",
       "      <td>-</td>\n",
       "    </tr>\n",
       "    <tr>\n",
       "      <th>17</th>\n",
       "      <td>Safestay London Kensington Holland Park</td>\n",
       "      <td>Holland Park Ave, Holland Walk, London, England</td>\n",
       "      <td>6.9</td>\n",
       "      <td>1793 Total Reviews</td>\n",
       "      <td>-</td>\n",
       "      <td>-</td>\n",
       "      <td>Linen Included Free WiFi</td>\n",
       "      <td>Safestay Holland Park\\n\\nSafestay Holland Park...</td>\n",
       "    </tr>\n",
       "    <tr>\n",
       "      <th>18</th>\n",
       "      <td>Clink261</td>\n",
       "      <td>261-265 Grays Inn Road, Kings Cross, London, E...</td>\n",
       "      <td>8.1</td>\n",
       "      <td>533 Total Reviews</td>\n",
       "      <td>-</td>\n",
       "      <td>-</td>\n",
       "      <td>Linen Included Free City Maps Free WiFi</td>\n",
       "      <td>-</td>\n",
       "    </tr>\n",
       "    <tr>\n",
       "      <th>19</th>\n",
       "      <td>Hostelle - women only hostel London</td>\n",
       "      <td>458 Bethnal Green road, London, England</td>\n",
       "      <td>8.8</td>\n",
       "      <td>125 Total Reviews</td>\n",
       "      <td>-</td>\n",
       "      <td>-</td>\n",
       "      <td>Linen Included Free City Maps Free WiFi Free I...</td>\n",
       "      <td>Hostelle is the first and only all-women hoste...</td>\n",
       "    </tr>\n",
       "    <tr>\n",
       "      <th>20</th>\n",
       "      <td>Queen Elizabeth Chelsea</td>\n",
       "      <td>58 Bagleys Lane, London, England</td>\n",
       "      <td>7.4</td>\n",
       "      <td>3697 Total Reviews</td>\n",
       "      <td>-</td>\n",
       "      <td>-</td>\n",
       "      <td>-</td>\n",
       "      <td>PLEASE NOTE WE ONLY ACCEPT GUESTS FROM THE AGE...</td>\n",
       "    </tr>\n",
       "    <tr>\n",
       "      <th>21</th>\n",
       "      <td>Prime Backpackers Angel</td>\n",
       "      <td>333 City Road, 333 City Road, London, England</td>\n",
       "      <td>8.7</td>\n",
       "      <td>875 Total Reviews</td>\n",
       "      <td>-</td>\n",
       "      <td>-</td>\n",
       "      <td>Linen Included Free City Maps Towels Included ...</td>\n",
       "      <td>The hostel is housed in a historic building in...</td>\n",
       "    </tr>\n",
       "    <tr>\n",
       "      <th>22</th>\n",
       "      <td>YHA London Oxford Street</td>\n",
       "      <td>14 Noel Street, Soho, W1F 8GJ, London, England</td>\n",
       "      <td>9.0</td>\n",
       "      <td>4704 Total Reviews</td>\n",
       "      <td>-</td>\n",
       "      <td>-</td>\n",
       "      <td>Linen Included Free WiFi</td>\n",
       "      <td>-</td>\n",
       "    </tr>\n",
       "    <tr>\n",
       "      <th>23</th>\n",
       "      <td>London Backpackers</td>\n",
       "      <td>8/10 Queens Parade, Queens Road, Hendon Centra...</td>\n",
       "      <td>8.0</td>\n",
       "      <td>4569 Total Reviews</td>\n",
       "      <td>-</td>\n",
       "      <td>-</td>\n",
       "      <td>Linen Included Free City Maps Free WiFi Free I...</td>\n",
       "      <td>IMPORTANT NOTICE: \\n\\nThis hostel is for 18 - ...</td>\n",
       "    </tr>\n",
       "    <tr>\n",
       "      <th>24</th>\n",
       "      <td>Kabannas London St Pancras</td>\n",
       "      <td>79-81 Euston Road, London, England</td>\n",
       "      <td>8.2</td>\n",
       "      <td>2981 Total Reviews</td>\n",
       "      <td>-</td>\n",
       "      <td>-</td>\n",
       "      <td>Linen Included Free City Maps Free WiFi</td>\n",
       "      <td>-</td>\n",
       "    </tr>\n",
       "    <tr>\n",
       "      <th>25</th>\n",
       "      <td>St Christopher's Hammersmith</td>\n",
       "      <td>28, Hammersmith Broadway, Hammersmith, London,...</td>\n",
       "      <td>7.6</td>\n",
       "      <td>4397 Total Reviews</td>\n",
       "      <td>Rs1525.42</td>\n",
       "      <td>-</td>\n",
       "      <td>Linen Included Free City Maps Free WiFi Free I...</td>\n",
       "      <td>-</td>\n",
       "    </tr>\n",
       "    <tr>\n",
       "      <th>26</th>\n",
       "      <td>Astor Victoria</td>\n",
       "      <td>73 Belgrave Road, Victoria, London, England</td>\n",
       "      <td>7.3</td>\n",
       "      <td>15106 Total Reviews</td>\n",
       "      <td>-</td>\n",
       "      <td>-</td>\n",
       "      <td>Linen Included Free City Maps Free WiFi Free I...</td>\n",
       "      <td>-</td>\n",
       "    </tr>\n",
       "    <tr>\n",
       "      <th>27</th>\n",
       "      <td>Astor Kensington</td>\n",
       "      <td>45 Queensborough Terrace, Bayswater, London, E...</td>\n",
       "      <td>8.4</td>\n",
       "      <td>6597 Total Reviews</td>\n",
       "      <td>-</td>\n",
       "      <td>-</td>\n",
       "      <td>Linen Included Free City Maps Free WiFi</td>\n",
       "      <td>-</td>\n",
       "    </tr>\n",
       "    <tr>\n",
       "      <th>28</th>\n",
       "      <td>Phoenix Hostel</td>\n",
       "      <td>6 Daventry Street, London, England</td>\n",
       "      <td>6.3</td>\n",
       "      <td>4629 Total Reviews</td>\n",
       "      <td>Rs1727.90</td>\n",
       "      <td>-</td>\n",
       "      <td>Linen Included Free City Maps Free WiFi Free I...</td>\n",
       "      <td>The Phoenix Bar &amp; Hostel, housed in a homely E...</td>\n",
       "    </tr>\n",
       "    <tr>\n",
       "      <th>29</th>\n",
       "      <td>St Christopher's Camden</td>\n",
       "      <td>48-50 Camden High Street, Camden NW1, London, ...</td>\n",
       "      <td>7.2</td>\n",
       "      <td>4141 Total Reviews</td>\n",
       "      <td>-</td>\n",
       "      <td>-</td>\n",
       "      <td>Linen Included Free City Maps Free WiFi Free I...</td>\n",
       "      <td>-</td>\n",
       "    </tr>\n",
       "    <tr>\n",
       "      <th>30</th>\n",
       "      <td>St Christopher's Inn - Liverpool Street</td>\n",
       "      <td>52 Wilson Street, Finsbury, London, England</td>\n",
       "      <td>8.2</td>\n",
       "      <td>560 Total Reviews</td>\n",
       "      <td>-</td>\n",
       "      <td>-</td>\n",
       "      <td>Linen Included Free City Maps Free WiFi Free I...</td>\n",
       "      <td>Our Liverpool Street hostel is the newest of o...</td>\n",
       "    </tr>\n",
       "    <tr>\n",
       "      <th>31</th>\n",
       "      <td>St Christopher's Shepherds Bush</td>\n",
       "      <td>Belushis Bar, 13-15 Shepherds Bush Green., Lon...</td>\n",
       "      <td>7.7</td>\n",
       "      <td>837 Total Reviews</td>\n",
       "      <td>Rs1487.65</td>\n",
       "      <td>-</td>\n",
       "      <td>Linen Included Free City Maps Free WiFi</td>\n",
       "      <td>-</td>\n",
       "    </tr>\n",
       "    <tr>\n",
       "      <th>32</th>\n",
       "      <td>YHA London St Pauls</td>\n",
       "      <td>36 Carter Lane, EC4V 5AB, London, England</td>\n",
       "      <td>8.9</td>\n",
       "      <td>2119 Total Reviews</td>\n",
       "      <td>-</td>\n",
       "      <td>-</td>\n",
       "      <td>Linen Included Free City Maps Free WiFi</td>\n",
       "      <td>-</td>\n",
       "    </tr>\n",
       "  </tbody>\n",
       "</table>\n",
       "</div>"
      ],
      "text/plain": [
       "                                hostel_name  \\\n",
       "0               Wombat's City Hostel London   \n",
       "1             Palmers Lodge - Swiss Cottage   \n",
       "2                  St Christopher's Village   \n",
       "3               Wombat's City Hostel London   \n",
       "4             Palmers Lodge - Swiss Cottage   \n",
       "5                                         -   \n",
       "6                          NX London Hostel   \n",
       "7                       Onefam Notting Hill   \n",
       "8                      Urbany Hostel London   \n",
       "9                           Onefam Waterloo   \n",
       "10                       No.8 Seven Sisters   \n",
       "11                          Astor Hyde Park   \n",
       "12        Safestay London Elephant & Castle   \n",
       "13                         Astor Museum Inn   \n",
       "14             No.8 Willesden Hostel London   \n",
       "15               Smart Hyde Park Inn Hostel   \n",
       "16              Smart Russell Square Hostel   \n",
       "17  Safestay London Kensington Holland Park   \n",
       "18                                 Clink261   \n",
       "19      Hostelle - women only hostel London   \n",
       "20                  Queen Elizabeth Chelsea   \n",
       "21                  Prime Backpackers Angel   \n",
       "22                 YHA London Oxford Street   \n",
       "23                       London Backpackers   \n",
       "24               Kabannas London St Pancras   \n",
       "25             St Christopher's Hammersmith   \n",
       "26                           Astor Victoria   \n",
       "27                         Astor Kensington   \n",
       "28                           Phoenix Hostel   \n",
       "29                  St Christopher's Camden   \n",
       "30  St Christopher's Inn - Liverpool Street   \n",
       "31          St Christopher's Shepherds Bush   \n",
       "32                      YHA London St Pauls   \n",
       "\n",
       "                            distance_from_city_sentre rating  \\\n",
       "0                      7 Dock Street, London, England    9.1   \n",
       "1   40 College Crescent, Swiss Cottage, London, En...    8.8   \n",
       "2            165 Borough High Street, London, England    7.8   \n",
       "3                      7 Dock Street, London, England    9.1   \n",
       "4   40 College Crescent, Swiss Cottage, London, En...    8.8   \n",
       "5                                                   -      -   \n",
       "6                 323 New Cross Road, London, England    8.9   \n",
       "7                 63 Prince's Square, London, England    9.6   \n",
       "8   48-49 Princes Square, Paddington, London, England    9.5   \n",
       "9            73 Lambeth Walk, London, London, England    9.6   \n",
       "10  618 Seven Sisters Rd, Seven Sisters, London, E...    7.8   \n",
       "11  191 Queensgate, South Kensington, London, England    8.2   \n",
       "12             144-152 Walworth Road, London, England    7.3   \n",
       "13    27 Montague Street, Bloomsbury, London, England    8.4   \n",
       "14            305 High Rd, Willesden, London, England    7.2   \n",
       "15  48 - 50 Inverness Terrace, Bayswater, London, ...    7.8   \n",
       "16                71 Guilford Street, London, England    7.5   \n",
       "17    Holland Park Ave, Holland Walk, London, England    6.9   \n",
       "18  261-265 Grays Inn Road, Kings Cross, London, E...    8.1   \n",
       "19            458 Bethnal Green road, London, England    8.8   \n",
       "20                   58 Bagleys Lane, London, England    7.4   \n",
       "21      333 City Road, 333 City Road, London, England    8.7   \n",
       "22     14 Noel Street, Soho, W1F 8GJ, London, England    9.0   \n",
       "23  8/10 Queens Parade, Queens Road, Hendon Centra...    8.0   \n",
       "24                 79-81 Euston Road, London, England    8.2   \n",
       "25  28, Hammersmith Broadway, Hammersmith, London,...    7.6   \n",
       "26        73 Belgrave Road, Victoria, London, England    7.3   \n",
       "27  45 Queensborough Terrace, Bayswater, London, E...    8.4   \n",
       "28                 6 Daventry Street, London, England    6.3   \n",
       "29  48-50 Camden High Street, Camden NW1, London, ...    7.2   \n",
       "30        52 Wilson Street, Finsbury, London, England    8.2   \n",
       "31  Belushis Bar, 13-15 Shepherds Bush Green., Lon...    7.7   \n",
       "32          36 Carter Lane, EC4V 5AB, London, England    8.9   \n",
       "\n",
       "          total_reviews private_from_price dorms_from_price  \\\n",
       "0   15961 Total Reviews         Rs12232.76        Rs3598.49   \n",
       "1   15992 Total Reviews                  -                -   \n",
       "2   12893 Total Reviews                  -                -   \n",
       "3   15961 Total Reviews                  -                -   \n",
       "4   15992 Total Reviews                  -                -   \n",
       "5                     -                  -                -   \n",
       "6    2165 Total Reviews                  -        Rs1421.56   \n",
       "7    2621 Total Reviews                  -                -   \n",
       "8    1137 Total Reviews                  -                -   \n",
       "9     160 Total Reviews                  -                -   \n",
       "10   4183 Total Reviews                  -                -   \n",
       "11  12338 Total Reviews                  -                -   \n",
       "12   5288 Total Reviews                  -                -   \n",
       "13   9464 Total Reviews                  -                -   \n",
       "14   5209 Total Reviews                  -                -   \n",
       "15   6805 Total Reviews                  -                -   \n",
       "16  10218 Total Reviews                  -                -   \n",
       "17   1793 Total Reviews                  -                -   \n",
       "18    533 Total Reviews                  -                -   \n",
       "19    125 Total Reviews                  -                -   \n",
       "20   3697 Total Reviews                  -                -   \n",
       "21    875 Total Reviews                  -                -   \n",
       "22   4704 Total Reviews                  -                -   \n",
       "23   4569 Total Reviews                  -                -   \n",
       "24   2981 Total Reviews                  -                -   \n",
       "25   4397 Total Reviews          Rs1525.42                -   \n",
       "26  15106 Total Reviews                  -                -   \n",
       "27   6597 Total Reviews                  -                -   \n",
       "28   4629 Total Reviews          Rs1727.90                -   \n",
       "29   4141 Total Reviews                  -                -   \n",
       "30    560 Total Reviews                  -                -   \n",
       "31    837 Total Reviews          Rs1487.65                -   \n",
       "32   2119 Total Reviews                  -                -   \n",
       "\n",
       "                                           facilities  \\\n",
       "0   Linen Included Free City Maps Free WiFi Free I...   \n",
       "1                                                   -   \n",
       "2       Linen Included Free WiFi Free Internet Access   \n",
       "3   Linen Included Free City Maps Free WiFi Free I...   \n",
       "4                                                   -   \n",
       "5                                                   -   \n",
       "6   Free Breakfast Linen Included Towels Included ...   \n",
       "7                                                   -   \n",
       "8                            Linen Included Free WiFi   \n",
       "9       Linen Included Free WiFi Free Internet Access   \n",
       "10                           Linen Included Free WiFi   \n",
       "11  Linen Included Free City Maps Free WiFi Free I...   \n",
       "12                           Linen Included Free WiFi   \n",
       "13            Linen Included Free City Maps Free WiFi   \n",
       "14                           Linen Included Free WiFi   \n",
       "15                                                  -   \n",
       "16                                                  -   \n",
       "17                           Linen Included Free WiFi   \n",
       "18            Linen Included Free City Maps Free WiFi   \n",
       "19  Linen Included Free City Maps Free WiFi Free I...   \n",
       "20                                                  -   \n",
       "21  Linen Included Free City Maps Towels Included ...   \n",
       "22                           Linen Included Free WiFi   \n",
       "23  Linen Included Free City Maps Free WiFi Free I...   \n",
       "24            Linen Included Free City Maps Free WiFi   \n",
       "25  Linen Included Free City Maps Free WiFi Free I...   \n",
       "26  Linen Included Free City Maps Free WiFi Free I...   \n",
       "27            Linen Included Free City Maps Free WiFi   \n",
       "28  Linen Included Free City Maps Free WiFi Free I...   \n",
       "29  Linen Included Free City Maps Free WiFi Free I...   \n",
       "30  Linen Included Free City Maps Free WiFi Free I...   \n",
       "31            Linen Included Free City Maps Free WiFi   \n",
       "32            Linen Included Free City Maps Free WiFi   \n",
       "\n",
       "                                 property_description  \n",
       "0   A safe haven in the middle of the metropolis: ...  \n",
       "1                                                   -  \n",
       "2                                                   -  \n",
       "3   A safe haven in the middle of the metropolis: ...  \n",
       "4                                                   -  \n",
       "5                                                   -  \n",
       "6   Welcome to NX London Hostel!\\n\\nPLEASE READ IN...  \n",
       "7   The perfect place for solo travelers to connec...  \n",
       "8   Welcome to Urbany Hostel London! Ideal for the...  \n",
       "9   Come join us at our newest Onefam location in ...  \n",
       "10  For Great Facilities, Comfort & Affordability ...  \n",
       "11                                                  -  \n",
       "12                                                  -  \n",
       "13                                                  -  \n",
       "14  At No.8 we take pride in our Customer Service ...  \n",
       "15  Smart Hyde Park Inn Hostel is perfectly locate...  \n",
       "16                                                  -  \n",
       "17  Safestay Holland Park\\n\\nSafestay Holland Park...  \n",
       "18                                                  -  \n",
       "19  Hostelle is the first and only all-women hoste...  \n",
       "20  PLEASE NOTE WE ONLY ACCEPT GUESTS FROM THE AGE...  \n",
       "21  The hostel is housed in a historic building in...  \n",
       "22                                                  -  \n",
       "23  IMPORTANT NOTICE: \\n\\nThis hostel is for 18 - ...  \n",
       "24                                                  -  \n",
       "25                                                  -  \n",
       "26                                                  -  \n",
       "27                                                  -  \n",
       "28  The Phoenix Bar & Hostel, housed in a homely E...  \n",
       "29                                                  -  \n",
       "30  Our Liverpool Street hostel is the newest of o...  \n",
       "31                                                  -  \n",
       "32                                                  -  "
      ]
     },
     "execution_count": 171,
     "metadata": {},
     "output_type": "execute_result"
    }
   ],
   "source": [
    "import pandas as pd\n",
    "df=pd.DataFrame({'hostel_name':hostel_name,'distance_from_city_sentre':distance_from_city_centre,'rating':ratings,'total_reviews':total_reviews,'private_from_price':privates_from_price,'dorms_from_price':dorms_from_price,'facilities':facilities,'property_description':property_description})\n",
    "df"
   ]
  }
 ],
 "metadata": {
  "kernelspec": {
   "display_name": "Python 3 (ipykernel)",
   "language": "python",
   "name": "python3"
  },
  "language_info": {
   "codemirror_mode": {
    "name": "ipython",
    "version": 3
   },
   "file_extension": ".py",
   "mimetype": "text/x-python",
   "name": "python",
   "nbconvert_exporter": "python",
   "pygments_lexer": "ipython3",
   "version": "3.11.5"
  }
 },
 "nbformat": 4,
 "nbformat_minor": 5
}
