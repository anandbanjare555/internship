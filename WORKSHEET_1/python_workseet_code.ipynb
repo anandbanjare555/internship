{
 "cells": [
  {
   "cell_type": "markdown",
   "id": "7b22cf44",
   "metadata": {},
   "source": [
    " # 11. Write a python program to find the factorial of a number.\n"
   ]
  },
  {
   "cell_type": "code",
   "execution_count": 24,
   "id": "db21a2b3",
   "metadata": {},
   "outputs": [],
   "source": [
    "\n",
    "def factorial(n):\n",
    "    if n < 0:\n",
    "        return \"Factorial is not defined for negative numbers\"\n",
    "    elif n == 0 or n == 1:\n",
    "        return 1\n",
    "    else:\n",
    "        result = 1\n",
    "        for i in range(2, n + 1):\n",
    "            result *= i\n",
    "        return result"
   ]
  },
  {
   "cell_type": "code",
   "execution_count": 31,
   "id": "2331298f",
   "metadata": {},
   "outputs": [
    {
     "name": "stdout",
     "output_type": "stream",
     "text": [
      "Enter a number: 8\n",
      "The factorial of 8 is: 40320\n"
     ]
    }
   ],
   "source": [
    "number = int(input(\"Enter a number: \"))\n",
    "print(f\"The factorial of {number} is: {factorial(number)}\")"
   ]
  },
  {
   "cell_type": "markdown",
   "id": "3a77b968",
   "metadata": {},
   "source": [
    "# 12. Write a python program to find whether a number is prime or composite"
   ]
  },
  {
   "cell_type": "code",
   "execution_count": 49,
   "id": "07f0d9b0",
   "metadata": {},
   "outputs": [],
   "source": [
    "def is_prime(num):\n",
    "    if num < 2:\n",
    "        return f\"{num} is neither prime nor composite\"\n",
    "    elif num == 2:\n",
    "        return f\"{num} is a prime number\"\n",
    "    else:\n",
    "        for i in range(2, int(num**0.5) + 1):\n",
    "            if num % i == 0:\n",
    "                return f\"{num} is a composite number\"\n",
    "        return f\"{num} is a prime number\"\n",
    "\n"
   ]
  },
  {
   "cell_type": "code",
   "execution_count": 53,
   "id": "64a9487f",
   "metadata": {},
   "outputs": [
    {
     "name": "stdout",
     "output_type": "stream",
     "text": [
      "Enter a number: 97\n",
      "97 is a prime number\n"
     ]
    }
   ],
   "source": [
    "number = int(input(\"Enter a number: \"))\n",
    "print(is_prime(number))"
   ]
  },
  {
   "cell_type": "markdown",
   "id": "7bb2bc22",
   "metadata": {},
   "source": [
    "# 13. Write a python program to check whether a given string is palindrome or not\n"
   ]
  },
  {
   "cell_type": "code",
   "execution_count": 66,
   "id": "c110d9a6",
   "metadata": {},
   "outputs": [],
   "source": [
    "def is_palindrome(s):\n",
    "    s = s.lower()\n",
    "    s = s.replace(\" \", \"\")\n",
    "    return s == s[::-1]"
   ]
  },
  {
   "cell_type": "code",
   "execution_count": 81,
   "id": "a122384e",
   "metadata": {},
   "outputs": [
    {
     "name": "stdout",
     "output_type": "stream",
     "text": [
      "Enter a string: 7\n",
      "7 is a palindrome.\n"
     ]
    }
   ],
   "source": [
    "input_string = input(\"Enter a string: \")\n",
    "if is_palindrome(input_string):\n",
    "    print(f\"{input_string} is a palindrome.\")\n",
    "else:\n",
    "    print(f\"{input_string} is not a palindrome.\")"
   ]
  },
  {
   "cell_type": "markdown",
   "id": "79ea475e",
   "metadata": {},
   "source": [
    " # 14. Write a Python program to get the third side of right-angled triangle from two given sides.\n"
   ]
  },
  {
   "cell_type": "code",
   "execution_count": 56,
   "id": "4d5c3f49",
   "metadata": {},
   "outputs": [],
   "source": [
    "import math\n",
    "import numpy as np"
   ]
  },
  {
   "cell_type": "code",
   "execution_count": 83,
   "id": "d6d834f3",
   "metadata": {},
   "outputs": [],
   "source": [
    "def find_third_side(side1, side2):\n",
    "    third_side = math.sqrt(side1**2 + side2**2)\n",
    "    return third_side"
   ]
  },
  {
   "cell_type": "code",
   "execution_count": 85,
   "id": "85c8b701",
   "metadata": {},
   "outputs": [
    {
     "name": "stdout",
     "output_type": "stream",
     "text": [
      " first side: 3\n",
      "second side: 4\n",
      " third side : 5.0\n"
     ]
    }
   ],
   "source": [
    "side1 = float(input(\" first side: \"))\n",
    "side2 = float(input(\"second side: \"))\n",
    "\n",
    "if side1 > 0 and side2 > 0:\n",
    "    third_side = find_third_side(side1, side2)\n",
    "    print(f\" third side : {third_side}\")\n",
    "else:\n",
    "    print(\"Please enter valid positive values for the sides of the triangle.\")"
   ]
  },
  {
   "cell_type": "markdown",
   "id": "c1982cab",
   "metadata": {},
   "source": [
    "# 15. Write a python program to print the frequency of each of the characters present in a given string."
   ]
  },
  {
   "cell_type": "code",
   "execution_count": 167,
   "id": "51411e88",
   "metadata": {},
   "outputs": [],
   "source": [
    "def char_frequency(string):\n",
    "    frequency = {}\n",
    "    for char in string:\n",
    "        if char in frequency:\n",
    "            frequency[char] += 1\n",
    "        else:\n",
    "            frequency[char] = 1\n",
    "    for char, count in frequency.items():\n",
    "        print(f\"The character '{char}' appears {count} times.\")"
   ]
  },
  {
   "cell_type": "code",
   "execution_count": 169,
   "id": "989b1abc",
   "metadata": {},
   "outputs": [
    {
     "name": "stdout",
     "output_type": "stream",
     "text": [
      "Enter a string: 234567898765432456786543443244687345235435443435455345\n",
      "The character '2' appears 4 times.\n",
      "The character '3' appears 10 times.\n",
      "The character '4' appears 15 times.\n",
      "The character '5' appears 11 times.\n",
      "The character '6' appears 5 times.\n",
      "The character '7' appears 4 times.\n",
      "The character '8' appears 4 times.\n",
      "The character '9' appears 1 times.\n"
     ]
    }
   ],
   "source": [
    "user_input = input(\"Enter a string: \")\n",
    "char_frequency(user_input)"
   ]
  },
  {
   "cell_type": "code",
   "execution_count": null,
   "id": "4e40ff34",
   "metadata": {},
   "outputs": [],
   "source": []
  }
 ],
 "metadata": {
  "kernelspec": {
   "display_name": "Python 3 (ipykernel)",
   "language": "python",
   "name": "python3"
  },
  "language_info": {
   "codemirror_mode": {
    "name": "ipython",
    "version": 3
   },
   "file_extension": ".py",
   "mimetype": "text/x-python",
   "name": "python",
   "nbconvert_exporter": "python",
   "pygments_lexer": "ipython3",
   "version": "3.11.5"
  }
 },
 "nbformat": 4,
 "nbformat_minor": 5
}
