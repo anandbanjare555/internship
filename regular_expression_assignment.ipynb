{
 "cells": [
  {
   "cell_type": "markdown",
   "id": "571fa31f",
   "metadata": {},
   "source": [
    "# Question 1- Write a Python program to replace all occurrences of a space, comma, or dot with a colon.\n",
    "# Sample Text- 'Python Exercises, PHP exercises.'\n",
    "# Expected Output: Python:Exercises::PHP:exercises:\n"
   ]
  },
  {
   "cell_type": "code",
   "execution_count": 41,
   "id": "d9c2a20a",
   "metadata": {},
   "outputs": [
    {
     "name": "stdout",
     "output_type": "stream",
     "text": [
      "Python:Exercises::PHP:exercises:\n"
     ]
    }
   ],
   "source": [
    "def characters(text):\n",
    "    replacement_chars = [' ', ',', '.']\n",
    "    for char in replacement_chars:\n",
    "        text = text.replace(char, ':')\n",
    "    return text\n",
    "sample = 'Python Exercises, PHP exercises.'\n",
    "result = characters(sample)\n",
    "print( result)\n"
   ]
  },
  {
   "cell_type": "markdown",
   "id": "9635fe0c",
   "metadata": {},
   "source": [
    "# Question 2-  Create a dataframe using the dictionary below and remove everything (commas (,), !, XXXX, ;, etc.) from the columns except words.\n",
    "# Dictionary- {'SUMMARY' : ['hello, world!', 'XXXXX test', '123four, five:; six...']}\n",
    "# Expected output-\n",
    "0      hello world\n",
    "1             test\n",
    "2    four five six\n"
   ]
  },
  {
   "cell_type": "code",
   "execution_count": 44,
   "id": "20bd38f6",
   "metadata": {},
   "outputs": [],
   "source": [
    "import pandas as pd\n",
    "import re"
   ]
  },
  {
   "cell_type": "code",
   "execution_count": 63,
   "id": "fc834589",
   "metadata": {},
   "outputs": [
    {
     "name": "stdout",
     "output_type": "stream",
     "text": [
      "         summary\n",
      "0    hello world\n",
      "1           test\n",
      "2  four five six\n"
     ]
    }
   ],
   "source": [
    "\n",
    "dictanary={'summary':['hello, world','test','123four, five:; six...']}\n",
    "df=pd.DataFrame(dictanary)\n",
    "# removing unwanted character using regex(re.sub)\n",
    "df['summary'] = df['summary'].apply(lambda x: re.sub(r'[^a-zA-Z\\s]','', x))\n",
    "\n",
    "print(df)"
   ]
  },
  {
   "cell_type": "markdown",
   "id": "b90bb992",
   "metadata": {},
   "source": [
    "# Question 3- Create a function in python to find all words that are at least 4 characters long in a string. The use of the re.compile() method is mandatory."
   ]
  },
  {
   "cell_type": "code",
   "execution_count": 66,
   "id": "30263edb",
   "metadata": {},
   "outputs": [],
   "source": [
    "import re"
   ]
  },
  {
   "cell_type": "code",
   "execution_count": 111,
   "id": "7657a491",
   "metadata": {},
   "outputs": [],
   "source": [
    "def words(string):\n",
    "    pattern = re.compile(r'\\b\\w{4,}\\b')\n",
    "# Use findall to get all match\n",
    "    long_words = pattern.findall(string)\n",
    "    return long_words"
   ]
  },
  {
   "cell_type": "code",
   "execution_count": 112,
   "id": "ed7db5a1",
   "metadata": {},
   "outputs": [
    {
     "name": "stdout",
     "output_type": "stream",
     "text": [
      "['want', 'become', 'professional', 'data', 'scientist', 'that', 'have', 'improve', 'porfolio', 'projects', 'write', 'assignments', 'given', 'flip', 'robo', 'technology']\n"
     ]
    }
   ],
   "source": [
    "# Example : you can write any wrods in this input\n",
    "input_text = \"i want to become a professional data scientist for that i have to improve my porfolio of projects,write assignments given by flip robo technology \"\n",
    "result = words(input_text)\n",
    "print(result)"
   ]
  },
  {
   "cell_type": "markdown",
   "id": "10041001",
   "metadata": {},
   "source": [
    "# Question 4- Create a function in python to find all three, four, and five character words in a string. The use of the re.compile() method is mandatory."
   ]
  },
  {
   "cell_type": "code",
   "execution_count": 102,
   "id": "cbac37b2",
   "metadata": {},
   "outputs": [],
   "source": [
    "import re"
   ]
  },
  {
   "cell_type": "code",
   "execution_count": 114,
   "id": "34fca3be",
   "metadata": {},
   "outputs": [],
   "source": [
    "def words(string):\n",
    "    pattern=re.compile(r'\\b\\w{3,5}\\b')\n",
    "    longwords=pattern.findall(string)\n",
    "    return longwords"
   ]
  },
  {
   "cell_type": "code",
   "execution_count": 126,
   "id": "d10c52ec",
   "metadata": {},
   "outputs": [
    {
     "name": "stdout",
     "output_type": "stream",
     "text": [
      "['data', 'who', 'work', 'filp', 'robo']\n"
     ]
    }
   ],
   "source": [
    "# example\n",
    "test='i am a data science student currently i am an intern who work in filp robo technology'\n",
    "result=words(test)\n",
    "print(result)"
   ]
  },
  {
   "cell_type": "markdown",
   "id": "1ef87882",
   "metadata": {},
   "source": [
    "# Question 5- Create a function in Python to remove the parenthesis in a list of strings. The use of the re.compile() method is mandatory.\n",
    "# Sample Text: [\"example (.com)\", \"hr@fliprobo (.com)\", \"github (.com)\", \"Hello (Data Science World)\", \"Data (Scientist)\"]\n",
    "# Expected Output:\n",
    "example.com\n",
    "hr@fliprobo.com\n",
    "github.com\n",
    "Hello Data Science World\n"
   ]
  },
  {
   "cell_type": "code",
   "execution_count": 127,
   "id": "d2a7baf4",
   "metadata": {},
   "outputs": [],
   "source": [
    "import re"
   ]
  },
  {
   "cell_type": "code",
   "execution_count": 132,
   "id": "9986bdd6",
   "metadata": {},
   "outputs": [],
   "source": [
    "def removeing(parentheses):\n",
    "    pattern=re.compile(r'\\([^)]*\\)')\n",
    "    string=[pattern.sub('',string) for string in parentheses]\n",
    "    return(string)"
   ]
  },
  {
   "cell_type": "code",
   "execution_count": 134,
   "id": "2c971e61",
   "metadata": {},
   "outputs": [
    {
     "name": "stdout",
     "output_type": "stream",
     "text": [
      "['example ', 'hr@fliprobo ', 'github ', 'Hello ', 'Data ']\n"
     ]
    }
   ],
   "source": [
    "sample=[\"example (.com)\", \"hr@fliprobo (.com)\", \"github (.com)\", \"Hello (Data Science World)\", \"Data (Scientist)\"]\n",
    "result=removeing(sample)\n",
    "print(result)"
   ]
  },
  {
   "cell_type": "markdown",
   "id": "a25b074e",
   "metadata": {},
   "source": [
    "# Question 6- Write a python program to remove the parenthesis area from the text stored in the text file using Regular Expression.\n",
    "# Sample Text: [\"example (.com)\", \"hr@fliprobo (.com)\", \"github (.com)\", \"Hello (Data Science World)\", \"Data (Scientist)\"]\n",
    "# Expected Output: [\"example\", \"hr@fliprobo\", \"github\", \"Hello\", \"Data\"]\n",
    "Note- Store given sample text in the text file and then to remove the parenthesis area from the text.\n",
    "\n"
   ]
  },
  {
   "cell_type": "code",
   "execution_count": 135,
   "id": "25cce9af",
   "metadata": {},
   "outputs": [],
   "source": [
    "import re"
   ]
  },
  {
   "cell_type": "code",
   "execution_count": 169,
   "id": "d78455f6",
   "metadata": {},
   "outputs": [],
   "source": [
    "def remove(text):\n",
    "    pattern = re.compile(r'\\([^)]*\\)') \n",
    "    return pattern.sub('', text)  \n"
   ]
  },
  {
   "cell_type": "code",
   "execution_count": 172,
   "id": "7d054946",
   "metadata": {},
   "outputs": [],
   "source": [
    "def process(lines):\n",
    "    return [remove(line) for line in lines]"
   ]
  },
  {
   "cell_type": "code",
   "execution_count": 173,
   "id": "aec307ad",
   "metadata": {},
   "outputs": [],
   "source": [
    "sample = [\"example (.com)\", \"hr@fliprobo (.com)\", \"github (.com)\", \"Hello (Data Science World)\", \"Data (Scientist)\"]"
   ]
  },
  {
   "cell_type": "code",
   "execution_count": 176,
   "id": "3fc561c6",
   "metadata": {},
   "outputs": [],
   "source": [
    "text = process(sample)\n"
   ]
  },
  {
   "cell_type": "code",
   "execution_count": 177,
   "id": "78cbb40a",
   "metadata": {},
   "outputs": [
    {
     "name": "stdout",
     "output_type": "stream",
     "text": [
      "['example ', 'hr@fliprobo ', 'github ', 'Hello ', 'Data ']\n"
     ]
    }
   ],
   "source": [
    "print(text)"
   ]
  },
  {
   "cell_type": "markdown",
   "id": "d9b2c7ec",
   "metadata": {},
   "source": [
    "# Question 7- Write a regular expression in Python to split a string into uppercase letters.\n",
    "# Sample text: “ImportanceOfRegularExpressionsInPython”\n",
    "# Expected Output: [‘Importance’, ‘Of’, ‘Regular’, ‘Expression’, ‘In’, ‘Python’]\n"
   ]
  },
  {
   "cell_type": "code",
   "execution_count": 194,
   "id": "1371b07b",
   "metadata": {},
   "outputs": [],
   "source": [
    "samples = \"ImportanceOfRegularExpressionsInPython\""
   ]
  },
  {
   "cell_type": "code",
   "execution_count": 205,
   "id": "d023f4d9",
   "metadata": {},
   "outputs": [],
   "source": [
    "split = re.compile(r'[A-Z][a-z]*')\n"
   ]
  },
  {
   "cell_type": "code",
   "execution_count": 213,
   "id": "a95585f3",
   "metadata": {},
   "outputs": [],
   "source": [
    "result = split.findall(samples)\n"
   ]
  },
  {
   "cell_type": "code",
   "execution_count": 214,
   "id": "a07d6556",
   "metadata": {},
   "outputs": [
    {
     "name": "stdout",
     "output_type": "stream",
     "text": [
      "['Importance', 'Of', 'Regular', 'Expressions', 'In', 'Python']\n"
     ]
    }
   ],
   "source": [
    "print(result)\n"
   ]
  },
  {
   "cell_type": "markdown",
   "id": "1ae5925d",
   "metadata": {},
   "source": [
    "# Question 8- Create a function in python to insert spaces between words starting with numbers.\n",
    "# Sample Text: “RegularExpression1IsAn2ImportantTopic3InPython\"\n",
    "#  Expected Output: RegularExpression 1IsAn 2ImportantTopic 3InPython\n"
   ]
  },
  {
   "cell_type": "code",
   "execution_count": 215,
   "id": "44b0843b",
   "metadata": {},
   "outputs": [],
   "source": [
    "import re"
   ]
  },
  {
   "cell_type": "code",
   "execution_count": 229,
   "id": "d92d51f2",
   "metadata": {},
   "outputs": [],
   "source": [
    "def spaces(text):\n",
    "    result = re.sub(r'(\\d)([A-Za-z])', r'\\1 \\2', text)\n",
    "    return result\n"
   ]
  },
  {
   "cell_type": "code",
   "execution_count": 237,
   "id": "6ca73d51",
   "metadata": {},
   "outputs": [],
   "source": [
    "sample_text = \"RegularExpression1IsAn2ImportantTopic3InPython\"\n"
   ]
  },
  {
   "cell_type": "code",
   "execution_count": 238,
   "id": "b679c200",
   "metadata": {},
   "outputs": [
    {
     "name": "stdout",
     "output_type": "stream",
     "text": [
      "RegularExpression1 IsAn2 ImportantTopic3 InPython\n"
     ]
    }
   ],
   "source": [
    "output = spaces(sample_text)\n",
    "print(output)\n",
    "\n"
   ]
  },
  {
   "cell_type": "markdown",
   "id": "9e61bf2d",
   "metadata": {},
   "source": [
    "# Question 9- Create a function in python to insert spaces between words starting with capital letters or with numbers.\n",
    "# Sample Text: “RegularExpression1IsAn2ImportantTopic3InPython\"\n",
    "# Expected Output:  RegularExpression 1 IsAn 2 ImportantTopic 3 InPython\n"
   ]
  },
  {
   "cell_type": "code",
   "execution_count": 225,
   "id": "6f5e5130",
   "metadata": {},
   "outputs": [],
   "source": [
    "import re"
   ]
  },
  {
   "cell_type": "code",
   "execution_count": 299,
   "id": "ae55bad5",
   "metadata": {},
   "outputs": [],
   "source": [
    "\n",
    "def insert(text):\n",
    "    result = re.sub(r'([A-Z0-9])', r' \\1', text).strip()\n",
    "    return result"
   ]
  },
  {
   "cell_type": "code",
   "execution_count": 303,
   "id": "17e97556",
   "metadata": {},
   "outputs": [],
   "source": [
    "\n",
    "sample = \"RegularExpression1IsAn2ImportantTopic3InPython\""
   ]
  },
  {
   "cell_type": "code",
   "execution_count": 304,
   "id": "b74a11ce",
   "metadata": {},
   "outputs": [
    {
     "name": "stdout",
     "output_type": "stream",
     "text": [
      "Regular Expression 1 Is An 2 Important Topic 3 In Python\n"
     ]
    }
   ],
   "source": [
    "output = insert(sample)\n",
    "print(output)"
   ]
  },
  {
   "cell_type": "markdown",
   "id": "0f23827e",
   "metadata": {},
   "source": [
    "# Question 10- Use the github link below to read the data and create a dataframe. After creating the dataframe extract the first 6 letters of each country and store in the dataframe under a new column called first_five_letters."
   ]
  },
  {
   "cell_type": "code",
   "execution_count": 305,
   "id": "422087ae",
   "metadata": {},
   "outputs": [],
   "source": [
    "import pandas as pd\n"
   ]
  },
  {
   "cell_type": "code",
   "execution_count": 306,
   "id": "d0d35427",
   "metadata": {},
   "outputs": [],
   "source": [
    "github_link = \"https://raw.githubusercontent.com/dsrscientist/DSData/master/happiness_score_dataset.csv\"\n"
   ]
  },
  {
   "cell_type": "code",
   "execution_count": 309,
   "id": "6c63adce",
   "metadata": {},
   "outputs": [],
   "source": [
    "df=pd.read_csv(github_link)\n",
    "\n"
   ]
  },
  {
   "cell_type": "code",
   "execution_count": 314,
   "id": "5653e771",
   "metadata": {},
   "outputs": [],
   "source": [
    "df['first_six_letters']=df['Country'].str[:6]"
   ]
  },
  {
   "cell_type": "code",
   "execution_count": 317,
   "id": "c7a6d7f8",
   "metadata": {},
   "outputs": [
    {
     "name": "stdout",
     "output_type": "stream",
     "text": [
      "         Country first_six_letters\n",
      "0    Switzerland            Switze\n",
      "1        Iceland            Icelan\n",
      "2        Denmark            Denmar\n",
      "3         Norway            Norway\n",
      "4         Canada            Canada\n",
      "..           ...               ...\n",
      "153       Rwanda            Rwanda\n",
      "154        Benin             Benin\n",
      "155        Syria             Syria\n",
      "156      Burundi            Burund\n",
      "157         Togo              Togo\n",
      "\n",
      "[158 rows x 2 columns]\n"
     ]
    }
   ],
   "source": [
    "print(df[['Country','first_six_letters']])"
   ]
  },
  {
   "cell_type": "code",
   "execution_count": 324,
   "id": "ab47623e",
   "metadata": {},
   "outputs": [],
   "source": [
    "df['first_eight_letters']=df['Country'].str[:8]"
   ]
  },
  {
   "cell_type": "code",
   "execution_count": 325,
   "id": "150ee722",
   "metadata": {},
   "outputs": [
    {
     "name": "stdout",
     "output_type": "stream",
     "text": [
      "         Country first_eight_letters\n",
      "0    Switzerland            Switzerl\n",
      "1        Iceland             Iceland\n",
      "2        Denmark             Denmark\n",
      "3         Norway              Norway\n",
      "4         Canada              Canada\n",
      "..           ...                 ...\n",
      "153       Rwanda              Rwanda\n",
      "154        Benin               Benin\n",
      "155        Syria               Syria\n",
      "156      Burundi             Burundi\n",
      "157         Togo                Togo\n",
      "\n",
      "[158 rows x 2 columns]\n"
     ]
    }
   ],
   "source": [
    "print(df[['Country','first_eight_letters']])"
   ]
  },
  {
   "cell_type": "markdown",
   "id": "7a1580a7",
   "metadata": {},
   "source": [
    "# Question 11- Write a Python program to match a string that contains only upper and lowercase letters, numbers, and underscores."
   ]
  },
  {
   "cell_type": "code",
   "execution_count": 338,
   "id": "10ab8ea0",
   "metadata": {},
   "outputs": [],
   "source": [
    "import re\n"
   ]
  },
  {
   "cell_type": "code",
   "execution_count": 354,
   "id": "6b01ed57",
   "metadata": {},
   "outputs": [],
   "source": [
    "def match(input_string):\n",
    "    pattern = r'^[a-zA-Z0-9_]+$'\n",
    "    \n",
    "    if re.match(pattern, string):\n",
    "        return True\n",
    "    else:\n",
    "        return False"
   ]
  },
  {
   "cell_type": "code",
   "execution_count": 351,
   "id": "bfd66ee4",
   "metadata": {},
   "outputs": [],
   "source": [
    "string = \"Hello123_World\"\n",
    "result = match(string)"
   ]
  },
  {
   "cell_type": "code",
   "execution_count": 355,
   "id": "2049effb",
   "metadata": {},
   "outputs": [
    {
     "name": "stdout",
     "output_type": "stream",
     "text": [
      " \"Hello123_World\" matches the pattern.\n"
     ]
    }
   ],
   "source": [
    "if result:\n",
    "    print( f' \"{string}\" matches the pattern.')\n",
    "else:\n",
    "    print(f' \"{string}\" does not match the pattern.')"
   ]
  },
  {
   "cell_type": "markdown",
   "id": "05d22dca",
   "metadata": {},
   "source": [
    "# Question 12- Write a Python program where a string will start with a specific number. \n"
   ]
  },
  {
   "cell_type": "code",
   "execution_count": 376,
   "id": "d29b9817",
   "metadata": {},
   "outputs": [],
   "source": [
    "\n",
    "def starts_with_number(input_string, specific_number):\n",
    "    number_str = str(specific_number)\n",
    "    if input_string.startswith(number_str):\n",
    "        return True\n",
    "    else:\n",
    "        return False"
   ]
  },
  {
   "cell_type": "code",
   "execution_count": 382,
   "id": "38f02935",
   "metadata": {},
   "outputs": [],
   "source": [
    "test_string = \"42 is the answer.\"\n",
    "specified_number = 42\n",
    "result = starts_with_number(test_string, specified_number)"
   ]
  },
  {
   "cell_type": "code",
   "execution_count": 386,
   "id": "6dc7ae62",
   "metadata": {},
   "outputs": [
    {
     "name": "stdout",
     "output_type": "stream",
     "text": [
      " \"42 is the answer.\" starts with the number 42.\n"
     ]
    }
   ],
   "source": [
    "if result:\n",
    "    print(f' \"{test_string}\" starts with the number {specified_number}.')\n",
    "else:\n",
    "    print(f' \"{test_string}\" does not start with the number {specified_number}.')"
   ]
  },
  {
   "cell_type": "markdown",
   "id": "bb34c8d7",
   "metadata": {},
   "source": [
    "# Question 13- Write a Python program to remove leading zeros from an IP address"
   ]
  },
  {
   "cell_type": "code",
   "execution_count": 418,
   "id": "558ca458",
   "metadata": {},
   "outputs": [],
   "source": [
    "def remove_zeros(address):\n",
    "    return '.'.join(str(int(octet)) for octet in address.split('.'))\n",
    "\n"
   ]
  },
  {
   "cell_type": "code",
   "execution_count": 425,
   "id": "49f8257c",
   "metadata": {},
   "outputs": [],
   "source": [
    "sample_ip = \"192.012.045.001\"\n",
    "modified_ip = remove_zeros(sample_ip)"
   ]
  },
  {
   "cell_type": "code",
   "execution_count": 427,
   "id": "451cda0e",
   "metadata": {},
   "outputs": [
    {
     "name": "stdout",
     "output_type": "stream",
     "text": [
      "Original: 192.012.045.001\n",
      "Modified: 192.12.45.1\n"
     ]
    }
   ],
   "source": [
    "print(f'Original: {sample_ip}')\n",
    "print(f'Modified: {modified_ip}')"
   ]
  },
  {
   "cell_type": "markdown",
   "id": "d552da3e",
   "metadata": {},
   "source": [
    "# Question 14- Write a regular expression in python to match a date string in the form of Month name followed by day number and year stored in a text file.\n",
    "# Sample text :  ' On August 15th 1947 that India was declared independent from British colonialism, and the reins of control were handed over to the leaders of the Country’.\n",
    "# Expected Output- August 15th 1947\n",
    "# Note- Store given sample text in the text file and then extract the date string asked format.\n"
   ]
  },
  {
   "cell_type": "code",
   "execution_count": 217,
   "id": "0d600753",
   "metadata": {},
   "outputs": [],
   "source": [
    "import re"
   ]
  },
  {
   "cell_type": "code",
   "execution_count": 224,
   "id": "00c18f07",
   "metadata": {},
   "outputs": [],
   "source": [
    "def extract_file(file_path):\n",
    "    with open(file_path, 'r') as file:\n",
    "        text = file.read()\n",
    "    pattern = re.compile(r'\\b(?:January|February|March|April|May|June|July|August|September|October|November|December)\\s+\\d{1,2}(?:st|nd|rd|th)?\\s+\\d{4}\\b')\n",
    "    match = pattern.search(text)\n",
    "    if match:\n",
    "        return match.group()\n",
    "    else:\n",
    "        return None"
   ]
  },
  {
   "cell_type": "code",
   "execution_count": 226,
   "id": "e903d5db",
   "metadata": {},
   "outputs": [
    {
     "name": "stdout",
     "output_type": "stream",
     "text": [
      "Extracted Date: August 15th 1947\n"
     ]
    }
   ],
   "source": [
    "def main():\n",
    "    file_path = 'sample_text.txt'\n",
    "    sample_text = 'On August 15th 1947 that India was declared independent from British colonialism, and the reins of control were handed over to the leaders of the Country.'\n",
    "    with open(file_path, 'w') as file:\n",
    "        file.write(sample_text)\n",
    "    result = extract_file(file_path)\n",
    "    print(f'Extracted Date: {result}')\n",
    "\n",
    "if __name__ == \"__main__\":\n",
    "    main()\n"
   ]
  },
  {
   "cell_type": "markdown",
   "id": "ee753d24",
   "metadata": {},
   "source": [
    "# Question 15- Write a Python program to search some literals strings in a string. \n",
    "# Sample text : 'The quick brown fox jumps over the lazy dog.'\n",
    "# Searched words : 'fox', 'dog', 'horse'\n"
   ]
  },
  {
   "cell_type": "code",
   "execution_count": 8,
   "id": "d039534e",
   "metadata": {},
   "outputs": [
    {
     "name": "stdout",
     "output_type": "stream",
     "text": [
      "The word \"fox\" is present in the text.\n",
      "The word \"dog\" is present in the text.\n"
     ]
    }
   ],
   "source": [
    "def search(text, words):\n",
    "    found_words = [word for word in words if word in text]\n",
    "    return found_words\n",
    "sample = 'The quick brown fox jumps over the lazy dog'\n",
    "searched = ['fox', 'dog', 'horse']\n",
    "words = search(sample, searched)\n",
    "for word in words:\n",
    "    print(f'The word \"{word}\" is present in the text.')"
   ]
  },
  {
   "cell_type": "markdown",
   "id": "346a6cbd",
   "metadata": {},
   "source": [
    "# Question 16- Write a Python program to search a literals string in a string and also find the location within the original string where the pattern occurs\n",
    "# Sample text : 'The quick brown fox jumps over the lazy dog.'\n",
    "# Searched words : 'fox'\n"
   ]
  },
  {
   "cell_type": "code",
   "execution_count": 15,
   "id": "21d1e8d6",
   "metadata": {},
   "outputs": [
    {
     "name": "stdout",
     "output_type": "stream",
     "text": [
      "The word \"fox\" is present in the text at index 16.\n"
     ]
    }
   ],
   "source": [
    "def location(text, word):\n",
    "    index = text.find(word)\n",
    "    return index\n",
    "sample = 'The quick brown fox jumps over the lazy dog.'\n",
    "searched = 'fox'\n",
    "index = location(sample, searched)\n",
    "if index != 1:\n",
    "    print(f'The word \"{searched}\" is present in the text at index {index}.')\n",
    "else:\n",
    "    print(f'The word \"{searched}\" is not present in the text.{None}')\n"
   ]
  },
  {
   "cell_type": "markdown",
   "id": "048253db",
   "metadata": {},
   "source": [
    "# Question 17- Write a Python program to find the substrings within a string.\n",
    "# Sample text : 'Python exercises, PHP exercises, C# exercises'\n",
    "# Pattern : 'exercises'.\n"
   ]
  },
  {
   "cell_type": "code",
   "execution_count": 59,
   "id": "ee50c671",
   "metadata": {},
   "outputs": [],
   "source": [
    "def find_substrings(text, pattern):\n",
    "    start_index = 0\n",
    "    occurrences = []\n",
    "    while True:\n",
    "        index = text.find(pattern, start_index)\n",
    "        if index == -1:\n",
    "            break\n",
    "        occurrences.append(index)\n",
    "        start_index = index + 1\n",
    "    return occurrences"
   ]
  },
  {
   "cell_type": "code",
   "execution_count": 74,
   "id": "b792081d",
   "metadata": {},
   "outputs": [],
   "source": [
    "samples = 'Python exercises, PHP exercises, C# exercises'\n",
    "pattern = 'exercises'\n",
    "\n",
    "positions = find_substrings(samples, pattern)"
   ]
  },
  {
   "cell_type": "code",
   "execution_count": 80,
   "id": "4fc44d69",
   "metadata": {},
   "outputs": [
    {
     "name": "stdout",
     "output_type": "stream",
     "text": [
      "The pattern \"exercises\" is present in the text at the following positions: [7, 22, 36]\n"
     ]
    }
   ],
   "source": [
    "if substring_positions:\n",
    "    print(f'The pattern \"{pattern}\" is present in the text at the following positions: {positions}')\n",
    "else:\n",
    "    print(f'The pattern \"{pattern}\" is not present in the text')\n"
   ]
  },
  {
   "cell_type": "markdown",
   "id": "4b94ddc6",
   "metadata": {},
   "source": [
    "# Question 18- Write a Python program to find the occurrence and position of the substrings within a string."
   ]
  },
  {
   "cell_type": "code",
   "execution_count": 84,
   "id": "ca835ccf",
   "metadata": {},
   "outputs": [],
   "source": [
    "def find_substring(text, substring):\n",
    "    occurrences = [index for index in range(len(text)) if text.startswith(substring, index)]\n",
    "    return occurrences\n"
   ]
  },
  {
   "cell_type": "code",
   "execution_count": 91,
   "id": "b59546fa",
   "metadata": {},
   "outputs": [
    {
     "name": "stdout",
     "output_type": "stream",
     "text": [
      "The substring \"exercises\" occurs 3 times in the text.\n",
      "The positions of occurrences are: [7, 22, 36]\n"
     ]
    }
   ],
   "source": [
    "def main():\n",
    "    sample = 'Python exercises, PHP exercises, C# exercises'\n",
    "    substring_find = 'exercises'\n",
    "    substring_occurrences = find_substring(sample_text, substring_find)\n",
    "    if substring_occurrences:\n",
    "        print(f'The substring \"{substring_find}\" occurs {len(substring_occurrences)} times in the text.')\n",
    "        print(f'The positions of occurrences are: {substring_occurrences}')\n",
    "    else:\n",
    "        print(f'The substring \"{substring_to_find}\" is not present in the text.')\n",
    "if __name__ == \"__main__\":\n",
    "    main()"
   ]
  },
  {
   "cell_type": "markdown",
   "id": "e59e1d6e",
   "metadata": {},
   "source": [
    "# Question 19- Write a Python program to convert a date of yyyy-mm-dd format to dd-mm-yyyy format."
   ]
  },
  {
   "cell_type": "code",
   "execution_count": 120,
   "id": "1f886805",
   "metadata": {},
   "outputs": [],
   "source": [
    "from datetime import datetime"
   ]
  },
  {
   "cell_type": "code",
   "execution_count": 121,
   "id": "ec96a1d0",
   "metadata": {},
   "outputs": [],
   "source": [
    "def convert_date_format(input_date):\n",
    "    parsed_date = datetime.strptime(input_date, '%Y-%m-%d')\n",
    "    formatted_date = parsed_date.strftime('%d-%m-%Y')\n",
    "    return formatted_date"
   ]
  },
  {
   "cell_type": "code",
   "execution_count": 122,
   "id": "68aa9ec7",
   "metadata": {},
   "outputs": [],
   "source": [
    "def main():\n",
    "    input_ = '2022-01-07'\n",
    "    output_ = convert_date_format(input_)\n",
    "    print(f'Original date: {input_}')\n",
    "    print(f'Converted date: {output_}')"
   ]
  },
  {
   "cell_type": "code",
   "execution_count": 124,
   "id": "59529bbd",
   "metadata": {},
   "outputs": [
    {
     "name": "stdout",
     "output_type": "stream",
     "text": [
      "Original date: 2022-01-07\n",
      "Converted date: 07-01-2022\n"
     ]
    }
   ],
   "source": [
    "\n",
    "if __name__ == \"__main__\":\n",
    "    main()"
   ]
  },
  {
   "cell_type": "markdown",
   "id": "f4dff69f",
   "metadata": {},
   "source": [
    "# Question 20- Create a function in python to find all decimal numbers with a precision of 1 or 2 in a string. The use of the re.compile() method is mandatory.\n",
    "# Sample Text: \"01.12 0132.123 2.31875 145.8 3.01 27.25 0.25\"\n",
    "# Expected Output: ['01.12', '145.8', '3.01', '27.25', '0.25']\n"
   ]
  },
  {
   "cell_type": "code",
   "execution_count": 128,
   "id": "44e5cc15",
   "metadata": {},
   "outputs": [],
   "source": [
    "import re\n"
   ]
  },
  {
   "cell_type": "code",
   "execution_count": 143,
   "id": "36991fc6",
   "metadata": {},
   "outputs": [],
   "source": [
    "def find_decimal_numbers(input_text):\n",
    "    pattern = re.compile(r'\\b\\d+\\.\\d{1,2}\\b')\n",
    "    decimal_numbers = pattern.findall(input_text)\n",
    "    return decimal_numbers"
   ]
  },
  {
   "cell_type": "code",
   "execution_count": 162,
   "id": "18e46c4b",
   "metadata": {},
   "outputs": [],
   "source": [
    "def main():\n",
    "    sample_text = \"01.12 0132.123 2.31875 145.8 3.01 27.25 0.25\"\n",
    "    result = find_decimal_numbers(sample_text)\n",
    "    print(f'Input Text: {sample_text}')\n",
    "    print(f'Decimal Numbers: {result}')"
   ]
  },
  {
   "cell_type": "code",
   "execution_count": 163,
   "id": "730d7888",
   "metadata": {},
   "outputs": [
    {
     "name": "stdout",
     "output_type": "stream",
     "text": [
      "Input Text: 01.12 0132.123 2.31875 145.8 3.01 27.25 0.25\n",
      "Decimal Numbers: ['01.12', '145.8', '3.01', '27.25', '0.25']\n"
     ]
    }
   ],
   "source": [
    "if __name__ == \"__main__\":\n",
    "    main()"
   ]
  },
  {
   "cell_type": "markdown",
   "id": "e964c893",
   "metadata": {},
   "source": [
    "# Question 21- Write a Python program to separate and print the numbers and their position of a given string."
   ]
  },
  {
   "cell_type": "code",
   "execution_count": 174,
   "id": "cdc0da18",
   "metadata": {},
   "outputs": [],
   "source": [
    "def separate_positions(input_string):\n",
    "    numbers = []\n",
    "    positions = []\n",
    "    for index, char in enumerate(input_string):\n",
    "        if char.isdigit():\n",
    "            numbers.append(char)\n",
    "            positions.append(index + 1) \n",
    "    return numbers, positions"
   ]
  },
  {
   "cell_type": "code",
   "execution_count": 214,
   "id": "fa4944d8",
   "metadata": {},
   "outputs": [
    {
     "name": "stdout",
     "output_type": "stream",
     "text": [
      "Input String: abc123def456ghi7893456ifghjrhdsfgtry\n",
      "Numbers: ['1', '2', '3', '4', '5', '6', '7', '8', '9', '3', '4', '5', '6']\n",
      "Positions: [4, 5, 6, 10, 11, 12, 16, 17, 18, 19, 20, 21, 22]\n"
     ]
    }
   ],
   "source": [
    "def main():\n",
    "    samples = \"abc123def456ghi7893456ifghjrhdsfgtry\"\n",
    "    result_numbers, result_positions = separate_positions(samples)\n",
    "\n",
    "    print(f'Input String: {samples}')\n",
    "    print(f'Numbers: {result_numbers}')\n",
    "    print(f'Positions: {result_positions}')\n",
    "\n",
    "if __name__ == \"__main__\":\n",
    "    main()"
   ]
  },
  {
   "cell_type": "markdown",
   "id": "3d1fbac2",
   "metadata": {},
   "source": [
    "# Question 22- Write a regular expression in python program to extract maximum/largest numeric value from a string.\n",
    "# Sample Text:  'My marks in each semester are: 947, 896, 926, 524, 734, 950, 642'\n",
    "# Expected Output: 950\n"
   ]
  },
  {
   "cell_type": "code",
   "execution_count": 233,
   "id": "9ce4965e",
   "metadata": {},
   "outputs": [],
   "source": [
    "import re\n",
    "\n",
    "def extract_maximum_value(input_text):\n",
    "    numeric_values = [int(match) for match in re.findall(r'\\b\\d+\\b', input_text)]\n",
    "    if numeric_values:\n",
    "        return max(numeric_values)\n",
    "    else:\n",
    "        return None"
   ]
  },
  {
   "cell_type": "code",
   "execution_count": 242,
   "id": "e609e1c5",
   "metadata": {},
   "outputs": [
    {
     "name": "stdout",
     "output_type": "stream",
     "text": [
      "Input Text: My marks in each semester are: 947, 896, 926, 524, 734, 950, 642\n",
      "Maximum Numeric Value: 950\n"
     ]
    }
   ],
   "source": [
    "def main():\n",
    "    samples = 'My marks in each semester are: 947, 896, 926, 524, 734, 950, 642'\n",
    "    result = extract_maximum_value(samples)\n",
    "\n",
    "    if result is not None:\n",
    "        print(f'Input Text: {samples}')\n",
    "        print(f'Maximum Numeric Value: {result}')\n",
    "    else:\n",
    "        print('No numeric values found in the input text.')\n",
    "\n",
    "if __name__ == \"__main__\":\n",
    "    main()\n"
   ]
  },
  {
   "cell_type": "markdown",
   "id": "be9d1c9c",
   "metadata": {},
   "source": [
    "# Question 23- Create a function in python to insert spaces between words starting with capital letters.\n",
    "# Sample Text: “RegularExpressionIsAnImportantTopicInPython\"\n",
    "# Expected Output: Regular Expression Is An Important Topic In Python\n"
   ]
  },
  {
   "cell_type": "code",
   "execution_count": 248,
   "id": "f65ef583",
   "metadata": {},
   "outputs": [],
   "source": [
    "import re"
   ]
  },
  {
   "cell_type": "code",
   "execution_count": 273,
   "id": "d3df1c0a",
   "metadata": {},
   "outputs": [],
   "source": [
    "def capital_words(input_text):\n",
    "    modified_text = re.sub(r'([a-z])([A-Z])', r'\\1 \\2', input_text)\n",
    "    return modified_text"
   ]
  },
  {
   "cell_type": "code",
   "execution_count": 288,
   "id": "6f319222",
   "metadata": {},
   "outputs": [
    {
     "name": "stdout",
     "output_type": "stream",
     "text": [
      "Input Text: RegularExpressionIsAnImportantTopicInPython\n",
      "Modified Text: Regular Expression Is An Important Topic In Python\n"
     ]
    }
   ],
   "source": [
    "def main():\n",
    "    samples= \"RegularExpressionIsAnImportantTopicInPython\"\n",
    "    result = capital_words(samples)\n",
    "    print(f'Input Text: {samples}')\n",
    "    print(f'Modified Text: {result}')\n",
    "if __name__ == \"__main__\":\n",
    "    main()    "
   ]
  },
  {
   "cell_type": "markdown",
   "id": "af9de5ca",
   "metadata": {},
   "source": [
    "# Question 24- Python regex to find sequences of one upper case letter followed by lower case letters"
   ]
  },
  {
   "cell_type": "code",
   "execution_count": 293,
   "id": "fcfded31",
   "metadata": {},
   "outputs": [],
   "source": [
    "import re"
   ]
  },
  {
   "cell_type": "code",
   "execution_count": 294,
   "id": "b8bc36d3",
   "metadata": {},
   "outputs": [],
   "source": [
    "def uppercase_by_lowercase(input_text):\n",
    "    pattern = re.compile(r'\\b[A-Z][a-z]+\\b')\n",
    "    matches = pattern.findall(input_text)\n",
    "    return matches"
   ]
  },
  {
   "cell_type": "code",
   "execution_count": 297,
   "id": "e34146d3",
   "metadata": {},
   "outputs": [
    {
     "name": "stdout",
     "output_type": "stream",
     "text": [
      "Input Text: This is a Sample Text with Some Uppercase Words like Python, Java, and JavaScript\n",
      "Matches: ['This', 'Sample', 'Text', 'Some', 'Uppercase', 'Words', 'Python', 'Java']\n"
     ]
    }
   ],
   "source": [
    "def main():\n",
    "    samples = \"This is a Sample Text with Some Uppercase Words like Python, Java, and JavaScript\"\n",
    "    result = uppercase_by_lowercase(samples)\n",
    "    print(f'Input Text: {samples}')\n",
    "    print(f'Matches: {result}')\n",
    "if __name__ == \"__main__\":\n",
    "    main()"
   ]
  },
  {
   "cell_type": "markdown",
   "id": "13208f74",
   "metadata": {},
   "source": [
    "# Question 25- Write a Python program to remove continuous duplicate words from Sentence using Regular Expression.\n",
    "# Sample Text: \"Hello hello world world\"\n",
    "# Expected Output: Hello hello world\n"
   ]
  },
  {
   "cell_type": "code",
   "execution_count": 228,
   "id": "32e9af36",
   "metadata": {},
   "outputs": [],
   "source": [
    "import re"
   ]
  },
  {
   "cell_type": "code",
   "execution_count": 229,
   "id": "f67e6c18",
   "metadata": {},
   "outputs": [],
   "source": [
    "def remove(input_text):\n",
    "    pattern = re.compile(r'\\b(\\w+)(?:\\s+\\1\\b)+', re.IGNORECASE)\n",
    "    modified_text = pattern.sub(r'\\1', input_text)\n",
    "    return modified_text"
   ]
  },
  {
   "cell_type": "code",
   "execution_count": 231,
   "id": "d0914a25",
   "metadata": {},
   "outputs": [
    {
     "name": "stdout",
     "output_type": "stream",
     "text": [
      "Modified Text: Hello world\n"
     ]
    }
   ],
   "source": [
    "def main():\n",
    "    text= \"Hello hello world world\"\n",
    "    result = remove(text)\n",
    "    print(f'Modified Text: {result}')\n",
    "if __name__ == \"__main__\":\n",
    "    main()"
   ]
  },
  {
   "cell_type": "markdown",
   "id": "3c7876cd",
   "metadata": {},
   "source": [
    "# Question 26-  Write a python program using RegEx to accept string ending with alphanumeric character."
   ]
  },
  {
   "cell_type": "code",
   "execution_count": 315,
   "id": "eab35359",
   "metadata": {},
   "outputs": [],
   "source": [
    "import re"
   ]
  },
  {
   "cell_type": "code",
   "execution_count": 318,
   "id": "d7239c45",
   "metadata": {},
   "outputs": [],
   "source": [
    "def alphanumeric(input_string):\n",
    "    pattern = re.compile(r'\\w$')\n",
    "    return bool(pattern.search(input_string))"
   ]
  },
  {
   "cell_type": "code",
   "execution_count": null,
   "id": "a1da62fa",
   "metadata": {},
   "outputs": [],
   "source": [
    "def main():\n",
    "    user_input = input(\"Enter a string: \")\n",
    "    if alphanumeric(user_input):\n",
    "        print(f'The string \"{user_input}\" ends with an alphanumeric character.')\n",
    "    else:\n",
    "        print(f'The string \"{user_input}\" does not end with an alphanumeric character.')\n",
    "if __name__ == \"__main__\":\n",
    "    main()"
   ]
  },
  {
   "cell_type": "markdown",
   "id": "36f50502",
   "metadata": {},
   "source": [
    "# Question 27-Write a python program using RegEx to extract the hashtags.\n",
    "# Sample Text:  \"\"\"RT @kapil_kausik: #Doltiwal I mean #xyzabc is \"hurt\" by #Demonetization as the same has rendered USELESS <ed><U+00A0><U+00BD><ed><U+00B1><U+0089> \"acquired funds\" No wo\"\"\"\n",
    "# Expected Output: ['#Doltiwal', '#xyzabc', '#Demonetization']\n"
   ]
  },
  {
   "cell_type": "code",
   "execution_count": 64,
   "id": "e856d3d9",
   "metadata": {},
   "outputs": [],
   "source": [
    "import re"
   ]
  },
  {
   "cell_type": "code",
   "execution_count": 72,
   "id": "f7faeb42",
   "metadata": {},
   "outputs": [],
   "source": [
    "def extract_hashtags(input_text):\n",
    "    pattern = re.compile(r'#\\w+')\n",
    "    hashtags = pattern.findall(input_text)\n",
    "    return hashtags"
   ]
  },
  {
   "cell_type": "code",
   "execution_count": 75,
   "id": "0d3aceee",
   "metadata": {},
   "outputs": [
    {
     "name": "stdout",
     "output_type": "stream",
     "text": [
      "Extracted Hashtags: ['#Doltiwal', '#xyzabc', '#Demonetization']\n"
     ]
    }
   ],
   "source": [
    "def main():\n",
    "    samples= \"\"\"RT @kapil_kausik: #Doltiwal I mean #xyzabc is \"hurt\" by #Demonetization as the same has rendered USELESS <ed><U+00A0><U+00BD><ed><U+00B1><U+0089> \"acquired funds\" No wo\"\"\"\n",
    "    result = extract_hashtags(samples)\n",
    "    print(f'Extracted Hashtags: {result}')\n",
    "if __name__ == \"__main__\":\n",
    "    main()"
   ]
  },
  {
   "cell_type": "markdown",
   "id": "3524690f",
   "metadata": {},
   "source": [
    "# Question 28- Write a python program using RegEx to remove <U+..> like symbols\n",
    "# Check the below sample text, there are strange symbols something of the sort <U+..> all over the place. You need to come up with a general Regex expression that will cover all such symbols.\n",
    "# Sample Text: \"@Jags123456 Bharat band on 28??<ed><U+00A0><U+00BD><ed><U+00B8><U+0082>Those who  are protesting #demonetization  are all different party leaders\"\n",
    "# Expected Output: @Jags123456 Bharat band on 28??<ed><ed>Those who  are protesting #demonetization  are all different party leaders\n"
   ]
  },
  {
   "cell_type": "code",
   "execution_count": 77,
   "id": "b112ea52",
   "metadata": {},
   "outputs": [],
   "source": [
    "import re  "
   ]
  },
  {
   "cell_type": "code",
   "execution_count": 91,
   "id": "86ac6501",
   "metadata": {},
   "outputs": [],
   "source": [
    "def symbols(input_text):\n",
    "    pattern = re.compile(r'<U\\+\\w+>')\n",
    "    modified_text = pattern.sub('', input_text)\n",
    "    return modified_text"
   ]
  },
  {
   "cell_type": "code",
   "execution_count": 108,
   "id": "7bbc47b0",
   "metadata": {},
   "outputs": [
    {
     "name": "stdout",
     "output_type": "stream",
     "text": [
      "Modified Text: @Jags123456 Bharat band on 28??<ed><ed>Those who  are protesting #demonetization  are all different party leaders\n"
     ]
    }
   ],
   "source": [
    "def main():\n",
    "    texts = \"@Jags123456 Bharat band on 28??<ed><U+00A0><U+00BD><ed><U+00B8><U+0082>Those who  are protesting #demonetization  are all different party leaders\"\n",
    "    result = symbols(texts)\n",
    "    print(f'Modified Text: {result}')\n",
    "if __name__ == \"__main__\":\n",
    "    main()"
   ]
  },
  {
   "cell_type": "markdown",
   "id": "e695537d",
   "metadata": {},
   "source": [
    "# Question 29- Write a python program to extract dates from the text stored in the text file.\n",
    "# Sample Text: Ron was born on 12-09-1992 and he was admitted to school 15-12-1999.\n",
    "# Note- Store this sample text in the file and then extract dates.\n"
   ]
  },
  {
   "cell_type": "code",
   "execution_count": 116,
   "id": "eba490c9",
   "metadata": {},
   "outputs": [],
   "source": [
    "import re"
   ]
  },
  {
   "cell_type": "code",
   "execution_count": 124,
   "id": "179d0a82",
   "metadata": {},
   "outputs": [],
   "source": [
    "def extract_file(file_path):\n",
    "    with open(file_path, 'r') as file:\n",
    "        text = file.read()\n",
    "    pattern = re.compile(r'\\b\\d{2}-\\d{2}-\\d{4}\\b')\n",
    "    dates = pattern.findall(text)\n",
    "    return dates"
   ]
  },
  {
   "cell_type": "code",
   "execution_count": 152,
   "id": "cad487a4",
   "metadata": {},
   "outputs": [
    {
     "name": "stdout",
     "output_type": "stream",
     "text": [
      "Extracted Dates: ['12-09-1992', '15-12-1999']\n"
     ]
    }
   ],
   "source": [
    "def main():\n",
    "    file_path = 'sample_text.txt'\n",
    "    sample_text = \"\"\"Ron was born on 12-09-1992 and he was admitted to school 15-12-1999.\"\"\"\n",
    "    with open(file_path, 'w') as file:\n",
    "        file.write(sample_text)\n",
    "    result = extract_file(file_path)\n",
    "    print(f'Extracted Dates: {result}')\n",
    "if __name__ == \"__main__\":\n",
    "    main()"
   ]
  },
  {
   "cell_type": "markdown",
   "id": "e631d050",
   "metadata": {},
   "source": [
    "# Question 30- Create a function in python to remove all words from a string of length between 2 and 4.\n",
    "# The use of the re.compile() method is mandatory.\n",
    "# Sample Text: \"The following example creates an ArrayList with a capacity of 50 elements. 4 elements are then added to the ArrayList and the ArrayList is trimmed accordingly.\"\n",
    "# Expected Output:  following example creates ArrayList a capacity elements. 4 elements added ArrayList ArrayList trimmed accordingly.\n"
   ]
  },
  {
   "cell_type": "code",
   "execution_count": 173,
   "id": "df51e52a",
   "metadata": {},
   "outputs": [],
   "source": [
    "import re"
   ]
  },
  {
   "cell_type": "code",
   "execution_count": 183,
   "id": "210a2c3a",
   "metadata": {},
   "outputs": [],
   "source": [
    "def remove_words_by_length(input_text):\n",
    "    pattern = re.compile(r'\\b\\w{2,4}\\b')\n",
    "    modified_text = pattern.sub('', input_text)\n",
    "    return modified_text"
   ]
  },
  {
   "cell_type": "code",
   "execution_count": 194,
   "id": "26a68b89",
   "metadata": {},
   "outputs": [
    {
     "name": "stdout",
     "output_type": "stream",
     "text": [
      "Modified Text:  following example creates  ArrayList  a capacity   elements. 4 elements   added   ArrayList   ArrayList  trimmed accordingly.\n"
     ]
    }
   ],
   "source": [
    "def main():\n",
    "    sample_text = \"The following example creates an ArrayList with a capacity of 50 elements. 4 elements are then added to the ArrayList and the ArrayList is trimmed accordingly.\"\n",
    "    result = remove_words_by_length(sample_text)\n",
    "    print(f'Modified Text: {result}')\n",
    "if __name__ == \"__main__\":\n",
    "    main()\n"
   ]
  }
 ],
 "metadata": {
  "kernelspec": {
   "display_name": "Python 3 (ipykernel)",
   "language": "python",
   "name": "python3"
  },
  "language_info": {
   "codemirror_mode": {
    "name": "ipython",
    "version": 3
   },
   "file_extension": ".py",
   "mimetype": "text/x-python",
   "name": "python",
   "nbconvert_exporter": "python",
   "pygments_lexer": "ipython3",
   "version": "3.11.5"
  }
 },
 "nbformat": 4,
 "nbformat_minor": 5
}
